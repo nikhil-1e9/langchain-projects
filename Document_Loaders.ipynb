{
  "nbformat": 4,
  "nbformat_minor": 0,
  "metadata": {
    "colab": {
      "provenance": [],
      "gpuType": "T4"
    },
    "kernelspec": {
      "name": "python3",
      "display_name": "Python 3"
    },
    "language_info": {
      "name": "python"
    },
    "accelerator": "GPU"
  },
  "cells": [
    {
      "cell_type": "markdown",
      "source": [
        "# Exploring Document Loaders in LangChain"
      ],
      "metadata": {
        "id": "mjyiD8I5r7jB"
      }
    },
    {
      "cell_type": "markdown",
      "source": [
        "## Install OpenAI, HuggingFace and LangChain dependencies"
      ],
      "metadata": {
        "id": "L1KvMtf54l0d"
      }
    },
    {
      "cell_type": "code",
      "source": [
        "!pip install langchain==0.2.0\n",
        "!pip install langchain-openai==0.1.7\n",
        "!pip install langchain-community==0.2.0"
      ],
      "metadata": {
        "id": "2evPp14fy258"
      },
      "execution_count": null,
      "outputs": []
    },
    {
      "cell_type": "code",
      "source": [
        "# takes 2 - 5 mins to install on Colab\n",
        "!pip install \"unstructured[all-docs]==0.14.0\""
      ],
      "metadata": {
        "id": "CB6lHzbz5a10"
      },
      "execution_count": null,
      "outputs": []
    },
    {
      "cell_type": "markdown",
      "source": [
        "After installing `unstructured`above remember to restart your session when it shows you the following popup, if it doesn't go to `Runtime`and `Restart Session`\n",
        "\n",
        "![](https://i.imgur.com/UOBaotk.png)"
      ],
      "metadata": {
        "id": "ZTFImul36TRH"
      }
    },
    {
      "cell_type": "code",
      "source": [
        "# install OCR dependencies for unstructured\n",
        "!sudo apt-get install tesseract-ocr\n",
        "!sudo apt-get install poppler-utils"
      ],
      "metadata": {
        "id": "NhEW-tOywUgt"
      },
      "execution_count": null,
      "outputs": []
    },
    {
      "cell_type": "code",
      "source": [
        "!pip install jq==1.7.0\n",
        "!pip install pypdf==4.2.0\n",
        "!pip install pymupdf==1.24.4"
      ],
      "metadata": {
        "id": "MWNjOhSbRaOw"
      },
      "execution_count": null,
      "outputs": []
    },
    {
      "cell_type": "markdown",
      "source": [
        "## Document Loaders\n",
        "\n",
        "Document loaders are used to import data from various sources into LangChain as `Document` objects. A `Document` typically includes a piece of text along with its associated metadata.\n",
        "\n",
        "### Examples of Document Loaders:\n",
        "\n",
        "- **Text File Loader:** Loads data from a simple `.txt` file.\n",
        "- **Web Page Loader:** Retrieves the text content from any web page.\n",
        "- **YouTube Video Transcript Loader:** Loads transcripts from YouTube videos.\n",
        "\n",
        "### Functionality:\n",
        "\n",
        "- **Load Method:** Each document loader has a `load` method that enables the loading of data as documents from a pre-configured source.\n",
        "- **Lazy Load Option:** Some loaders also support a \"lazy load\" feature, which allows data to be loaded into memory gradually as needed.\n",
        "\n",
        "For more detailed information, visit [LangChain's document loader documentation](https://python.langchain.com/docs/modules/data_connection/document_loaders/).\n"
      ],
      "metadata": {
        "id": "aqX0BkkWZ_e0"
      }
    },
    {
      "cell_type": "markdown",
      "source": [
        "### Text Loader\n",
        "\n",
        "The simplest loader reads in a file as text and places it all into one document.\n",
        "\n"
      ],
      "metadata": {
        "id": "CEx_nNkHLqZY"
      }
    },
    {
      "cell_type": "code",
      "source": [
        "!curl -o README.md https://raw.githubusercontent.com/langchain-ai/langchain/master/README.md"
      ],
      "metadata": {
        "id": "Al7y4r93LKA4"
      },
      "execution_count": null,
      "outputs": []
    },
    {
      "cell_type": "code",
      "source": [
        "from langchain_community.document_loaders import TextLoader\n",
        "\n",
        "loader = TextLoader(\"./README.md\")\n",
        "doc = loader.load()"
      ],
      "metadata": {
        "id": "3ehpI19eLKEo"
      },
      "execution_count": null,
      "outputs": []
    },
    {
      "cell_type": "code",
      "source": [
        "len(doc)"
      ],
      "metadata": {
        "id": "SxR60glzvzQN"
      },
      "execution_count": null,
      "outputs": []
    },
    {
      "cell_type": "code",
      "source": [
        "type(doc[0])"
      ],
      "metadata": {
        "id": "Uu-7i1PcdHpE"
      },
      "execution_count": null,
      "outputs": []
    },
    {
      "cell_type": "code",
      "source": [
        "print(doc[0].page_content[:10000])"
      ],
      "metadata": {
        "id": "FFbJx7Q9LKG4"
      },
      "execution_count": null,
      "outputs": []
    },
    {
      "cell_type": "markdown",
      "source": [
        "### Markdown Loader\n",
        "\n",
        "Markdown is a lightweight markup language for creating formatted text using a plain-text editor.\n",
        "\n",
        "This showcases how to load Markdown documents into a langchain document format that we can use in our pipelines and chains."
      ],
      "metadata": {
        "id": "oTf3za4x7CtK"
      }
    },
    {
      "cell_type": "markdown",
      "source": [
        "Load the whole document"
      ],
      "metadata": {
        "id": "sEmzUQK9_640"
      }
    },
    {
      "cell_type": "code",
      "source": [
        "from langchain_community.document_loaders import UnstructuredMarkdownLoader\n",
        "\n",
        "loader = UnstructuredMarkdownLoader(\"./README.md\", mode='single')\n",
        "docs = loader.load()"
      ],
      "metadata": {
        "id": "D1uZEc-f8TyV"
      },
      "execution_count": null,
      "outputs": []
    },
    {
      "cell_type": "code",
      "source": [
        "len(docs)"
      ],
      "metadata": {
        "id": "DPkNbhXv7Z3B"
      },
      "execution_count": null,
      "outputs": []
    },
    {
      "cell_type": "code",
      "source": [
        "type(docs[0])"
      ],
      "metadata": {
        "id": "m547b2uc8vy9"
      },
      "execution_count": null,
      "outputs": []
    },
    {
      "cell_type": "code",
      "source": [
        "print(docs[0].page_content[:10000])"
      ],
      "metadata": {
        "id": "_gia_n-T8Ytn"
      },
      "execution_count": null,
      "outputs": []
    },
    {
      "cell_type": "markdown",
      "source": [
        "Load document and separate based on elements"
      ],
      "metadata": {
        "id": "AVyZosgZ_-U8"
      }
    },
    {
      "cell_type": "code",
      "source": [
        "from langchain_community.document_loaders import UnstructuredMarkdownLoader\n",
        "\n",
        "loader = UnstructuredMarkdownLoader(\"./README.md\", mode=\"elements\")\n",
        "docs = loader.load()"
      ],
      "metadata": {
        "id": "SOPDX8w85MeG"
      },
      "execution_count": null,
      "outputs": []
    },
    {
      "cell_type": "code",
      "source": [
        "len(docs)"
      ],
      "metadata": {
        "id": "dr4WVaEg-qTr"
      },
      "execution_count": null,
      "outputs": []
    },
    {
      "cell_type": "code",
      "source": [
        "docs[:10]"
      ],
      "metadata": {
        "id": "HpfQwXmD-rji"
      },
      "execution_count": null,
      "outputs": []
    },
    {
      "cell_type": "code",
      "source": [
        "from collections import Counter\n",
        "Counter([doc.metadata['category'] for doc in docs])"
      ],
      "metadata": {
        "id": "EUcCM72S-vHb"
      },
      "execution_count": null,
      "outputs": []
    },
    {
      "cell_type": "markdown",
      "source": [
        "Comparing Unstructured.io loaders vs LangChain wrapper API"
      ],
      "metadata": {
        "id": "7h8Hb5sKABXD"
      }
    },
    {
      "cell_type": "code",
      "source": [
        "from unstructured.partition.md import partition_md\n",
        "\n",
        "docs = partition_md(filename=\"./README.md\")"
      ],
      "metadata": {
        "id": "RZqKGM8q8RpS"
      },
      "execution_count": null,
      "outputs": []
    },
    {
      "cell_type": "code",
      "source": [
        "len(docs)"
      ],
      "metadata": {
        "id": "eQES4WJY80IM"
      },
      "execution_count": null,
      "outputs": []
    },
    {
      "cell_type": "code",
      "source": [
        "docs[:10]"
      ],
      "metadata": {
        "id": "88F0QIA2-_96"
      },
      "execution_count": null,
      "outputs": []
    },
    {
      "cell_type": "code",
      "source": [
        "docs[0].to_dict()"
      ],
      "metadata": {
        "id": "oVGTYLJf7fgC"
      },
      "execution_count": null,
      "outputs": []
    },
    {
      "cell_type": "code",
      "source": [
        "docs[1].to_dict()"
      ],
      "metadata": {
        "id": "FDMICcgV_GiF"
      },
      "execution_count": null,
      "outputs": []
    },
    {
      "cell_type": "code",
      "source": [
        "from langchain_core.documents import Document\n",
        "\n",
        "lc_docs = [Document(page_content=doc.text,\n",
        "                    metadata=doc.metadata.to_dict())\n",
        "              for doc in docs]\n",
        "lc_docs[:10]"
      ],
      "metadata": {
        "id": "g87ZcUNG_Ka_"
      },
      "execution_count": null,
      "outputs": []
    },
    {
      "cell_type": "markdown",
      "source": [
        "### CSV Loader\n",
        "\n",
        "A comma-separated values (CSV) file is a delimited text file that uses a comma to separate values. Each line of the file is a data record. Each record consists of one or more fields, separated by commas.\n",
        "\n",
        "LangChain implements a CSV Loader that will load CSV files into a sequence of `Document` objects. Each row of the CSV file is converted to one document."
      ],
      "metadata": {
        "id": "ZSSBO_Y3fB8P"
      }
    },
    {
      "cell_type": "code",
      "source": [
        "import pandas as pd\n",
        "\n",
        "# Create a DataFrame with some dummy real estate data\n",
        "data = {\n",
        "    'Property_ID': [101, 102, 103, 104, 105],\n",
        "    'Address': ['123 Elm St', '456 Oak St', '789 Pine St', '321 Maple St', '654 Cedar St'],\n",
        "    'City': ['Springfield', 'Rivertown', 'Laketown', 'Hillside', 'Sunnyvale'],\n",
        "    'State': ['CA', 'TX', 'FL', 'NY', 'CO'],\n",
        "    'Zip_Code': [98765, 87654, 76543, 65432, 54321],\n",
        "    'Bedrooms': [3, 2, 4, 3, 5],\n",
        "    'Bathrooms': [2, 1, 3, 2, 4],\n",
        "    'Listing_Price': [500000, 350000, 600000, 475000, 750000]\n",
        "}\n",
        "\n",
        "df = pd.DataFrame(data)\n",
        "\n",
        "# Save the DataFrame to a CSV file\n",
        "df.to_csv('data.csv', index=False)"
      ],
      "metadata": {
        "id": "QuoCrfQUODLt"
      },
      "execution_count": null,
      "outputs": []
    },
    {
      "cell_type": "code",
      "source": [
        "from langchain_community.document_loaders.csv_loader import CSVLoader\n",
        "\n",
        "loader = CSVLoader(file_path=\"./data.csv\")\n",
        "docs = loader.load()"
      ],
      "metadata": {
        "id": "hG-_cJFULKI3"
      },
      "execution_count": null,
      "outputs": []
    },
    {
      "cell_type": "code",
      "source": [
        "docs"
      ],
      "metadata": {
        "id": "Dgrc_HhzLKMF"
      },
      "execution_count": null,
      "outputs": []
    },
    {
      "cell_type": "code",
      "source": [
        "docs[0]"
      ],
      "metadata": {
        "id": "R8vVzwmseaoH"
      },
      "execution_count": null,
      "outputs": []
    },
    {
      "cell_type": "code",
      "source": [
        "print(docs[0].page_content)"
      ],
      "metadata": {
        "id": "LdENGJXQOXA-"
      },
      "execution_count": null,
      "outputs": []
    },
    {
      "cell_type": "markdown",
      "source": [
        "`CSVLoader` will accept a `csv_args` kwarg that supports customization of arguments passed to Python's csv.`DictReader`. See the [`csv` module](https://docs.python.org/3/library/csv.html) documentation for more information of what `csv` args are supported."
      ],
      "metadata": {
        "id": "4HVFIEiiB1Wu"
      }
    },
    {
      "cell_type": "code",
      "source": [
        "loader = CSVLoader(file_path=\"./data.csv\",\n",
        "                   csv_args={\n",
        "                      \"delimiter\": \",\",\n",
        "                      \"quotechar\": '\"',\n",
        "                      \"fieldnames\": [\"Property ID\", \"Address\", \"City\", \"State\",\n",
        "                                     \"Zip Code\", \"Bedrooms\", \"Bathrooms\", \"Price\"],\n",
        "                   },\n",
        "                  )\n",
        "docs = loader.load()"
      ],
      "metadata": {
        "id": "XxLiCAl2CHE2"
      },
      "execution_count": null,
      "outputs": []
    },
    {
      "cell_type": "code",
      "source": [
        "docs"
      ],
      "metadata": {
        "id": "8WuekvnIDShM"
      },
      "execution_count": null,
      "outputs": []
    },
    {
      "cell_type": "markdown",
      "source": [
        "Unstructured.io loads the entire CSV as a single table"
      ],
      "metadata": {
        "id": "VXseBM98BgkG"
      }
    },
    {
      "cell_type": "code",
      "source": [
        "from langchain_community.document_loaders import UnstructuredCSVLoader\n",
        "\n",
        "loader = UnstructuredCSVLoader(\"./data.csv\")\n",
        "docs = loader.load()"
      ],
      "metadata": {
        "id": "89SAdDs7A4eR"
      },
      "execution_count": null,
      "outputs": []
    },
    {
      "cell_type": "code",
      "source": [
        "len(docs)"
      ],
      "metadata": {
        "id": "uvic6kW8BEn3"
      },
      "execution_count": null,
      "outputs": []
    },
    {
      "cell_type": "code",
      "source": [
        "docs[0]"
      ],
      "metadata": {
        "id": "54gFzsugBnad"
      },
      "execution_count": null,
      "outputs": []
    },
    {
      "cell_type": "markdown",
      "source": [
        "### JSON Loader\n",
        "\n",
        "[JSON (JavaScript Object Notation)](https://en.wikipedia.org/wiki/JSON) is an open standard file format and data interchange format that uses human-readable text to store and transmit data objects consisting of attribute–value pairs and arrays (or other serializable values).\n",
        "\n",
        "[JSON Lines](https://jsonlines.org/) is a file format where each line is a valid JSON value.\n",
        "\n",
        "LangChain implements a [JSONLoader](https://api.python.langchain.com/en/latest/document_loaders/langchain_community.document_loaders.json_loader.JSONLoader.html) to convert JSON and JSONL data into LangChain `Document` objects. It uses a specified [`jq` schema](https://en.wikipedia.org/wiki/Jq_(programming_language)) to parse the JSON files, allowing for the extraction of specific fields into the content and metadata of the LangChain Document.\n",
        "\n",
        "It uses the `jq` python package. Check out [this manual](https://jqlang.github.io/jq/manual/) for a detailed documentation of the `jq` syntax."
      ],
      "metadata": {
        "id": "DrHu4ts4fHgH"
      }
    },
    {
      "cell_type": "code",
      "source": [
        "import json\n",
        "\n",
        "# Sample data dictionary similar to the one you provided but with modified contents\n",
        "data = {\n",
        "    'image': {'creation_timestamp': 1675549016, 'uri': 'image_of_the_meeting.jpg'},\n",
        "    'is_still_participant': True,\n",
        "    'joinable_mode': {'link': '', 'mode': 1},\n",
        "    'magic_words': [],\n",
        "    'messages': [\n",
        "        {'content': 'See you soon!',\n",
        "         'sender_name': 'User B',\n",
        "         'timestamp_ms': 1675597571851},\n",
        "        {'content': 'Thanks for the update! See you then.',\n",
        "         'sender_name': 'User A',\n",
        "         'timestamp_ms': 1675597435669},\n",
        "        {'content': 'Actually, the green one is sold out.',\n",
        "         'sender_name': 'User B',\n",
        "         'timestamp_ms': 1675596277579},\n",
        "        {'content': 'I was hoping to purchase the green one!',\n",
        "         'sender_name': 'User A',\n",
        "         'timestamp_ms': 1675595140251},\n",
        "        {'content': 'I’m really interested in the green one, not the red!',\n",
        "         'sender_name': 'User A',\n",
        "         'timestamp_ms': 1675595109305},\n",
        "        {'content': 'Here’s the $150 for it.',\n",
        "         'sender_name': 'User B',\n",
        "         'timestamp_ms': 1675595068468},\n",
        "        {'photos': [{'creation_timestamp': 1675595059,\n",
        "                     'uri': 'image_of_the_item.jpg'}],\n",
        "         'sender_name': 'User B',\n",
        "         'timestamp_ms': 1675595060730},\n",
        "        {'content': 'It typically sells for at least $200 online',\n",
        "         'sender_name': 'User B',\n",
        "         'timestamp_ms': 1675595045152},\n",
        "        {'content': 'How much are you asking?',\n",
        "         'sender_name': 'User A',\n",
        "         'timestamp_ms': 1675594799696},\n",
        "        {'content': 'Good morning! $50 is far too low.',\n",
        "         'sender_name': 'User B',\n",
        "         'timestamp_ms': 1675577876645},\n",
        "        {'content': 'Hello! I’m interested in the item you posted. I can offer $50. Let me know if that works for you. Thanks!',\n",
        "         'sender_name': 'User A',\n",
        "         'timestamp_ms': 1675549022673}\n",
        "    ],\n",
        "    'participants': [{'name': 'User A'}, {'name': 'User B'}],\n",
        "    'thread_path': 'inbox/User A and User B chat',\n",
        "    'title': 'User A and User B chat'\n",
        "}\n",
        "\n",
        "# Save the modified data to a JSON file\n",
        "with open('chat_data.json', 'w') as file:\n",
        "    json.dump(data, file, indent=4)\n"
      ],
      "metadata": {
        "id": "ALFBPgsnOd0L"
      },
      "execution_count": null,
      "outputs": []
    },
    {
      "cell_type": "markdown",
      "source": [
        "To load the full data as a single document"
      ],
      "metadata": {
        "id": "bZ9YwY4xG7KD"
      }
    },
    {
      "cell_type": "code",
      "source": [
        "from langchain_community.document_loaders import JSONLoader\n",
        "\n",
        "loader = JSONLoader(\n",
        "    file_path='./chat_data.json',\n",
        "    jq_schema='.',\n",
        "    text_content=False)\n",
        "\n",
        "data = loader.load()"
      ],
      "metadata": {
        "id": "aD1kjnQRQ0h5"
      },
      "execution_count": null,
      "outputs": []
    },
    {
      "cell_type": "code",
      "source": [
        "len(data)"
      ],
      "metadata": {
        "id": "EQIAvS8rGpNx"
      },
      "execution_count": null,
      "outputs": []
    },
    {
      "cell_type": "code",
      "source": [
        "data"
      ],
      "metadata": {
        "id": "dPmHC3aYRgFA"
      },
      "execution_count": null,
      "outputs": []
    },
    {
      "cell_type": "markdown",
      "source": [
        "Suppose we are interested in extracting the values under the `messages` key of the JSON data"
      ],
      "metadata": {
        "id": "TY48CWHhG_KF"
      }
    },
    {
      "cell_type": "code",
      "source": [
        "loader = JSONLoader(\n",
        "    file_path='./chat_data.json',\n",
        "    jq_schema='.messages[]',\n",
        "    text_content=False)\n",
        "\n",
        "data = loader.load()\n",
        "data"
      ],
      "metadata": {
        "id": "VC5cWidHSFuR"
      },
      "execution_count": null,
      "outputs": []
    },
    {
      "cell_type": "markdown",
      "source": [
        "Suppose we are interested in extracting the values under the `content` field within the `messages` key of the JSON data"
      ],
      "metadata": {
        "id": "HK59yCK3H-C-"
      }
    },
    {
      "cell_type": "code",
      "source": [
        "loader = JSONLoader(\n",
        "    file_path='./chat_data.json',\n",
        "    jq_schema='.messages[].content',\n",
        "    text_content=False)\n",
        "\n",
        "data = loader.load()\n",
        "data"
      ],
      "metadata": {
        "id": "n7Bq2FHlSVb7"
      },
      "execution_count": null,
      "outputs": []
    },
    {
      "cell_type": "markdown",
      "source": [
        "### PDF Loaders\n",
        "\n",
        "[Portable Document Format (PDF)](https://en.wikipedia.org/wiki/PDF), standardized as ISO 32000, is a file format developed by Adobe in 1992 to present documents, including text formatting and images, in a manner independent of application software, hardware, and operating systems.\n",
        "\n",
        "LangChain integrates with a host of PDF parsers. Some are simple and relatively low-level; others will support OCR and image-processing, or perform advanced document layout analysis. The right choice will depend on your use-case and through experimentation.\n",
        "\n",
        "Here we will see how to load PDF documents into the LangChain `Document` format\n",
        "\n",
        "We download a research paper to experiment with"
      ],
      "metadata": {
        "id": "tZB2fxI9fKxC"
      }
    },
    {
      "cell_type": "markdown",
      "source": [
        "If the following command fails you can download the paper manually by going to http://arxiv.org/pdf/2103.15348.pdf, save it as `layoutparser_paper.pdf`and upload it on the left in Colab from the upload files option"
      ],
      "metadata": {
        "id": "p2NWiC51KDbm"
      }
    },
    {
      "cell_type": "code",
      "source": [
        "!wget -O 'layoutparser_paper.pdf' 'http://arxiv.org/pdf/2103.15348.pdf'"
      ],
      "metadata": {
        "id": "t_zMe1cES7Tb"
      },
      "execution_count": null,
      "outputs": []
    },
    {
      "cell_type": "markdown",
      "source": [
        "#### PyPDFLoader\n",
        "\n",
        "Here we load a PDF using `pypdf` into list of documents, where each document contains the page content and metadata with page number. Typically each PDF page becomes one document"
      ],
      "metadata": {
        "id": "Qs1ZBxbxfNXq"
      }
    },
    {
      "cell_type": "code",
      "source": [
        "from langchain_community.document_loaders import PyPDFLoader\n",
        "\n",
        "loader = PyPDFLoader(\"./layoutparser_paper.pdf\")\n",
        "pages = loader.load()"
      ],
      "metadata": {
        "id": "a0be_BLqTI0H"
      },
      "execution_count": null,
      "outputs": []
    },
    {
      "cell_type": "code",
      "source": [
        "len(pages)"
      ],
      "metadata": {
        "id": "gJZo2Hk9hMgb"
      },
      "execution_count": null,
      "outputs": []
    },
    {
      "cell_type": "code",
      "source": [
        "pages[0]"
      ],
      "metadata": {
        "id": "XrqsL5lhToUY"
      },
      "execution_count": null,
      "outputs": []
    },
    {
      "cell_type": "code",
      "source": [
        "print(pages[0].page_content)"
      ],
      "metadata": {
        "id": "8xU5qyqJT7TB"
      },
      "execution_count": null,
      "outputs": []
    },
    {
      "cell_type": "code",
      "source": [
        "print(pages[4].page_content)"
      ],
      "metadata": {
        "id": "KcDMgTfBTrZL"
      },
      "execution_count": null,
      "outputs": []
    },
    {
      "cell_type": "markdown",
      "source": [
        "#### PyMuPDFLoader\n",
        "\n",
        "This is the fastest of the PDF parsing options, and contains detailed metadata about the PDF and its pages, as well as returns one document per page. It uses the `pymupdf` library internally."
      ],
      "metadata": {
        "id": "x_T0_7KtfUJj"
      }
    },
    {
      "cell_type": "code",
      "source": [
        "from langchain_community.document_loaders import PyMuPDFLoader\n",
        "\n",
        "loader = PyMuPDFLoader(\"./layoutparser_paper.pdf\")\n",
        "pages = loader.load()"
      ],
      "metadata": {
        "id": "l3KTMV_3XmfL"
      },
      "execution_count": null,
      "outputs": []
    },
    {
      "cell_type": "code",
      "source": [
        "len(pages)"
      ],
      "metadata": {
        "id": "JXUAxQnJhuHO"
      },
      "execution_count": null,
      "outputs": []
    },
    {
      "cell_type": "code",
      "source": [
        "pages[0]"
      ],
      "metadata": {
        "id": "CZM5poERdRpL"
      },
      "execution_count": null,
      "outputs": []
    },
    {
      "cell_type": "code",
      "source": [
        "pages[0].metadata"
      ],
      "metadata": {
        "id": "Uhr0Y1C90TH0"
      },
      "execution_count": null,
      "outputs": []
    },
    {
      "cell_type": "code",
      "source": [
        "print(pages[0].page_content)"
      ],
      "metadata": {
        "id": "BdaA9hkHXmhs"
      },
      "execution_count": null,
      "outputs": []
    },
    {
      "cell_type": "code",
      "source": [
        "print(pages[4].page_content)"
      ],
      "metadata": {
        "id": "eDxTzEe0Le6I"
      },
      "execution_count": null,
      "outputs": []
    },
    {
      "cell_type": "markdown",
      "source": [
        "#### UnstructuredPDFLoader\n",
        "\n",
        "[Unstructured.io](https://unstructured-io.github.io/unstructured/) supports a common interface for working with unstructured or semi-structured file formats, such as Markdown or PDF. LangChain's [`UnstructuredPDFLoader`](https://api.python.langchain.com/en/latest/document_loaders/langchain_community.document_loaders.pdf.UnstructuredPDFLoader.html) integrates with Unstructured to parse PDF documents into LangChain [`Document`](https://api.python.langchain.com/en/latest/documents/langchain_core.documents.base.Document.html) objects."
      ],
      "metadata": {
        "id": "3Zvyk9ACL8fx"
      }
    },
    {
      "cell_type": "markdown",
      "source": [
        "Load PDF as a single document - no complex parsing"
      ],
      "metadata": {
        "id": "uv4PBKyfR2od"
      }
    },
    {
      "cell_type": "code",
      "source": [
        "from langchain_community.document_loaders import UnstructuredPDFLoader\n",
        "\n",
        "loader = UnstructuredPDFLoader('./layoutparser_paper.pdf')\n",
        "data = loader.load()"
      ],
      "metadata": {
        "id": "Z8qz1HKWMRTf"
      },
      "execution_count": null,
      "outputs": []
    },
    {
      "cell_type": "code",
      "source": [
        "len(data)"
      ],
      "metadata": {
        "id": "nDWTGeMFMbI7"
      },
      "execution_count": null,
      "outputs": []
    },
    {
      "cell_type": "code",
      "source": [
        "print(data[0].page_content[:1000])"
      ],
      "metadata": {
        "id": "UUmEA9qfMdIc"
      },
      "execution_count": null,
      "outputs": []
    },
    {
      "cell_type": "markdown",
      "source": [
        "Load PDF with complex parsing, table detection and chunking by sections"
      ],
      "metadata": {
        "id": "CeB_kHTjR6u5"
      }
    },
    {
      "cell_type": "code",
      "source": [
        "# takes 3-4 mins on Colab\n",
        "loader = UnstructuredPDFLoader('./layoutparser_paper.pdf',\n",
        "                               strategy='hi_res',\n",
        "                               extract_images_in_pdf=False,\n",
        "                               infer_table_structure=True,\n",
        "                               chunking_strategy=\"by_title\",\n",
        "                               max_characters=4000, # max size of chunks\n",
        "                               new_after_n_chars=3800, # preferred size of chunks\n",
        "                               combine_text_under_n_chars=2000, # smaller chunks < 2000 chars will be combined into a larger chunk\n",
        "                               mode='elements')\n",
        "data = loader.load()"
      ],
      "metadata": {
        "id": "pdKdca4RMmY8"
      },
      "execution_count": null,
      "outputs": []
    },
    {
      "cell_type": "code",
      "source": [
        "len(data)"
      ],
      "metadata": {
        "id": "0WvtzXCgMots"
      },
      "execution_count": null,
      "outputs": []
    },
    {
      "cell_type": "code",
      "source": [
        "[doc.metadata['category'] for doc in data]"
      ],
      "metadata": {
        "id": "JM5fCpJNPPiv"
      },
      "execution_count": null,
      "outputs": []
    },
    {
      "cell_type": "code",
      "source": [
        "data[0]"
      ],
      "metadata": {
        "id": "9f7zcYUxMq0t"
      },
      "execution_count": null,
      "outputs": []
    },
    {
      "cell_type": "code",
      "source": [
        "print(data[0].page_content)"
      ],
      "metadata": {
        "id": "XdjS77Fh0oKJ"
      },
      "execution_count": null,
      "outputs": []
    },
    {
      "cell_type": "code",
      "source": [
        "data[5]"
      ],
      "metadata": {
        "id": "six4KwFGPX-S"
      },
      "execution_count": null,
      "outputs": []
    },
    {
      "cell_type": "code",
      "source": [
        "data[5].page_content"
      ],
      "metadata": {
        "id": "AYe9e5K3Pfje"
      },
      "execution_count": null,
      "outputs": []
    },
    {
      "cell_type": "code",
      "source": [
        "from IPython.display import HTML\n",
        "\n",
        "HTML(data[5].metadata['text_as_html'])"
      ],
      "metadata": {
        "id": "nFI5BBDjPoHK"
      },
      "execution_count": null,
      "outputs": []
    },
    {
      "cell_type": "markdown",
      "source": [
        "Load using raw unstructured.io APIs for PDFs"
      ],
      "metadata": {
        "id": "JbzDKmPzSA1H"
      }
    },
    {
      "cell_type": "code",
      "source": [
        "from unstructured.partition.pdf import partition_pdf\n",
        "\n",
        "# Get elements - takes 3-4 mins\n",
        "raw_pdf_elements = partition_pdf(\n",
        "    filename=\"./layoutparser_paper.pdf\",\n",
        "    strategy='hi_res',\n",
        "    # Unstructured first finds embedded image blocks\n",
        "    extract_images_in_pdf=False,\n",
        "    # Use layout model (YOLOX) to get bounding boxes (for tables) and find titles\n",
        "    # Titles are any sub-section of the document\n",
        "    infer_table_structure=True,\n",
        "    # Post processing to aggregate text once we have the title\n",
        "    chunking_strategy=\"by_title\",\n",
        "    # Chunking params to aggregate text blocks\n",
        "    # Attempt to create a new chunk 3800 chars\n",
        "    # Attempt to keep chunks > 2000 chars\n",
        "    max_characters=4000,\n",
        "    new_after_n_chars=3800,\n",
        "    combine_text_under_n_chars=2000,\n",
        "    image_output_dir_path=\"./\",\n",
        ")"
      ],
      "metadata": {
        "id": "_-wpOxHUMwOw"
      },
      "execution_count": null,
      "outputs": []
    },
    {
      "cell_type": "code",
      "source": [
        "len(raw_pdf_elements)"
      ],
      "metadata": {
        "id": "u7QC4wt-St_K"
      },
      "execution_count": null,
      "outputs": []
    },
    {
      "cell_type": "code",
      "source": [
        "raw_pdf_elements"
      ],
      "metadata": {
        "id": "bC6seR7TSZY4"
      },
      "execution_count": null,
      "outputs": []
    },
    {
      "cell_type": "code",
      "source": [
        "raw_pdf_elements[5].to_dict()"
      ],
      "metadata": {
        "id": "8iPAwY5YS0CC"
      },
      "execution_count": null,
      "outputs": []
    },
    {
      "cell_type": "markdown",
      "source": [
        "Convert into LangChain `document`format"
      ],
      "metadata": {
        "id": "QLKjlNBQTHwE"
      }
    },
    {
      "cell_type": "code",
      "source": [
        "from langchain_core.documents import Document\n",
        "\n",
        "lc_docs = [Document(page_content=doc.text,\n",
        "                    metadata=doc.metadata.to_dict())\n",
        "              for doc in raw_pdf_elements]\n",
        "lc_docs[5]"
      ],
      "metadata": {
        "id": "iCFjyenoTMC7"
      },
      "execution_count": null,
      "outputs": []
    },
    {
      "cell_type": "markdown",
      "source": [
        "### Microsoft Office Document Loaders\n",
        "\n",
        "The Microsoft Office suite of productivity software includes Microsoft Word, Microsoft Excel, Microsoft PowerPoint, Microsoft Outlook, and Microsoft OneNote. It is available for Microsoft Windows and macOS operating systems. It is also available on Android and iOS.\n",
        "\n",
        "[Unstructured.io](https://docs.unstructured.io/open-source/introduction/overview) provides a variety of document loaders to load MS Office documents. Check them out [here](https://docs.unstructured.io/open-source/core-functionality/partitioning).\n",
        "\n",
        "Here we will leverage LangChain's [`UnstructuredWordDocumentLoader`](https://api.python.langchain.com/en/latest/document_loaders/langchain_community.document_loaders.word_document.UnstructuredWordDocumentLoader.html) to load data from a MS Word document."
      ],
      "metadata": {
        "id": "QQV0X4grW971"
      }
    },
    {
      "cell_type": "code",
      "source": [
        "!gdown 1DEz13a7k4yX9yFrWaz3QJqHdfecFYRV-"
      ],
      "metadata": {
        "id": "V37elBlCT6Mn"
      },
      "execution_count": null,
      "outputs": []
    },
    {
      "cell_type": "markdown",
      "source": [
        "Load word doc as a single document"
      ],
      "metadata": {
        "id": "uv2b1SZcX4zS"
      }
    },
    {
      "cell_type": "code",
      "source": [
        "from langchain_community.document_loaders import UnstructuredWordDocumentLoader\n",
        "\n",
        "loader = UnstructuredWordDocumentLoader('./Intel Strategy.docx')\n",
        "data = loader.load()"
      ],
      "metadata": {
        "id": "BqYBSoqHT6TY"
      },
      "execution_count": null,
      "outputs": []
    },
    {
      "cell_type": "code",
      "source": [
        "len(data)"
      ],
      "metadata": {
        "id": "zfi8_V9MT6Vl"
      },
      "execution_count": null,
      "outputs": []
    },
    {
      "cell_type": "code",
      "source": [
        "data[0].page_content[:1000]"
      ],
      "metadata": {
        "id": "kznFjlj6T6Xw"
      },
      "execution_count": null,
      "outputs": []
    },
    {
      "cell_type": "markdown",
      "source": [
        "Load word doc with complex parsing and section based chunks"
      ],
      "metadata": {
        "id": "ILz-pXIyX8e0"
      }
    },
    {
      "cell_type": "code",
      "source": [
        "loader = UnstructuredWordDocumentLoader('./Intel Strategy.docx',\n",
        "                                        strategy='fast',\n",
        "                                        chunking_strategy=\"by_title\",\n",
        "                                        max_characters=3000, # max limit of a document chunk\n",
        "                                        new_after_n_chars=2500, # preferred document chunk size\n",
        "                                        mode='elements')\n",
        "data = loader.load()"
      ],
      "metadata": {
        "id": "7cKYWNjAUo1A"
      },
      "execution_count": null,
      "outputs": []
    },
    {
      "cell_type": "code",
      "source": [
        "len(data)"
      ],
      "metadata": {
        "id": "CkOn6t0QVOyE"
      },
      "execution_count": null,
      "outputs": []
    },
    {
      "cell_type": "code",
      "source": [
        "data[0]"
      ],
      "metadata": {
        "id": "IV4cp6yqVQZ1"
      },
      "execution_count": null,
      "outputs": []
    },
    {
      "cell_type": "code",
      "source": [
        "data[3]"
      ],
      "metadata": {
        "id": "mW5UhN9BVTaE"
      },
      "execution_count": null,
      "outputs": []
    },
    {
      "cell_type": "code",
      "source": [
        "data[4]"
      ],
      "metadata": {
        "id": "vVP9nzW_WwhO"
      },
      "execution_count": null,
      "outputs": []
    },
    {
      "cell_type": "markdown",
      "source": [
        "### Directory Loaders\n",
        "\n",
        "LangChain's [`DirectoryLoader`](https://api.python.langchain.com/en/latest/document_loaders/langchain_community.document_loaders.directory.DirectoryLoader.html) implements functionality for reading files from disk into LangChain [`Document`](https://api.python.langchain.com/en/latest/documents/langchain_core.documents.base.Document.html#langchain_core.documents.base.Document) objects."
      ],
      "metadata": {
        "id": "ewBJD6nbfYxg"
      }
    },
    {
      "cell_type": "code",
      "source": [
        "!wget -O 'Vision Transformers.pdf' 'https://arxiv.org/pdf/2010.11929.pdf'"
      ],
      "metadata": {
        "id": "Uvblyc6OZqpe"
      },
      "execution_count": null,
      "outputs": []
    },
    {
      "cell_type": "markdown",
      "source": [
        "We first define and assign specific loaders which can be used by LangChain when processing the files for a specific file type. We follow this format\n",
        "\n",
        "```\n",
        "loaders = {\n",
        "  'file_format_extension' : (LoaderClass, LoaderKeywordArguments)\n",
        "}\n",
        "```\n",
        "\n",
        "Where:\n",
        "\n",
        "- `file_format_extension` can be anything like `.docx`, `.pdf`etc.\n",
        "- `LoaderClass` is a specific data loader like `PyMuPDFLoader`\n",
        "- `LoaderKeywordArguments` are any specific keyword arguments which needs to be passed into that loader at runtime"
      ],
      "metadata": {
        "id": "eCXVqm3Ba2I8"
      }
    },
    {
      "cell_type": "code",
      "source": [
        "# Define a dictionary to map file extensions to their respective loaders\n",
        "loaders = {\n",
        "    '.pdf': (PyMuPDFLoader, {}),\n",
        "    '.docx': (UnstructuredWordDocumentLoader, {'strategy': 'fast',\n",
        "                                              'chunking_strategy' : 'by_title',\n",
        "                                              'max_characters' : 3000, # max limit of a document chunk\n",
        "                                              'new_after_n_chars' : 2500, # preferred document chunk size\n",
        "                                              'mode' : 'elements'\n",
        "                                              })\n",
        "}"
      ],
      "metadata": {
        "id": "1zzlBioka1HR"
      },
      "execution_count": null,
      "outputs": []
    },
    {
      "cell_type": "markdown",
      "source": [
        "`DirectoryLoader` accepts a `loader_cls` argument, which defaults to `UnstructuredLoader` but we can pass our own loaders which we defined above in the `loader_cls`argument and any keyword args for the loader can be passed in the `loader_kwargs` argument.\n",
        "\n",
        "We can also show a progress bar by setting `show_progress=True`\n",
        "\n",
        "We can use the `glob` parameter to control which files to load based on file patterns"
      ],
      "metadata": {
        "id": "EBJZJtsGbnr7"
      }
    },
    {
      "cell_type": "markdown",
      "source": [
        "Here we create two separate loaders to load files which are word documents and PDFs"
      ],
      "metadata": {
        "id": "-mOmj9K-cB14"
      }
    },
    {
      "cell_type": "code",
      "source": [
        "from langchain_community.document_loaders import DirectoryLoader\n",
        "\n",
        "# Define a function to create a DirectoryLoader for a specific file type\n",
        "def create_directory_loader(file_type, directory_path):\n",
        "    return DirectoryLoader(\n",
        "        path=directory_path,\n",
        "        glob=f\"**/*{file_type}\",\n",
        "        loader_cls=loaders[file_type][0],\n",
        "        loader_kwargs=loaders[file_type][1],\n",
        "        show_progress=True\n",
        "    )\n",
        "\n",
        "# Create DirectoryLoader instances for each file type\n",
        "pdf_loader = create_directory_loader('.pdf', './')\n",
        "docx_loader = create_directory_loader('.docx', './')\n",
        "\n",
        "# Load the files\n",
        "pdf_documents = pdf_loader.load()\n",
        "docx_documents = docx_loader.load()"
      ],
      "metadata": {
        "id": "jbnt25HdXmkc"
      },
      "execution_count": null,
      "outputs": []
    },
    {
      "cell_type": "code",
      "source": [
        "len(pdf_documents)"
      ],
      "metadata": {
        "id": "GXYc4p_eXmmt"
      },
      "execution_count": null,
      "outputs": []
    },
    {
      "cell_type": "code",
      "source": [
        "pdf_documents[18]"
      ],
      "metadata": {
        "id": "ze6DA3dGaTln"
      },
      "execution_count": null,
      "outputs": []
    },
    {
      "cell_type": "code",
      "source": [
        "len(docx_documents)"
      ],
      "metadata": {
        "id": "GRVEmiTvXmpn"
      },
      "execution_count": null,
      "outputs": []
    }
  ]
}