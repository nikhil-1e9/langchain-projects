{
  "cells": [
    {
      "cell_type": "markdown",
      "metadata": {
        "id": "XTzBUFWQ-OWj"
      },
      "source": [
        "# Prompt Engineering with LangChain and Gemini for real-world tasks\n",
        "\n",
        "In this notebook we will leverage Google Gemini and LangChain to solve a few usecases based on some real-world scenarios:\n",
        "\n",
        "- 1: Review Analyst\n",
        "- 2: Research Paper Analyst\n",
        "- 3: Social Media Marketing Analyst\n",
        "- 4: IT Support Analyst"
      ]
    },
    {
      "cell_type": "markdown",
      "metadata": {
        "id": "L1KvMtf54l0d"
      },
      "source": [
        "## Install OpenAI and LangChain dependencies"
      ]
    },
    {
      "cell_type": "code",
      "execution_count": 1,
      "metadata": {
        "colab": {
          "base_uri": "https://localhost:8080/"
        },
        "id": "2evPp14fy258",
        "outputId": "52bf2953-7999-49db-88bb-10fc17ca0900"
      },
      "outputs": [
        {
          "name": "stdout",
          "output_type": "stream",
          "text": [
            "Requirement already satisfied: langchain in c:\\users\\relat\\anaconda3\\lib\\site-packages (0.1.17)\n",
            "Requirement already satisfied: PyYAML>=5.3 in c:\\users\\relat\\anaconda3\\lib\\site-packages (from langchain) (6.0)\n",
            "Requirement already satisfied: SQLAlchemy<3,>=1.4 in c:\\users\\relat\\anaconda3\\lib\\site-packages (from langchain) (1.4.27)\n",
            "Requirement already satisfied: aiohttp<4.0.0,>=3.8.3 in c:\\users\\relat\\anaconda3\\lib\\site-packages (from langchain) (3.8.3)\n",
            "Requirement already satisfied: async-timeout<5.0.0,>=4.0.0 in c:\\users\\relat\\anaconda3\\lib\\site-packages (from langchain) (4.0.2)\n",
            "Requirement already satisfied: dataclasses-json<0.7,>=0.5.7 in c:\\users\\relat\\anaconda3\\lib\\site-packages (from langchain) (0.5.14)\n",
            "Requirement already satisfied: jsonpatch<2.0,>=1.33 in c:\\users\\relat\\anaconda3\\lib\\site-packages (from langchain) (1.33)\n",
            "Requirement already satisfied: langchain-community<0.1,>=0.0.36 in c:\\users\\relat\\anaconda3\\lib\\site-packages (from langchain) (0.0.37)\n",
            "Requirement already satisfied: langchain-core<0.2.0,>=0.1.48 in c:\\users\\relat\\anaconda3\\lib\\site-packages (from langchain) (0.1.52)\n",
            "Requirement already satisfied: langchain-text-splitters<0.1,>=0.0.1 in c:\\users\\relat\\anaconda3\\lib\\site-packages (from langchain) (0.0.1)\n",
            "Requirement already satisfied: langsmith<0.2.0,>=0.1.17 in c:\\users\\relat\\anaconda3\\lib\\site-packages (from langchain) (0.1.55)\n",
            "Requirement already satisfied: numpy<2,>=1 in c:\\users\\relat\\anaconda3\\lib\\site-packages (from langchain) (1.24.3)\n",
            "Requirement already satisfied: pydantic<3,>=1 in c:\\users\\relat\\anaconda3\\lib\\site-packages (from langchain) (2.7.1)\n",
            "Requirement already satisfied: requests<3,>=2 in c:\\users\\relat\\anaconda3\\lib\\site-packages (from langchain) (2.31.0)\n",
            "Requirement already satisfied: tenacity<9.0.0,>=8.1.0 in c:\\users\\relat\\anaconda3\\lib\\site-packages (from langchain) (8.2.2)\n",
            "Requirement already satisfied: attrs>=17.3.0 in c:\\users\\relat\\anaconda3\\lib\\site-packages (from aiohttp<4.0.0,>=3.8.3->langchain) (23.2.0)\n",
            "Requirement already satisfied: charset-normalizer<3.0,>=2.0 in c:\\users\\relat\\anaconda3\\lib\\site-packages (from aiohttp<4.0.0,>=3.8.3->langchain) (2.0.4)\n",
            "Requirement already satisfied: multidict<7.0,>=4.5 in c:\\users\\relat\\anaconda3\\lib\\site-packages (from aiohttp<4.0.0,>=3.8.3->langchain) (6.0.2)\n",
            "Requirement already satisfied: yarl<2.0,>=1.0 in c:\\users\\relat\\anaconda3\\lib\\site-packages (from aiohttp<4.0.0,>=3.8.3->langchain) (1.8.1)\n",
            "Requirement already satisfied: frozenlist>=1.1.1 in c:\\users\\relat\\anaconda3\\lib\\site-packages (from aiohttp<4.0.0,>=3.8.3->langchain) (1.3.3)\n",
            "Requirement already satisfied: aiosignal>=1.1.2 in c:\\users\\relat\\anaconda3\\lib\\site-packages (from aiohttp<4.0.0,>=3.8.3->langchain) (1.2.0)\n",
            "Requirement already satisfied: marshmallow<4.0.0,>=3.18.0 in c:\\users\\relat\\anaconda3\\lib\\site-packages (from dataclasses-json<0.7,>=0.5.7->langchain) (3.20.1)\n",
            "Requirement already satisfied: typing-inspect<1,>=0.4.0 in c:\\users\\relat\\anaconda3\\lib\\site-packages (from dataclasses-json<0.7,>=0.5.7->langchain) (0.9.0)\n",
            "Requirement already satisfied: jsonpointer>=1.9 in c:\\users\\relat\\anaconda3\\lib\\site-packages (from jsonpatch<2.0,>=1.33->langchain) (2.4)\n",
            "Requirement already satisfied: packaging<24.0,>=23.2 in c:\\users\\relat\\anaconda3\\lib\\site-packages (from langchain-core<0.2.0,>=0.1.48->langchain) (23.2)\n",
            "Requirement already satisfied: orjson<4.0.0,>=3.9.14 in c:\\users\\relat\\anaconda3\\lib\\site-packages (from langsmith<0.2.0,>=0.1.17->langchain) (3.10.3)\n",
            "Requirement already satisfied: annotated-types>=0.4.0 in c:\\users\\relat\\anaconda3\\lib\\site-packages (from pydantic<3,>=1->langchain) (0.6.0)\n",
            "Requirement already satisfied: pydantic-core==2.18.2 in c:\\users\\relat\\anaconda3\\lib\\site-packages (from pydantic<3,>=1->langchain) (2.18.2)\n",
            "Requirement already satisfied: typing-extensions>=4.6.1 in c:\\users\\relat\\anaconda3\\lib\\site-packages (from pydantic<3,>=1->langchain) (4.11.0)\n",
            "Requirement already satisfied: idna<4,>=2.5 in c:\\users\\relat\\anaconda3\\lib\\site-packages (from requests<3,>=2->langchain) (2.10)\n",
            "Requirement already satisfied: urllib3<3,>=1.21.1 in c:\\users\\relat\\anaconda3\\lib\\site-packages (from requests<3,>=2->langchain) (1.26.16)\n",
            "Requirement already satisfied: certifi>=2017.4.17 in c:\\users\\relat\\anaconda3\\lib\\site-packages (from requests<3,>=2->langchain) (2023.5.7)\n",
            "Requirement already satisfied: greenlet!=0.4.17 in c:\\users\\relat\\anaconda3\\lib\\site-packages (from SQLAlchemy<3,>=1.4->langchain) (2.0.1)\n",
            "Requirement already satisfied: mypy-extensions>=0.3.0 in c:\\users\\relat\\anaconda3\\lib\\site-packages (from typing-inspect<1,>=0.4.0->dataclasses-json<0.7,>=0.5.7->langchain) (0.4.3)\n"
          ]
        },
        {
          "name": "stderr",
          "output_type": "stream",
          "text": [
            "WARNING: Ignoring invalid distribution -upyterlab (c:\\users\\relat\\anaconda3\\lib\\site-packages)\n",
            "WARNING: Ignoring invalid distribution -upyterlab (c:\\users\\relat\\anaconda3\\lib\\site-packages)\n",
            "\n",
            "[notice] A new release of pip is available: 24.0 -> 25.0\n",
            "[notice] To update, run: python.exe -m pip install --upgrade pip\n"
          ]
        },
        {
          "name": "stdout",
          "output_type": "stream",
          "text": [
            "Collecting langchain-google-genai\n",
            "  Downloading langchain_google_genai-2.0.9-py3-none-any.whl.metadata (3.6 kB)\n",
            "Collecting filetype<2.0.0,>=1.2.0 (from langchain-google-genai)\n",
            "  Downloading filetype-1.2.0-py2.py3-none-any.whl.metadata (6.5 kB)\n",
            "Collecting google-generativeai<0.9.0,>=0.8.0 (from langchain-google-genai)\n",
            "  Downloading google_generativeai-0.8.4-py3-none-any.whl.metadata (4.2 kB)\n",
            "Collecting langchain-core<0.4.0,>=0.3.27 (from langchain-google-genai)\n",
            "  Downloading langchain_core-0.3.33-py3-none-any.whl.metadata (6.3 kB)\n",
            "Requirement already satisfied: pydantic<3,>=2 in c:\\users\\relat\\anaconda3\\lib\\site-packages (from langchain-google-genai) (2.7.1)\n",
            "Collecting google-ai-generativelanguage==0.6.15 (from google-generativeai<0.9.0,>=0.8.0->langchain-google-genai)\n",
            "  Downloading google_ai_generativelanguage-0.6.15-py3-none-any.whl.metadata (5.7 kB)\n",
            "Collecting google-api-core (from google-generativeai<0.9.0,>=0.8.0->langchain-google-genai)\n",
            "  Downloading google_api_core-2.24.1-py3-none-any.whl.metadata (3.0 kB)\n",
            "Collecting google-api-python-client (from google-generativeai<0.9.0,>=0.8.0->langchain-google-genai)\n",
            "  Downloading google_api_python_client-2.160.0-py2.py3-none-any.whl.metadata (6.7 kB)\n",
            "Requirement already satisfied: google-auth>=2.15.0 in c:\\users\\relat\\anaconda3\\lib\\site-packages (from google-generativeai<0.9.0,>=0.8.0->langchain-google-genai) (2.16.1)\n",
            "Requirement already satisfied: protobuf in c:\\users\\relat\\anaconda3\\lib\\site-packages (from google-generativeai<0.9.0,>=0.8.0->langchain-google-genai) (3.19.6)\n",
            "Requirement already satisfied: tqdm in c:\\users\\relat\\anaconda3\\lib\\site-packages (from google-generativeai<0.9.0,>=0.8.0->langchain-google-genai) (4.65.0)\n",
            "Requirement already satisfied: typing-extensions in c:\\users\\relat\\anaconda3\\lib\\site-packages (from google-generativeai<0.9.0,>=0.8.0->langchain-google-genai) (4.11.0)\n",
            "Collecting proto-plus<2.0.0dev,>=1.22.3 (from google-ai-generativelanguage==0.6.15->google-generativeai<0.9.0,>=0.8.0->langchain-google-genai)\n",
            "  Downloading proto_plus-1.26.0-py3-none-any.whl.metadata (2.2 kB)\n",
            "Collecting protobuf (from google-generativeai<0.9.0,>=0.8.0->langchain-google-genai)\n",
            "  Downloading protobuf-5.29.3-cp39-cp39-win_amd64.whl.metadata (592 bytes)\n",
            "Requirement already satisfied: PyYAML>=5.3 in c:\\users\\relat\\anaconda3\\lib\\site-packages (from langchain-core<0.4.0,>=0.3.27->langchain-google-genai) (6.0)\n",
            "Requirement already satisfied: jsonpatch<2.0,>=1.33 in c:\\users\\relat\\anaconda3\\lib\\site-packages (from langchain-core<0.4.0,>=0.3.27->langchain-google-genai) (1.33)\n",
            "Collecting langsmith<0.4,>=0.1.125 (from langchain-core<0.4.0,>=0.3.27->langchain-google-genai)\n",
            "  Downloading langsmith-0.3.3-py3-none-any.whl.metadata (14 kB)\n",
            "Requirement already satisfied: packaging<25,>=23.2 in c:\\users\\relat\\anaconda3\\lib\\site-packages (from langchain-core<0.4.0,>=0.3.27->langchain-google-genai) (23.2)\n",
            "Requirement already satisfied: tenacity!=8.4.0,<10.0.0,>=8.1.0 in c:\\users\\relat\\anaconda3\\lib\\site-packages (from langchain-core<0.4.0,>=0.3.27->langchain-google-genai) (8.2.2)\n",
            "Requirement already satisfied: annotated-types>=0.4.0 in c:\\users\\relat\\anaconda3\\lib\\site-packages (from pydantic<3,>=2->langchain-google-genai) (0.6.0)\n",
            "Requirement already satisfied: pydantic-core==2.18.2 in c:\\users\\relat\\anaconda3\\lib\\site-packages (from pydantic<3,>=2->langchain-google-genai) (2.18.2)\n",
            "Collecting googleapis-common-protos<2.0.dev0,>=1.56.2 (from google-api-core->google-generativeai<0.9.0,>=0.8.0->langchain-google-genai)\n",
            "  Downloading googleapis_common_protos-1.66.0-py2.py3-none-any.whl.metadata (1.5 kB)\n",
            "Requirement already satisfied: requests<3.0.0.dev0,>=2.18.0 in c:\\users\\relat\\anaconda3\\lib\\site-packages (from google-api-core->google-generativeai<0.9.0,>=0.8.0->langchain-google-genai) (2.31.0)\n",
            "Requirement already satisfied: cachetools<6.0,>=2.0.0 in c:\\users\\relat\\anaconda3\\lib\\site-packages (from google-auth>=2.15.0->google-generativeai<0.9.0,>=0.8.0->langchain-google-genai) (5.3.0)\n",
            "Requirement already satisfied: pyasn1-modules>=0.2.1 in c:\\users\\relat\\anaconda3\\lib\\site-packages (from google-auth>=2.15.0->google-generativeai<0.9.0,>=0.8.0->langchain-google-genai) (0.2.8)\n",
            "Requirement already satisfied: six>=1.9.0 in c:\\users\\relat\\anaconda3\\lib\\site-packages (from google-auth>=2.15.0->google-generativeai<0.9.0,>=0.8.0->langchain-google-genai) (1.16.0)\n",
            "Requirement already satisfied: rsa<5,>=3.1.4 in c:\\users\\relat\\anaconda3\\lib\\site-packages (from google-auth>=2.15.0->google-generativeai<0.9.0,>=0.8.0->langchain-google-genai) (4.9)\n",
            "Requirement already satisfied: jsonpointer>=1.9 in c:\\users\\relat\\anaconda3\\lib\\site-packages (from jsonpatch<2.0,>=1.33->langchain-core<0.4.0,>=0.3.27->langchain-google-genai) (2.4)\n",
            "Requirement already satisfied: httpx<1,>=0.23.0 in c:\\users\\relat\\anaconda3\\lib\\site-packages (from langsmith<0.4,>=0.1.125->langchain-core<0.4.0,>=0.3.27->langchain-google-genai) (0.27.0)\n",
            "Requirement already satisfied: orjson<4.0.0,>=3.9.14 in c:\\users\\relat\\anaconda3\\lib\\site-packages (from langsmith<0.4,>=0.1.125->langchain-core<0.4.0,>=0.3.27->langchain-google-genai) (3.10.3)\n",
            "Collecting requests-toolbelt<2.0.0,>=1.0.0 (from langsmith<0.4,>=0.1.125->langchain-core<0.4.0,>=0.3.27->langchain-google-genai)\n",
            "  Downloading requests_toolbelt-1.0.0-py2.py3-none-any.whl.metadata (14 kB)\n",
            "Collecting zstandard<0.24.0,>=0.23.0 (from langsmith<0.4,>=0.1.125->langchain-core<0.4.0,>=0.3.27->langchain-google-genai)\n",
            "  Downloading zstandard-0.23.0-cp39-cp39-win_amd64.whl.metadata (3.0 kB)\n",
            "Collecting httplib2<1.dev0,>=0.19.0 (from google-api-python-client->google-generativeai<0.9.0,>=0.8.0->langchain-google-genai)\n",
            "  Using cached httplib2-0.22.0-py3-none-any.whl.metadata (2.6 kB)\n",
            "Collecting google-auth-httplib2<1.0.0,>=0.2.0 (from google-api-python-client->google-generativeai<0.9.0,>=0.8.0->langchain-google-genai)\n",
            "  Using cached google_auth_httplib2-0.2.0-py2.py3-none-any.whl.metadata (2.2 kB)\n",
            "Collecting uritemplate<5,>=3.0.1 (from google-api-python-client->google-generativeai<0.9.0,>=0.8.0->langchain-google-genai)\n",
            "  Using cached uritemplate-4.1.1-py2.py3-none-any.whl.metadata (2.9 kB)\n",
            "Requirement already satisfied: colorama in c:\\users\\relat\\anaconda3\\lib\\site-packages (from tqdm->google-generativeai<0.9.0,>=0.8.0->langchain-google-genai) (0.4.6)\n",
            "Requirement already satisfied: grpcio<2.0dev,>=1.33.2 in c:\\users\\relat\\anaconda3\\lib\\site-packages (from google-api-core[grpc]!=2.0.*,!=2.1.*,!=2.10.*,!=2.2.*,!=2.3.*,!=2.4.*,!=2.5.*,!=2.6.*,!=2.7.*,!=2.8.*,!=2.9.*,<3.0.0dev,>=1.34.1->google-ai-generativelanguage==0.6.15->google-generativeai<0.9.0,>=0.8.0->langchain-google-genai) (1.51.3)\n",
            "Collecting grpcio-status<2.0.dev0,>=1.33.2 (from google-api-core[grpc]!=2.0.*,!=2.1.*,!=2.10.*,!=2.2.*,!=2.3.*,!=2.4.*,!=2.5.*,!=2.6.*,!=2.7.*,!=2.8.*,!=2.9.*,<3.0.0dev,>=1.34.1->google-ai-generativelanguage==0.6.15->google-generativeai<0.9.0,>=0.8.0->langchain-google-genai)\n",
            "  Downloading grpcio_status-1.70.0-py3-none-any.whl.metadata (1.1 kB)\n",
            "Requirement already satisfied: pyparsing!=3.0.0,!=3.0.1,!=3.0.2,!=3.0.3,<4,>=2.4.2 in c:\\users\\relat\\anaconda3\\lib\\site-packages (from httplib2<1.dev0,>=0.19.0->google-api-python-client->google-generativeai<0.9.0,>=0.8.0->langchain-google-genai) (3.0.9)\n",
            "Requirement already satisfied: anyio in c:\\users\\relat\\anaconda3\\lib\\site-packages (from httpx<1,>=0.23.0->langsmith<0.4,>=0.1.125->langchain-core<0.4.0,>=0.3.27->langchain-google-genai) (3.7.1)\n",
            "Requirement already satisfied: certifi in c:\\users\\relat\\anaconda3\\lib\\site-packages (from httpx<1,>=0.23.0->langsmith<0.4,>=0.1.125->langchain-core<0.4.0,>=0.3.27->langchain-google-genai) (2023.5.7)\n",
            "Requirement already satisfied: httpcore==1.* in c:\\users\\relat\\anaconda3\\lib\\site-packages (from httpx<1,>=0.23.0->langsmith<0.4,>=0.1.125->langchain-core<0.4.0,>=0.3.27->langchain-google-genai) (1.0.5)\n",
            "Requirement already satisfied: idna in c:\\users\\relat\\anaconda3\\lib\\site-packages (from httpx<1,>=0.23.0->langsmith<0.4,>=0.1.125->langchain-core<0.4.0,>=0.3.27->langchain-google-genai) (2.10)\n",
            "Requirement already satisfied: sniffio in c:\\users\\relat\\anaconda3\\lib\\site-packages (from httpx<1,>=0.23.0->langsmith<0.4,>=0.1.125->langchain-core<0.4.0,>=0.3.27->langchain-google-genai) (1.3.1)\n",
            "Requirement already satisfied: h11<0.15,>=0.13 in c:\\users\\relat\\anaconda3\\lib\\site-packages (from httpcore==1.*->httpx<1,>=0.23.0->langsmith<0.4,>=0.1.125->langchain-core<0.4.0,>=0.3.27->langchain-google-genai) (0.14.0)\n",
            "Requirement already satisfied: pyasn1<0.5.0,>=0.4.6 in c:\\users\\relat\\anaconda3\\lib\\site-packages (from pyasn1-modules>=0.2.1->google-auth>=2.15.0->google-generativeai<0.9.0,>=0.8.0->langchain-google-genai) (0.4.8)\n",
            "Requirement already satisfied: charset-normalizer<4,>=2 in c:\\users\\relat\\anaconda3\\lib\\site-packages (from requests<3.0.0.dev0,>=2.18.0->google-api-core->google-generativeai<0.9.0,>=0.8.0->langchain-google-genai) (2.0.4)\n",
            "Requirement already satisfied: urllib3<3,>=1.21.1 in c:\\users\\relat\\anaconda3\\lib\\site-packages (from requests<3.0.0.dev0,>=2.18.0->google-api-core->google-generativeai<0.9.0,>=0.8.0->langchain-google-genai) (1.26.16)\n",
            "Collecting grpcio<2.0dev,>=1.33.2 (from google-api-core[grpc]!=2.0.*,!=2.1.*,!=2.10.*,!=2.2.*,!=2.3.*,!=2.4.*,!=2.5.*,!=2.6.*,!=2.7.*,!=2.8.*,!=2.9.*,<3.0.0dev,>=1.34.1->google-ai-generativelanguage==0.6.15->google-generativeai<0.9.0,>=0.8.0->langchain-google-genai)\n",
            "  Downloading grpcio-1.70.0-cp39-cp39-win_amd64.whl.metadata (4.0 kB)\n",
            "Requirement already satisfied: exceptiongroup in c:\\users\\relat\\anaconda3\\lib\\site-packages (from anyio->httpx<1,>=0.23.0->langsmith<0.4,>=0.1.125->langchain-core<0.4.0,>=0.3.27->langchain-google-genai) (1.0.4)\n",
            "Downloading langchain_google_genai-2.0.9-py3-none-any.whl (41 kB)\n",
            "   ---------------------------------------- 0.0/41.7 kB ? eta -:--:--\n",
            "   ---------------------------------------- 41.7/41.7 kB 983.1 kB/s eta 0:00:00\n",
            "Downloading filetype-1.2.0-py2.py3-none-any.whl (19 kB)\n",
            "Downloading google_generativeai-0.8.4-py3-none-any.whl (175 kB)\n",
            "   ---------------------------------------- 0.0/175.4 kB ? eta -:--:--\n",
            "   -------------------------------- ------- 143.4/175.4 kB 4.3 MB/s eta 0:00:01\n",
            "   ---------------------------------------- 175.4/175.4 kB 3.5 MB/s eta 0:00:00\n",
            "Downloading google_ai_generativelanguage-0.6.15-py3-none-any.whl (1.3 MB)\n",
            "   ---------------------------------------- 0.0/1.3 MB ? eta -:--:--\n",
            "    --------------------------------------- 0.0/1.3 MB 660.6 kB/s eta 0:00:02\n",
            "    --------------------------------------- 0.0/1.3 MB 660.6 kB/s eta 0:00:02\n",
            "   ---- ----------------------------------- 0.2/1.3 MB 1.1 MB/s eta 0:00:02\n",
            "   ---- ----------------------------------- 0.2/1.3 MB 1.1 MB/s eta 0:00:02\n",
            "   ---- ----------------------------------- 0.2/1.3 MB 1.1 MB/s eta 0:00:02\n",
            "   ---- ----------------------------------- 0.2/1.3 MB 1.1 MB/s eta 0:00:02\n",
            "   --------- ------------------------------ 0.3/1.3 MB 999.9 kB/s eta 0:00:02\n",
            "   ---------------- ----------------------- 0.5/1.3 MB 1.5 MB/s eta 0:00:01\n",
            "   ---------------- ----------------------- 0.6/1.3 MB 1.5 MB/s eta 0:00:01\n",
            "   ------------------ --------------------- 0.6/1.3 MB 1.5 MB/s eta 0:00:01\n",
            "   ----------------------- ---------------- 0.8/1.3 MB 1.7 MB/s eta 0:00:01\n",
            "   ------------------------- -------------- 0.9/1.3 MB 1.8 MB/s eta 0:00:01\n",
            "   -------------------------- ------------- 0.9/1.3 MB 1.7 MB/s eta 0:00:01\n",
            "   -------------------------- ------------- 0.9/1.3 MB 1.7 MB/s eta 0:00:01\n",
            "   -------------------------- ------------- 0.9/1.3 MB 1.7 MB/s eta 0:00:01\n",
            "   -------------------------- ------------- 0.9/1.3 MB 1.7 MB/s eta 0:00:01\n",
            "   ----------------------------- ---------- 1.0/1.3 MB 1.4 MB/s eta 0:00:01\n",
            "   ----------------------------- ---------- 1.0/1.3 MB 1.4 MB/s eta 0:00:01\n",
            "   ----------------------------- ---------- 1.0/1.3 MB 1.4 MB/s eta 0:00:01\n",
            "   ----------------------------- ---------- 1.0/1.3 MB 1.4 MB/s eta 0:00:01\n",
            "   ----------------------------- ---------- 1.0/1.3 MB 1.4 MB/s eta 0:00:01\n",
            "   ----------------------------- ---------- 1.0/1.3 MB 1.4 MB/s eta 0:00:01\n",
            "   ----------------------------- ---------- 1.0/1.3 MB 1.0 MB/s eta 0:00:01\n",
            "   ------------------------------- -------- 1.0/1.3 MB 1.1 MB/s eta 0:00:01\n",
            "   ---------------------------------- ----- 1.2/1.3 MB 1.1 MB/s eta 0:00:01\n",
            "   ------------------------------------ --- 1.2/1.3 MB 1.2 MB/s eta 0:00:01\n",
            "   ------------------------------------ --- 1.2/1.3 MB 1.2 MB/s eta 0:00:01\n",
            "   ------------------------------------ --- 1.2/1.3 MB 1.2 MB/s eta 0:00:01\n",
            "   ---------------------------------------- 1.3/1.3 MB 1.1 MB/s eta 0:00:00\n",
            "Downloading langchain_core-0.3.33-py3-none-any.whl (412 kB)\n",
            "   ---------------------------------------- 0.0/412.7 kB ? eta -:--:--\n",
            "   ----------- ---------------------------- 122.9/412.7 kB 3.6 MB/s eta 0:00:01\n",
            "   --------------------- ------------------ 225.3/412.7 kB 2.8 MB/s eta 0:00:01\n",
            "   --------------------------- ------------ 286.7/412.7 kB 2.5 MB/s eta 0:00:01\n",
            "   --------------------------- ------------ 286.7/412.7 kB 2.5 MB/s eta 0:00:01\n",
            "   ---------------------------------------- 412.7/412.7 kB 2.3 MB/s eta 0:00:00\n",
            "Downloading google_api_core-2.24.1-py3-none-any.whl (160 kB)\n",
            "   ---------------------------------------- 0.0/160.1 kB ? eta -:--:--\n",
            "   ---------------------------------------- 0.0/160.1 kB ? eta -:--:--\n",
            "   ---------------------------------------- 160.1/160.1 kB 4.7 MB/s eta 0:00:00\n",
            "Downloading langsmith-0.3.3-py3-none-any.whl (333 kB)\n",
            "   ---------------------------------------- 0.0/333.0 kB ? eta -:--:--\n",
            "   ---------------------- ---------------- 194.6/333.0 kB 12.3 MB/s eta 0:00:01\n",
            "   ------------------------ --------------- 204.8/333.0 kB 4.1 MB/s eta 0:00:01\n",
            "   ------------------------ --------------- 204.8/333.0 kB 4.1 MB/s eta 0:00:01\n",
            "   ------------------------ --------------- 204.8/333.0 kB 4.1 MB/s eta 0:00:01\n",
            "   ------------------------ --------------- 204.8/333.0 kB 4.1 MB/s eta 0:00:01\n",
            "   ------------------------------------ --- 307.2/333.0 kB 1.4 MB/s eta 0:00:01\n",
            "   ---------------------------------------- 333.0/333.0 kB 1.2 MB/s eta 0:00:00\n",
            "Downloading protobuf-5.29.3-cp39-cp39-win_amd64.whl (434 kB)\n",
            "   ---------------------------------------- 0.0/434.6 kB ? eta -:--:--\n",
            "   -- ------------------------------------- 30.7/434.6 kB ? eta -:--:--\n",
            "   -------- ------------------------------- 92.2/434.6 kB 1.1 MB/s eta 0:00:01\n",
            "   ------------------------ --------------- 266.2/434.6 kB 2.0 MB/s eta 0:00:01\n",
            "   --------------------------- ------------ 297.0/434.6 kB 2.3 MB/s eta 0:00:01\n",
            "   --------------------------- ------------ 297.0/434.6 kB 2.3 MB/s eta 0:00:01\n",
            "   ------------------------------- -------- 337.9/434.6 kB 1.3 MB/s eta 0:00:01\n",
            "   ------------------------------------ --- 399.4/434.6 kB 1.6 MB/s eta 0:00:01\n",
            "   ---------------------------------------  430.1/434.6 kB 1.3 MB/s eta 0:00:01\n",
            "   ---------------------------------------- 434.6/434.6 kB 1.3 MB/s eta 0:00:00\n",
            "Downloading google_api_python_client-2.160.0-py2.py3-none-any.whl (12.8 MB)\n",
            "   ---------------------------------------- 0.0/12.8 MB ? eta -:--:--\n",
            "   ---------------------------------------- 0.0/12.8 MB ? eta -:--:--\n",
            "    --------------------------------------- 0.2/12.8 MB 6.1 MB/s eta 0:00:03\n",
            "    --------------------------------------- 0.2/12.8 MB 6.7 MB/s eta 0:00:02\n",
            "    --------------------------------------- 0.2/12.8 MB 6.7 MB/s eta 0:00:02\n",
            "    --------------------------------------- 0.2/12.8 MB 6.7 MB/s eta 0:00:02\n",
            "    --------------------------------------- 0.3/12.8 MB 1.7 MB/s eta 0:00:08\n",
            "    --------------------------------------- 0.3/12.8 MB 1.7 MB/s eta 0:00:08\n",
            "   - -------------------------------------- 0.4/12.8 MB 1.4 MB/s eta 0:00:09\n",
            "   - -------------------------------------- 0.6/12.8 MB 1.7 MB/s eta 0:00:08\n",
            "   - -------------------------------------- 0.6/12.8 MB 1.7 MB/s eta 0:00:08\n",
            "   - -------------------------------------- 0.6/12.8 MB 1.7 MB/s eta 0:00:08\n",
            "   - -------------------------------------- 0.6/12.8 MB 1.5 MB/s eta 0:00:09\n",
            "   - -------------------------------------- 0.6/12.8 MB 1.5 MB/s eta 0:00:09\n",
            "   -- ------------------------------------- 0.7/12.8 MB 1.4 MB/s eta 0:00:09\n",
            "   -- ------------------------------------- 0.8/12.8 MB 1.4 MB/s eta 0:00:09\n",
            "   -- ------------------------------------- 0.8/12.8 MB 1.4 MB/s eta 0:00:09\n",
            "   -- ------------------------------------- 0.8/12.8 MB 1.4 MB/s eta 0:00:09\n",
            "   -- ------------------------------------- 0.8/12.8 MB 1.4 MB/s eta 0:00:09\n",
            "   -- ------------------------------------- 0.8/12.8 MB 1.4 MB/s eta 0:00:09\n",
            "   -- ------------------------------------- 0.9/12.8 MB 1.2 MB/s eta 0:00:11\n",
            "   -- ------------------------------------- 0.9/12.8 MB 1.2 MB/s eta 0:00:11\n",
            "   --- ------------------------------------ 1.0/12.8 MB 1.2 MB/s eta 0:00:10\n",
            "   --- ------------------------------------ 1.2/12.8 MB 1.4 MB/s eta 0:00:09\n",
            "   --- ------------------------------------ 1.3/12.8 MB 1.4 MB/s eta 0:00:09\n",
            "   --- ------------------------------------ 1.3/12.8 MB 1.4 MB/s eta 0:00:09\n",
            "   ---- ----------------------------------- 1.4/12.8 MB 1.3 MB/s eta 0:00:09\n",
            "   ---- ----------------------------------- 1.4/12.8 MB 1.3 MB/s eta 0:00:09\n",
            "   ---- ----------------------------------- 1.5/12.8 MB 1.3 MB/s eta 0:00:09\n",
            "   ----- ---------------------------------- 1.6/12.8 MB 1.4 MB/s eta 0:00:08\n",
            "   ----- ---------------------------------- 1.6/12.8 MB 1.4 MB/s eta 0:00:08\n",
            "   ----- ---------------------------------- 1.6/12.8 MB 1.4 MB/s eta 0:00:08\n",
            "   ----- ---------------------------------- 1.8/12.8 MB 1.4 MB/s eta 0:00:08\n",
            "   ----- ---------------------------------- 1.8/12.8 MB 1.4 MB/s eta 0:00:08\n",
            "   ----- ---------------------------------- 1.8/12.8 MB 1.4 MB/s eta 0:00:08\n",
            "   ----- ---------------------------------- 1.8/12.8 MB 1.4 MB/s eta 0:00:08\n",
            "   ----- ---------------------------------- 1.8/12.8 MB 1.4 MB/s eta 0:00:08\n",
            "   ----- ---------------------------------- 1.8/12.8 MB 1.4 MB/s eta 0:00:08\n",
            "   ----- ---------------------------------- 1.8/12.8 MB 1.2 MB/s eta 0:00:09\n",
            "   ----- ---------------------------------- 1.8/12.8 MB 1.2 MB/s eta 0:00:09\n",
            "   ----- ---------------------------------- 1.8/12.8 MB 1.2 MB/s eta 0:00:09\n",
            "   ----- ---------------------------------- 1.8/12.8 MB 1.2 MB/s eta 0:00:09\n",
            "   ----- ---------------------------------- 1.9/12.8 MB 1.2 MB/s eta 0:00:10\n",
            "   ------ --------------------------------- 2.0/12.8 MB 1.2 MB/s eta 0:00:10\n",
            "   ------ --------------------------------- 2.1/12.8 MB 1.2 MB/s eta 0:00:09\n",
            "   ------ --------------------------------- 2.1/12.8 MB 1.2 MB/s eta 0:00:09\n",
            "   ------ --------------------------------- 2.2/12.8 MB 1.2 MB/s eta 0:00:09\n",
            "   ------ --------------------------------- 2.2/12.8 MB 1.2 MB/s eta 0:00:09\n",
            "   ------ --------------------------------- 2.2/12.8 MB 1.2 MB/s eta 0:00:09\n",
            "   ------ --------------------------------- 2.2/12.8 MB 1.2 MB/s eta 0:00:09\n",
            "   ------ --------------------------------- 2.2/12.8 MB 1.2 MB/s eta 0:00:09\n",
            "   ------ --------------------------------- 2.2/12.8 MB 1.2 MB/s eta 0:00:09\n",
            "   ------- -------------------------------- 2.3/12.8 MB 1.1 MB/s eta 0:00:10\n",
            "   ------- -------------------------------- 2.3/12.8 MB 1.1 MB/s eta 0:00:10\n",
            "   ------- -------------------------------- 2.3/12.8 MB 1.1 MB/s eta 0:00:10\n",
            "   ------- -------------------------------- 2.3/12.8 MB 1.1 MB/s eta 0:00:10\n",
            "   ------- -------------------------------- 2.3/12.8 MB 1.1 MB/s eta 0:00:10\n",
            "   ------- -------------------------------- 2.3/12.8 MB 1.1 MB/s eta 0:00:10\n",
            "   ------- -------------------------------- 2.4/12.8 MB 1.0 MB/s eta 0:00:11\n",
            "   ------- -------------------------------- 2.4/12.8 MB 1.0 MB/s eta 0:00:11\n",
            "   ------- -------------------------------- 2.4/12.8 MB 1.0 MB/s eta 0:00:11\n",
            "   ------- -------------------------------- 2.5/12.8 MB 1.0 MB/s eta 0:00:11\n",
            "   ------- -------------------------------- 2.5/12.8 MB 1.0 MB/s eta 0:00:10\n",
            "   ------- -------------------------------- 2.5/12.8 MB 1.0 MB/s eta 0:00:10\n",
            "   ------- -------------------------------- 2.5/12.8 MB 1.0 MB/s eta 0:00:10\n",
            "   -------- ------------------------------- 2.6/12.8 MB 1.0 MB/s eta 0:00:10\n",
            "   -------- ------------------------------- 2.6/12.8 MB 1.0 MB/s eta 0:00:10\n",
            "   -------- ------------------------------- 2.7/12.8 MB 1.0 MB/s eta 0:00:10\n",
            "   -------- ------------------------------- 2.7/12.8 MB 1.0 MB/s eta 0:00:10\n",
            "   -------- ------------------------------- 2.8/12.8 MB 1.0 MB/s eta 0:00:10\n",
            "   --------- ------------------------------ 3.0/12.8 MB 1.1 MB/s eta 0:00:10\n",
            "   --------- ------------------------------ 3.0/12.8 MB 1.1 MB/s eta 0:00:10\n",
            "   --------- ------------------------------ 3.0/12.8 MB 1.1 MB/s eta 0:00:10\n",
            "   --------- ------------------------------ 3.1/12.8 MB 1.1 MB/s eta 0:00:10\n",
            "   --------- ------------------------------ 3.1/12.8 MB 1.1 MB/s eta 0:00:10\n",
            "   ---------- ----------------------------- 3.3/12.8 MB 1.1 MB/s eta 0:00:09\n",
            "   ---------- ----------------------------- 3.5/12.8 MB 1.1 MB/s eta 0:00:09\n",
            "   ---------- ----------------------------- 3.5/12.8 MB 1.1 MB/s eta 0:00:09\n",
            "   ---------- ----------------------------- 3.5/12.8 MB 1.1 MB/s eta 0:00:09\n",
            "   ----------- ---------------------------- 3.6/12.8 MB 1.1 MB/s eta 0:00:09\n",
            "   ----------- ---------------------------- 3.6/12.8 MB 1.1 MB/s eta 0:00:09\n",
            "   ----------- ---------------------------- 3.7/12.8 MB 1.1 MB/s eta 0:00:09\n",
            "   ----------- ---------------------------- 3.7/12.8 MB 1.1 MB/s eta 0:00:09\n",
            "   ----------- ---------------------------- 3.7/12.8 MB 1.1 MB/s eta 0:00:09\n",
            "   ----------- ---------------------------- 3.7/12.8 MB 1.1 MB/s eta 0:00:09\n",
            "   ----------- ---------------------------- 3.8/12.8 MB 1.1 MB/s eta 0:00:09\n",
            "   ----------- ---------------------------- 3.8/12.8 MB 1.1 MB/s eta 0:00:09\n",
            "   ----------- ---------------------------- 3.8/12.8 MB 1.1 MB/s eta 0:00:09\n",
            "   ----------- ---------------------------- 3.8/12.8 MB 1.1 MB/s eta 0:00:09\n",
            "   ------------ --------------------------- 3.9/12.8 MB 1.1 MB/s eta 0:00:09\n",
            "   ------------ --------------------------- 3.9/12.8 MB 1.1 MB/s eta 0:00:09\n",
            "   ------------ --------------------------- 4.0/12.8 MB 1.1 MB/s eta 0:00:08\n",
            "   ------------ --------------------------- 4.0/12.8 MB 1.1 MB/s eta 0:00:08\n",
            "   ------------ --------------------------- 4.0/12.8 MB 1.1 MB/s eta 0:00:08\n",
            "   ------------ --------------------------- 4.0/12.8 MB 1.1 MB/s eta 0:00:08\n",
            "   ------------ --------------------------- 4.1/12.8 MB 1.1 MB/s eta 0:00:09\n",
            "   ------------ --------------------------- 4.1/12.8 MB 1.1 MB/s eta 0:00:09\n",
            "   ------------ --------------------------- 4.1/12.8 MB 1.1 MB/s eta 0:00:09\n",
            "   ------------ --------------------------- 4.1/12.8 MB 1.1 MB/s eta 0:00:09\n",
            "   ------------ --------------------------- 4.1/12.8 MB 1.1 MB/s eta 0:00:09\n",
            "   ------------ --------------------------- 4.1/12.8 MB 1.1 MB/s eta 0:00:09\n",
            "   ------------- -------------------------- 4.2/12.8 MB 1.0 MB/s eta 0:00:09\n",
            "   ------------- -------------------------- 4.3/12.8 MB 1.0 MB/s eta 0:00:09\n",
            "   ------------- -------------------------- 4.3/12.8 MB 1.0 MB/s eta 0:00:09\n",
            "   ------------- -------------------------- 4.3/12.8 MB 1.0 MB/s eta 0:00:09\n",
            "   ------------- -------------------------- 4.3/12.8 MB 1.0 MB/s eta 0:00:09\n",
            "   ------------- -------------------------- 4.3/12.8 MB 1.0 MB/s eta 0:00:09\n",
            "   ------------- -------------------------- 4.3/12.8 MB 1.0 MB/s eta 0:00:09\n",
            "   ------------- -------------------------- 4.3/12.8 MB 1.0 MB/s eta 0:00:09\n",
            "   ------------- -------------------------- 4.4/12.8 MB 1.0 MB/s eta 0:00:09\n",
            "   -------------- ------------------------- 4.5/12.8 MB 1.0 MB/s eta 0:00:09\n",
            "   -------------- ------------------------- 4.5/12.8 MB 1.0 MB/s eta 0:00:09\n",
            "   -------------- ------------------------- 4.5/12.8 MB 1.0 MB/s eta 0:00:09\n",
            "   -------------- ------------------------- 4.7/12.8 MB 1.0 MB/s eta 0:00:08\n",
            "   -------------- ------------------------- 4.7/12.8 MB 1.0 MB/s eta 0:00:08\n",
            "   --------------- ------------------------ 4.8/12.8 MB 1.0 MB/s eta 0:00:08\n",
            "   --------------- ------------------------ 4.9/12.8 MB 1.0 MB/s eta 0:00:08\n",
            "   --------------- ------------------------ 4.9/12.8 MB 1.0 MB/s eta 0:00:08\n",
            "   --------------- ------------------------ 4.9/12.8 MB 1.0 MB/s eta 0:00:08\n",
            "   --------------- ------------------------ 5.0/12.8 MB 1.0 MB/s eta 0:00:08\n",
            "   --------------- ------------------------ 5.0/12.8 MB 1.0 MB/s eta 0:00:08\n",
            "   --------------- ------------------------ 5.1/12.8 MB 1.0 MB/s eta 0:00:08\n",
            "   ---------------- ----------------------- 5.2/12.8 MB 1.1 MB/s eta 0:00:08\n",
            "   ---------------- ----------------------- 5.3/12.8 MB 1.1 MB/s eta 0:00:07\n",
            "   ---------------- ----------------------- 5.3/12.8 MB 1.1 MB/s eta 0:00:07\n",
            "   ---------------- ----------------------- 5.3/12.8 MB 1.1 MB/s eta 0:00:08\n",
            "   ---------------- ----------------------- 5.4/12.8 MB 1.1 MB/s eta 0:00:07\n",
            "   ---------------- ----------------------- 5.4/12.8 MB 1.1 MB/s eta 0:00:07\n",
            "   ----------------- ---------------------- 5.5/12.8 MB 1.1 MB/s eta 0:00:07\n",
            "   ----------------- ---------------------- 5.6/12.8 MB 1.1 MB/s eta 0:00:07\n",
            "   ----------------- ---------------------- 5.6/12.8 MB 1.1 MB/s eta 0:00:07\n",
            "   ----------------- ---------------------- 5.6/12.8 MB 1.1 MB/s eta 0:00:07\n",
            "   ----------------- ---------------------- 5.7/12.8 MB 1.1 MB/s eta 0:00:07\n",
            "   ----------------- ---------------------- 5.7/12.8 MB 1.1 MB/s eta 0:00:07\n",
            "   ------------------ --------------------- 5.8/12.8 MB 1.1 MB/s eta 0:00:07\n",
            "   ------------------ --------------------- 5.9/12.8 MB 1.1 MB/s eta 0:00:07\n",
            "   ------------------ --------------------- 6.0/12.8 MB 1.1 MB/s eta 0:00:07\n",
            "   ------------------- -------------------- 6.2/12.8 MB 1.1 MB/s eta 0:00:06\n",
            "   ------------------- -------------------- 6.4/12.8 MB 1.2 MB/s eta 0:00:06\n",
            "   ------------------- -------------------- 6.4/12.8 MB 1.2 MB/s eta 0:00:06\n",
            "   -------------------- ------------------- 6.4/12.8 MB 1.1 MB/s eta 0:00:06\n",
            "   -------------------- ------------------- 6.5/12.8 MB 1.2 MB/s eta 0:00:06\n",
            "   -------------------- ------------------- 6.6/12.8 MB 1.2 MB/s eta 0:00:06\n",
            "   --------------------- ------------------ 6.7/12.8 MB 1.2 MB/s eta 0:00:06\n",
            "   --------------------- ------------------ 6.8/12.8 MB 1.2 MB/s eta 0:00:06\n",
            "   --------------------- ------------------ 6.8/12.8 MB 1.2 MB/s eta 0:00:06\n",
            "   --------------------- ------------------ 6.8/12.8 MB 1.2 MB/s eta 0:00:06\n",
            "   --------------------- ------------------ 6.9/12.8 MB 1.2 MB/s eta 0:00:05\n",
            "   --------------------- ------------------ 6.9/12.8 MB 1.2 MB/s eta 0:00:05\n",
            "   --------------------- ------------------ 6.9/12.8 MB 1.2 MB/s eta 0:00:05\n",
            "   --------------------- ------------------ 6.9/12.8 MB 1.2 MB/s eta 0:00:05\n",
            "   --------------------- ------------------ 6.9/12.8 MB 1.2 MB/s eta 0:00:05\n",
            "   --------------------- ------------------ 6.9/12.8 MB 1.2 MB/s eta 0:00:05\n",
            "   --------------------- ------------------ 7.0/12.8 MB 1.2 MB/s eta 0:00:06\n",
            "   --------------------- ------------------ 7.0/12.8 MB 1.2 MB/s eta 0:00:06\n",
            "   --------------------- ------------------ 7.0/12.8 MB 1.2 MB/s eta 0:00:06\n",
            "   --------------------- ------------------ 7.0/12.8 MB 1.2 MB/s eta 0:00:06\n",
            "   ---------------------- ----------------- 7.1/12.8 MB 1.1 MB/s eta 0:00:05\n",
            "   ---------------------- ----------------- 7.2/12.8 MB 1.1 MB/s eta 0:00:05\n",
            "   ---------------------- ----------------- 7.2/12.8 MB 1.1 MB/s eta 0:00:05\n",
            "   ---------------------- ----------------- 7.2/12.8 MB 1.1 MB/s eta 0:00:05\n",
            "   ---------------------- ----------------- 7.3/12.8 MB 1.1 MB/s eta 0:00:05\n",
            "   ---------------------- ----------------- 7.4/12.8 MB 1.1 MB/s eta 0:00:05\n",
            "   ---------------------- ----------------- 7.4/12.8 MB 1.1 MB/s eta 0:00:05\n",
            "   ---------------------- ----------------- 7.4/12.8 MB 1.1 MB/s eta 0:00:05\n",
            "   ---------------------- ----------------- 7.4/12.8 MB 1.1 MB/s eta 0:00:05\n",
            "   ---------------------- ----------------- 7.4/12.8 MB 1.1 MB/s eta 0:00:05\n",
            "   ----------------------- ---------------- 7.4/12.8 MB 1.1 MB/s eta 0:00:05\n",
            "   ----------------------- ---------------- 7.4/12.8 MB 1.1 MB/s eta 0:00:05\n",
            "   ----------------------- ---------------- 7.4/12.8 MB 1.1 MB/s eta 0:00:05\n",
            "   ----------------------- ---------------- 7.4/12.8 MB 1.1 MB/s eta 0:00:05\n",
            "   ----------------------- ---------------- 7.4/12.8 MB 1.1 MB/s eta 0:00:05\n",
            "   ----------------------- ---------------- 7.4/12.8 MB 1.1 MB/s eta 0:00:05\n",
            "   ----------------------- ---------------- 7.5/12.8 MB 1.1 MB/s eta 0:00:05\n",
            "   ----------------------- ---------------- 7.6/12.8 MB 1.1 MB/s eta 0:00:05\n",
            "   ------------------------ --------------- 7.8/12.8 MB 1.1 MB/s eta 0:00:05\n",
            "   ------------------------ --------------- 7.9/12.8 MB 1.1 MB/s eta 0:00:05\n",
            "   ------------------------- -------------- 8.1/12.8 MB 1.1 MB/s eta 0:00:05\n",
            "   ------------------------- -------------- 8.1/12.8 MB 1.1 MB/s eta 0:00:05\n",
            "   ------------------------- -------------- 8.1/12.8 MB 1.1 MB/s eta 0:00:05\n",
            "   ------------------------- -------------- 8.1/12.8 MB 1.1 MB/s eta 0:00:05\n",
            "   ------------------------- -------------- 8.2/12.8 MB 1.1 MB/s eta 0:00:05\n",
            "   ------------------------- -------------- 8.3/12.8 MB 1.1 MB/s eta 0:00:05\n",
            "   -------------------------- ------------- 8.4/12.8 MB 1.1 MB/s eta 0:00:04\n",
            "   -------------------------- ------------- 8.5/12.8 MB 1.1 MB/s eta 0:00:04\n",
            "   -------------------------- ------------- 8.5/12.8 MB 1.1 MB/s eta 0:00:04\n",
            "   -------------------------- ------------- 8.5/12.8 MB 1.1 MB/s eta 0:00:04\n",
            "   -------------------------- ------------- 8.6/12.8 MB 1.1 MB/s eta 0:00:04\n",
            "   -------------------------- ------------- 8.6/12.8 MB 1.1 MB/s eta 0:00:04\n",
            "   --------------------------- ------------ 8.7/12.8 MB 1.1 MB/s eta 0:00:04\n",
            "   --------------------------- ------------ 8.9/12.8 MB 1.2 MB/s eta 0:00:04\n",
            "   --------------------------- ------------ 8.9/12.8 MB 1.2 MB/s eta 0:00:04\n",
            "   --------------------------- ------------ 8.9/12.8 MB 1.2 MB/s eta 0:00:04\n",
            "   --------------------------- ------------ 9.0/12.8 MB 1.2 MB/s eta 0:00:04\n",
            "   --------------------------- ------------ 9.0/12.8 MB 1.2 MB/s eta 0:00:04\n",
            "   ---------------------------- ----------- 9.1/12.8 MB 1.2 MB/s eta 0:00:04\n",
            "   ---------------------------- ----------- 9.2/12.8 MB 1.2 MB/s eta 0:00:04\n",
            "   ---------------------------- ----------- 9.2/12.8 MB 1.2 MB/s eta 0:00:04\n",
            "   ---------------------------- ----------- 9.2/12.8 MB 1.2 MB/s eta 0:00:04\n",
            "   ---------------------------- ----------- 9.3/12.8 MB 1.2 MB/s eta 0:00:04\n",
            "   ---------------------------- ----------- 9.3/12.8 MB 1.2 MB/s eta 0:00:04\n",
            "   ---------------------------- ----------- 9.3/12.8 MB 1.2 MB/s eta 0:00:04\n",
            "   ---------------------------- ----------- 9.3/12.8 MB 1.2 MB/s eta 0:00:04\n",
            "   ----------------------------- ---------- 9.3/12.8 MB 1.1 MB/s eta 0:00:04\n",
            "   ----------------------------- ---------- 9.4/12.8 MB 1.1 MB/s eta 0:00:03\n",
            "   ----------------------------- ---------- 9.4/12.8 MB 1.1 MB/s eta 0:00:03\n",
            "   ----------------------------- ---------- 9.4/12.8 MB 1.1 MB/s eta 0:00:03\n",
            "   ----------------------------- ---------- 9.5/12.8 MB 1.1 MB/s eta 0:00:03\n",
            "   ----------------------------- ---------- 9.6/12.8 MB 1.1 MB/s eta 0:00:03\n",
            "   ----------------------------- ---------- 9.6/12.8 MB 1.1 MB/s eta 0:00:03\n",
            "   ----------------------------- ---------- 9.6/12.8 MB 1.1 MB/s eta 0:00:03\n",
            "   ----------------------------- ---------- 9.6/12.8 MB 1.1 MB/s eta 0:00:03\n",
            "   ----------------------------- ---------- 9.6/12.8 MB 1.1 MB/s eta 0:00:03\n",
            "   ------------------------------ --------- 9.6/12.8 MB 1.1 MB/s eta 0:00:03\n",
            "   ------------------------------ --------- 9.6/12.8 MB 1.1 MB/s eta 0:00:03\n",
            "   ------------------------------ --------- 9.6/12.8 MB 1.1 MB/s eta 0:00:03\n",
            "   ------------------------------ --------- 9.6/12.8 MB 1.1 MB/s eta 0:00:03\n",
            "   ------------------------------ --------- 9.6/12.8 MB 1.1 MB/s eta 0:00:03\n",
            "   ------------------------------ --------- 9.6/12.8 MB 1.1 MB/s eta 0:00:03\n",
            "   ------------------------------ --------- 9.7/12.8 MB 1.1 MB/s eta 0:00:03\n",
            "   ------------------------------ --------- 9.7/12.8 MB 1.1 MB/s eta 0:00:03\n",
            "   ------------------------------ --------- 9.7/12.8 MB 1.1 MB/s eta 0:00:03\n",
            "   ------------------------------ --------- 9.7/12.8 MB 1.1 MB/s eta 0:00:03\n",
            "   ------------------------------ --------- 9.8/12.8 MB 1.1 MB/s eta 0:00:03\n",
            "   ------------------------------ --------- 9.9/12.8 MB 1.1 MB/s eta 0:00:03\n",
            "   ------------------------------- -------- 10.0/12.8 MB 1.1 MB/s eta 0:00:03\n",
            "   ------------------------------- -------- 10.0/12.8 MB 1.1 MB/s eta 0:00:03\n",
            "   ------------------------------- -------- 10.0/12.8 MB 1.1 MB/s eta 0:00:03\n",
            "   ------------------------------- -------- 10.0/12.8 MB 1.1 MB/s eta 0:00:03\n",
            "   ------------------------------- -------- 10.1/12.8 MB 1.1 MB/s eta 0:00:03\n",
            "   ------------------------------- -------- 10.2/12.8 MB 1.1 MB/s eta 0:00:03\n",
            "   ------------------------------- -------- 10.2/12.8 MB 1.1 MB/s eta 0:00:03\n",
            "   ------------------------------- -------- 10.2/12.8 MB 1.1 MB/s eta 0:00:03\n",
            "   -------------------------------- ------- 10.3/12.8 MB 1.1 MB/s eta 0:00:03\n",
            "   -------------------------------- ------- 10.3/12.8 MB 1.1 MB/s eta 0:00:03\n",
            "   -------------------------------- ------- 10.4/12.8 MB 1.1 MB/s eta 0:00:03\n",
            "   --------------------------------- ------ 10.6/12.8 MB 1.1 MB/s eta 0:00:02\n",
            "   --------------------------------- ------ 10.6/12.8 MB 1.1 MB/s eta 0:00:02\n",
            "   --------------------------------- ------ 10.6/12.8 MB 1.1 MB/s eta 0:00:02\n",
            "   --------------------------------- ------ 10.7/12.8 MB 1.1 MB/s eta 0:00:02\n",
            "   --------------------------------- ------ 10.7/12.8 MB 1.1 MB/s eta 0:00:02\n",
            "   --------------------------------- ------ 10.8/12.8 MB 1.1 MB/s eta 0:00:02\n",
            "   --------------------------------- ------ 10.9/12.8 MB 1.1 MB/s eta 0:00:02\n",
            "   --------------------------------- ------ 10.9/12.8 MB 1.1 MB/s eta 0:00:02\n",
            "   --------------------------------- ------ 10.9/12.8 MB 1.1 MB/s eta 0:00:02\n",
            "   --------------------------------- ------ 10.9/12.8 MB 1.1 MB/s eta 0:00:02\n",
            "   --------------------------------- ------ 10.9/12.8 MB 1.1 MB/s eta 0:00:02\n",
            "   ---------------------------------- ----- 11.0/12.8 MB 1.1 MB/s eta 0:00:02\n",
            "   ---------------------------------- ----- 11.0/12.8 MB 1.1 MB/s eta 0:00:02\n",
            "   ---------------------------------- ----- 11.1/12.8 MB 1.1 MB/s eta 0:00:02\n",
            "   ----------------------------------- ---- 11.3/12.8 MB 1.1 MB/s eta 0:00:02\n",
            "   ----------------------------------- ---- 11.5/12.8 MB 1.1 MB/s eta 0:00:02\n",
            "   ----------------------------------- ---- 11.5/12.8 MB 1.1 MB/s eta 0:00:02\n",
            "   ------------------------------------ --- 11.6/12.8 MB 1.1 MB/s eta 0:00:02\n",
            "   ------------------------------------ --- 11.6/12.8 MB 1.1 MB/s eta 0:00:02\n",
            "   ------------------------------------ --- 11.7/12.8 MB 1.1 MB/s eta 0:00:02\n",
            "   ------------------------------------ --- 11.8/12.8 MB 1.1 MB/s eta 0:00:01\n",
            "   ------------------------------------- -- 11.9/12.8 MB 1.1 MB/s eta 0:00:01\n",
            "   ------------------------------------- -- 11.9/12.8 MB 1.1 MB/s eta 0:00:01\n",
            "   ------------------------------------- -- 12.0/12.8 MB 1.1 MB/s eta 0:00:01\n",
            "   ------------------------------------- -- 12.0/12.8 MB 1.1 MB/s eta 0:00:01\n",
            "   ------------------------------------- -- 12.0/12.8 MB 1.1 MB/s eta 0:00:01\n",
            "   ------------------------------------- -- 12.0/12.8 MB 1.1 MB/s eta 0:00:01\n",
            "   ------------------------------------- -- 12.0/12.8 MB 1.1 MB/s eta 0:00:01\n",
            "   ------------------------------------- -- 12.0/12.8 MB 1.1 MB/s eta 0:00:01\n",
            "   ------------------------------------- -- 12.1/12.8 MB 1.1 MB/s eta 0:00:01\n",
            "   ------------------------------------- -- 12.1/12.8 MB 1.1 MB/s eta 0:00:01\n",
            "   ------------------------------------- -- 12.1/12.8 MB 1.1 MB/s eta 0:00:01\n",
            "   ------------------------------------- -- 12.1/12.8 MB 1.1 MB/s eta 0:00:01\n",
            "   -------------------------------------- - 12.2/12.8 MB 1.1 MB/s eta 0:00:01\n",
            "   -------------------------------------- - 12.3/12.8 MB 1.1 MB/s eta 0:00:01\n",
            "   -------------------------------------- - 12.4/12.8 MB 1.1 MB/s eta 0:00:01\n",
            "   -------------------------------------- - 12.5/12.8 MB 1.1 MB/s eta 0:00:01\n",
            "   ---------------------------------------  12.6/12.8 MB 1.2 MB/s eta 0:00:01\n",
            "   ---------------------------------------  12.6/12.8 MB 1.2 MB/s eta 0:00:01\n",
            "   ---------------------------------------  12.6/12.8 MB 1.2 MB/s eta 0:00:01\n",
            "   ---------------------------------------  12.6/12.8 MB 1.2 MB/s eta 0:00:01\n",
            "   ---------------------------------------  12.6/12.8 MB 1.2 MB/s eta 0:00:01\n",
            "   ---------------------------------------  12.6/12.8 MB 1.2 MB/s eta 0:00:01\n",
            "   ---------------------------------------  12.7/12.8 MB 1.2 MB/s eta 0:00:01\n",
            "   ---------------------------------------  12.7/12.8 MB 1.2 MB/s eta 0:00:01\n",
            "   ---------------------------------------  12.7/12.8 MB 1.2 MB/s eta 0:00:01\n",
            "   ---------------------------------------  12.7/12.8 MB 1.2 MB/s eta 0:00:01\n",
            "   ---------------------------------------  12.7/12.8 MB 1.2 MB/s eta 0:00:01\n",
            "   ---------------------------------------  12.7/12.8 MB 1.2 MB/s eta 0:00:01\n",
            "   ---------------------------------------  12.8/12.8 MB 1.1 MB/s eta 0:00:01\n",
            "   ---------------------------------------  12.8/12.8 MB 1.1 MB/s eta 0:00:01\n",
            "   ---------------------------------------- 12.8/12.8 MB 1.1 MB/s eta 0:00:00\n",
            "Using cached google_auth_httplib2-0.2.0-py2.py3-none-any.whl (9.3 kB)\n",
            "Downloading googleapis_common_protos-1.66.0-py2.py3-none-any.whl (221 kB)\n",
            "   ---------------------------------------- 0.0/221.7 kB ? eta -:--:--\n",
            "   ----------- ---------------------------- 61.4/221.7 kB 1.7 MB/s eta 0:00:01\n",
            "   ---------------------------------------- 221.7/221.7 kB 3.4 MB/s eta 0:00:00\n",
            "Using cached httplib2-0.22.0-py3-none-any.whl (96 kB)\n",
            "Downloading proto_plus-1.26.0-py3-none-any.whl (50 kB)\n",
            "   ---------------------------------------- 0.0/50.2 kB ? eta -:--:--\n",
            "   ---------------------------------------- 50.2/50.2 kB 1.3 MB/s eta 0:00:00\n",
            "Downloading requests_toolbelt-1.0.0-py2.py3-none-any.whl (54 kB)\n",
            "   ---------------------------------------- 0.0/54.5 kB ? eta -:--:--\n",
            "   ---------------------------------------- 54.5/54.5 kB 2.8 MB/s eta 0:00:00\n",
            "Using cached uritemplate-4.1.1-py2.py3-none-any.whl (10 kB)\n",
            "Downloading zstandard-0.23.0-cp39-cp39-win_amd64.whl (495 kB)\n",
            "   ---------------------------------------- 0.0/495.5 kB ? eta -:--:--\n",
            "   ---------- ----------------------------- 133.1/495.5 kB 3.8 MB/s eta 0:00:01\n",
            "   ---------------------------- ----------- 358.4/495.5 kB 4.5 MB/s eta 0:00:01\n",
            "   ----------------------------------- ---- 440.3/495.5 kB 5.5 MB/s eta 0:00:01\n",
            "   ----------------------------------- ---- 440.3/495.5 kB 5.5 MB/s eta 0:00:01\n",
            "   ---------------------------------------- 495.5/495.5 kB 2.6 MB/s eta 0:00:00\n",
            "Downloading grpcio_status-1.70.0-py3-none-any.whl (14 kB)\n",
            "Downloading grpcio-1.70.0-cp39-cp39-win_amd64.whl (4.3 MB)\n",
            "   ---------------------------------------- 0.0/4.3 MB ? eta -:--:--\n",
            "   ---------------------------------------- 0.0/4.3 MB ? eta -:--:--\n",
            "   ---------------------------------------- 0.0/4.3 MB ? eta -:--:--\n",
            "   ---------------------------------------- 0.0/4.3 MB ? eta -:--:--\n",
            "   - -------------------------------------- 0.1/4.3 MB 731.4 kB/s eta 0:00:06\n",
            "   - -------------------------------------- 0.1/4.3 MB 731.4 kB/s eta 0:00:06\n",
            "   - -------------------------------------- 0.2/4.3 MB 657.6 kB/s eta 0:00:07\n",
            "   -- ------------------------------------- 0.3/4.3 MB 927.4 kB/s eta 0:00:05\n",
            "   -- ------------------------------------- 0.3/4.3 MB 951.8 kB/s eta 0:00:05\n",
            "   -- ------------------------------------- 0.3/4.3 MB 951.8 kB/s eta 0:00:05\n",
            "   --- ------------------------------------ 0.4/4.3 MB 919.0 kB/s eta 0:00:05\n",
            "   --- ------------------------------------ 0.4/4.3 MB 919.0 kB/s eta 0:00:05\n",
            "   --- ------------------------------------ 0.4/4.3 MB 919.0 kB/s eta 0:00:05\n",
            "   --- ------------------------------------ 0.4/4.3 MB 919.0 kB/s eta 0:00:05\n",
            "   ---- ----------------------------------- 0.4/4.3 MB 765.3 kB/s eta 0:00:06\n",
            "   ---- ----------------------------------- 0.5/4.3 MB 797.2 kB/s eta 0:00:05\n",
            "   ----- ---------------------------------- 0.6/4.3 MB 884.7 kB/s eta 0:00:05\n",
            "   ----- ---------------------------------- 0.6/4.3 MB 874.1 kB/s eta 0:00:05\n",
            "   ----- ---------------------------------- 0.6/4.3 MB 874.1 kB/s eta 0:00:05\n",
            "   ----- ---------------------------------- 0.6/4.3 MB 874.1 kB/s eta 0:00:05\n",
            "   ----- ---------------------------------- 0.6/4.3 MB 797.6 kB/s eta 0:00:05\n",
            "   ------ --------------------------------- 0.7/4.3 MB 813.9 kB/s eta 0:00:05\n",
            "   ------ --------------------------------- 0.7/4.3 MB 834.5 kB/s eta 0:00:05\n",
            "   ------ --------------------------------- 0.7/4.3 MB 834.5 kB/s eta 0:00:05\n",
            "   ------- -------------------------------- 0.8/4.3 MB 846.3 kB/s eta 0:00:05\n",
            "   ------- -------------------------------- 0.8/4.3 MB 853.3 kB/s eta 0:00:05\n",
            "   -------- ------------------------------- 0.9/4.3 MB 890.9 kB/s eta 0:00:04\n",
            "   --------- ------------------------------ 1.1/4.3 MB 974.3 kB/s eta 0:00:04\n",
            "   ---------- ----------------------------- 1.2/4.3 MB 1.0 MB/s eta 0:00:04\n",
            "   ---------- ----------------------------- 1.2/4.3 MB 1.0 MB/s eta 0:00:04\n",
            "   ----------- ---------------------------- 1.3/4.3 MB 1.0 MB/s eta 0:00:03\n",
            "   ----------- ---------------------------- 1.3/4.3 MB 1.0 MB/s eta 0:00:03\n",
            "   ------------ --------------------------- 1.3/4.3 MB 1.0 MB/s eta 0:00:03\n",
            "   ------------- -------------------------- 1.5/4.3 MB 1.1 MB/s eta 0:00:03\n",
            "   ------------- -------------------------- 1.5/4.3 MB 1.1 MB/s eta 0:00:03\n",
            "   ------------- -------------------------- 1.5/4.3 MB 1.1 MB/s eta 0:00:03\n",
            "   ------------- -------------------------- 1.5/4.3 MB 1.1 MB/s eta 0:00:03\n",
            "   -------------- ------------------------- 1.6/4.3 MB 1.1 MB/s eta 0:00:03\n",
            "   -------------- ------------------------- 1.6/4.3 MB 1.1 MB/s eta 0:00:03\n",
            "   --------------- ------------------------ 1.7/4.3 MB 1.1 MB/s eta 0:00:03\n",
            "   ---------------- ----------------------- 1.7/4.3 MB 1.1 MB/s eta 0:00:03\n",
            "   ----------------- ---------------------- 1.8/4.3 MB 1.1 MB/s eta 0:00:03\n",
            "   ------------------ --------------------- 2.0/4.3 MB 1.2 MB/s eta 0:00:02\n",
            "   ------------------ --------------------- 2.0/4.3 MB 1.2 MB/s eta 0:00:02\n",
            "   ------------------ --------------------- 2.0/4.3 MB 1.1 MB/s eta 0:00:03\n",
            "   ------------------- -------------------- 2.1/4.3 MB 1.2 MB/s eta 0:00:02\n",
            "   -------------------- ------------------- 2.2/4.3 MB 1.2 MB/s eta 0:00:02\n",
            "   -------------------- ------------------- 2.2/4.3 MB 1.2 MB/s eta 0:00:02\n",
            "   -------------------- ------------------- 2.2/4.3 MB 1.2 MB/s eta 0:00:02\n",
            "   -------------------- ------------------- 2.2/4.3 MB 1.2 MB/s eta 0:00:02\n",
            "   -------------------- ------------------- 2.2/4.3 MB 1.2 MB/s eta 0:00:02\n",
            "   -------------------- ------------------- 2.3/4.3 MB 1.1 MB/s eta 0:00:02\n",
            "   -------------------- ------------------- 2.3/4.3 MB 1.1 MB/s eta 0:00:02\n",
            "   --------------------- ------------------ 2.3/4.3 MB 1.1 MB/s eta 0:00:02\n",
            "   --------------------- ------------------ 2.4/4.3 MB 1.1 MB/s eta 0:00:02\n",
            "   --------------------- ------------------ 2.4/4.3 MB 1.1 MB/s eta 0:00:02\n",
            "   --------------------- ------------------ 2.4/4.3 MB 1.1 MB/s eta 0:00:02\n",
            "   ---------------------- ----------------- 2.4/4.3 MB 1.1 MB/s eta 0:00:02\n",
            "   ---------------------- ----------------- 2.4/4.3 MB 1.1 MB/s eta 0:00:02\n",
            "   ----------------------- ---------------- 2.5/4.3 MB 1.1 MB/s eta 0:00:02\n",
            "   ----------------------- ---------------- 2.6/4.3 MB 1.1 MB/s eta 0:00:02\n",
            "   ------------------------ --------------- 2.7/4.3 MB 1.1 MB/s eta 0:00:02\n",
            "   ------------------------- -------------- 2.7/4.3 MB 1.1 MB/s eta 0:00:02\n",
            "   ------------------------- -------------- 2.7/4.3 MB 1.1 MB/s eta 0:00:02\n",
            "   -------------------------- ------------- 2.8/4.3 MB 1.1 MB/s eta 0:00:02\n",
            "   -------------------------- ------------- 2.9/4.3 MB 1.1 MB/s eta 0:00:02\n",
            "   --------------------------- ------------ 2.9/4.3 MB 1.1 MB/s eta 0:00:02\n",
            "   --------------------------- ------------ 3.0/4.3 MB 1.1 MB/s eta 0:00:02\n",
            "   ---------------------------- ----------- 3.1/4.3 MB 1.1 MB/s eta 0:00:02\n",
            "   ----------------------------- ---------- 3.2/4.3 MB 1.2 MB/s eta 0:00:01\n",
            "   ----------------------------- ---------- 3.2/4.3 MB 1.2 MB/s eta 0:00:01\n",
            "   ------------------------------ --------- 3.3/4.3 MB 1.1 MB/s eta 0:00:01\n",
            "   ------------------------------ --------- 3.3/4.3 MB 1.1 MB/s eta 0:00:01\n",
            "   ------------------------------ --------- 3.3/4.3 MB 1.1 MB/s eta 0:00:01\n",
            "   ------------------------------ --------- 3.3/4.3 MB 1.1 MB/s eta 0:00:01\n",
            "   ------------------------------ --------- 3.3/4.3 MB 1.1 MB/s eta 0:00:01\n",
            "   ------------------------------ --------- 3.3/4.3 MB 1.1 MB/s eta 0:00:01\n",
            "   ------------------------------ --------- 3.3/4.3 MB 1.1 MB/s eta 0:00:01\n",
            "   ------------------------------- -------- 3.4/4.3 MB 1.1 MB/s eta 0:00:01\n",
            "   ------------------------------- -------- 3.4/4.3 MB 1.1 MB/s eta 0:00:01\n",
            "   ------------------------------- -------- 3.4/4.3 MB 1.1 MB/s eta 0:00:01\n",
            "   ------------------------------- -------- 3.4/4.3 MB 1.1 MB/s eta 0:00:01\n",
            "   -------------------------------- ------- 3.5/4.3 MB 1.1 MB/s eta 0:00:01\n",
            "   -------------------------------- ------- 3.5/4.3 MB 1.1 MB/s eta 0:00:01\n",
            "   -------------------------------- ------- 3.5/4.3 MB 1.0 MB/s eta 0:00:01\n",
            "   --------------------------------- ------ 3.6/4.3 MB 1.0 MB/s eta 0:00:01\n",
            "   ---------------------------------- ----- 3.7/4.3 MB 1.1 MB/s eta 0:00:01\n",
            "   ---------------------------------- ----- 3.7/4.3 MB 1.1 MB/s eta 0:00:01\n",
            "   ---------------------------------- ----- 3.7/4.3 MB 1.1 MB/s eta 0:00:01\n",
            "   ---------------------------------- ----- 3.7/4.3 MB 1.1 MB/s eta 0:00:01\n",
            "   ---------------------------------- ----- 3.7/4.3 MB 1.1 MB/s eta 0:00:01\n",
            "   ---------------------------------- ----- 3.7/4.3 MB 1.1 MB/s eta 0:00:01\n",
            "   ----------------------------------- ---- 3.8/4.3 MB 1.0 MB/s eta 0:00:01\n",
            "   ----------------------------------- ---- 3.8/4.3 MB 1.0 MB/s eta 0:00:01\n",
            "   ----------------------------------- ---- 3.8/4.3 MB 1.0 MB/s eta 0:00:01\n",
            "   ----------------------------------- ---- 3.8/4.3 MB 1.0 MB/s eta 0:00:01\n",
            "   ----------------------------------- ---- 3.8/4.3 MB 1.0 MB/s eta 0:00:01\n",
            "   ----------------------------------- ---- 3.8/4.3 MB 1.0 MB/s eta 0:00:01\n",
            "   ------------------------------------ --- 3.9/4.3 MB 985.8 kB/s eta 0:00:01\n",
            "   ------------------------------------ --- 3.9/4.3 MB 985.8 kB/s eta 0:00:01\n",
            "   ------------------------------------ --- 4.0/4.3 MB 980.6 kB/s eta 0:00:01\n",
            "   ------------------------------------- -- 4.1/4.3 MB 1.0 MB/s eta 0:00:01\n",
            "   -------------------------------------- - 4.2/4.3 MB 1.0 MB/s eta 0:00:01\n",
            "   ---------------------------------------  4.3/4.3 MB 1.0 MB/s eta 0:00:01\n",
            "   ---------------------------------------- 4.3/4.3 MB 1.0 MB/s eta 0:00:00\n",
            "Installing collected packages: filetype, zstandard, uritemplate, protobuf, httplib2, grpcio, requests-toolbelt, proto-plus, googleapis-common-protos, langsmith, grpcio-status, google-auth-httplib2, google-api-core, langchain-core, google-api-python-client, google-ai-generativelanguage, google-generativeai, langchain-google-genai\n",
            "  Attempting uninstall: zstandard\n",
            "    Found existing installation: zstandard 0.19.0\n",
            "    Uninstalling zstandard-0.19.0:\n",
            "      Successfully uninstalled zstandard-0.19.0\n",
            "  Attempting uninstall: protobuf\n",
            "    Found existing installation: protobuf 3.19.6\n",
            "    Uninstalling protobuf-3.19.6:\n",
            "      Successfully uninstalled protobuf-3.19.6\n",
            "  Attempting uninstall: grpcio\n",
            "    Found existing installation: grpcio 1.51.3\n",
            "    Uninstalling grpcio-1.51.3:\n",
            "      Successfully uninstalled grpcio-1.51.3\n",
            "  Attempting uninstall: requests-toolbelt\n",
            "    Found existing installation: requests-toolbelt 0.9.1\n",
            "    Uninstalling requests-toolbelt-0.9.1:\n",
            "      Successfully uninstalled requests-toolbelt-0.9.1\n",
            "  Attempting uninstall: langsmith\n",
            "    Found existing installation: langsmith 0.1.55\n",
            "    Uninstalling langsmith-0.1.55:\n",
            "      Successfully uninstalled langsmith-0.1.55\n",
            "  Attempting uninstall: langchain-core\n",
            "    Found existing installation: langchain-core 0.1.52\n",
            "    Uninstalling langchain-core-0.1.52:\n",
            "      Successfully uninstalled langchain-core-0.1.52\n",
            "Successfully installed filetype-1.2.0 google-ai-generativelanguage-0.6.15 google-api-core-2.24.1 google-api-python-client-2.160.0 google-auth-httplib2-0.2.0 google-generativeai-0.8.4 googleapis-common-protos-1.66.0 grpcio-1.70.0 grpcio-status-1.70.0 httplib2-0.22.0 langchain-core-0.3.33 langchain-google-genai-2.0.9 langsmith-0.3.3 proto-plus-1.26.0 protobuf-5.29.3 requests-toolbelt-1.0.0 uritemplate-4.1.1 zstandard-0.23.0\n"
          ]
        },
        {
          "name": "stderr",
          "output_type": "stream",
          "text": [
            "WARNING: Ignoring invalid distribution -upyterlab (c:\\users\\relat\\anaconda3\\lib\\site-packages)\n",
            "WARNING: Ignoring invalid distribution -upyterlab (c:\\users\\relat\\anaconda3\\lib\\site-packages)\n",
            "ERROR: pip's dependency resolver does not currently take into account all the packages that are installed. This behaviour is the source of the following dependency conflicts.\n",
            "langchain 0.1.17 requires langchain-core<0.2.0,>=0.1.48, but you have langchain-core 0.3.33 which is incompatible.\n",
            "langchain 0.1.17 requires langsmith<0.2.0,>=0.1.17, but you have langsmith 0.3.3 which is incompatible.\n",
            "langchain-community 0.0.37 requires langchain-core<0.2.0,>=0.1.51, but you have langchain-core 0.3.33 which is incompatible.\n",
            "langchain-community 0.0.37 requires langsmith<0.2.0,>=0.1.0, but you have langsmith 0.3.3 which is incompatible.\n",
            "langchain-text-splitters 0.0.1 requires langchain-core<0.2.0,>=0.1.28, but you have langchain-core 0.3.33 which is incompatible.\n",
            "tensorboard 2.11.2 requires protobuf<4,>=3.9.2, but you have protobuf 5.29.3 which is incompatible.\n",
            "tensorflow-intel 2.11.0 requires protobuf<3.20,>=3.9.2, but you have protobuf 5.29.3 which is incompatible.\n",
            "\n",
            "[notice] A new release of pip is available: 24.0 -> 25.0\n",
            "[notice] To update, run: python.exe -m pip install --upgrade pip\n"
          ]
        },
        {
          "name": "stdout",
          "output_type": "stream",
          "text": [
            "Requirement already satisfied: langchain-community in c:\\users\\relat\\anaconda3\\lib\\site-packages (0.0.37)\n",
            "Requirement already satisfied: PyYAML>=5.3 in c:\\users\\relat\\anaconda3\\lib\\site-packages (from langchain-community) (6.0)\n",
            "Requirement already satisfied: SQLAlchemy<3,>=1.4 in c:\\users\\relat\\anaconda3\\lib\\site-packages (from langchain-community) (1.4.27)\n",
            "Requirement already satisfied: aiohttp<4.0.0,>=3.8.3 in c:\\users\\relat\\anaconda3\\lib\\site-packages (from langchain-community) (3.8.3)\n",
            "Requirement already satisfied: dataclasses-json<0.7,>=0.5.7 in c:\\users\\relat\\anaconda3\\lib\\site-packages (from langchain-community) (0.5.14)\n",
            "Collecting langchain-core<0.2.0,>=0.1.51 (from langchain-community)\n",
            "  Downloading langchain_core-0.1.53-py3-none-any.whl.metadata (5.9 kB)\n",
            "Collecting langsmith<0.2.0,>=0.1.0 (from langchain-community)\n",
            "  Downloading langsmith-0.1.147-py3-none-any.whl.metadata (14 kB)\n",
            "Requirement already satisfied: numpy<2,>=1 in c:\\users\\relat\\anaconda3\\lib\\site-packages (from langchain-community) (1.24.3)\n",
            "Requirement already satisfied: requests<3,>=2 in c:\\users\\relat\\anaconda3\\lib\\site-packages (from langchain-community) (2.31.0)\n",
            "Requirement already satisfied: tenacity<9.0.0,>=8.1.0 in c:\\users\\relat\\anaconda3\\lib\\site-packages (from langchain-community) (8.2.2)\n",
            "Requirement already satisfied: attrs>=17.3.0 in c:\\users\\relat\\anaconda3\\lib\\site-packages (from aiohttp<4.0.0,>=3.8.3->langchain-community) (23.2.0)\n",
            "Requirement already satisfied: charset-normalizer<3.0,>=2.0 in c:\\users\\relat\\anaconda3\\lib\\site-packages (from aiohttp<4.0.0,>=3.8.3->langchain-community) (2.0.4)\n",
            "Requirement already satisfied: multidict<7.0,>=4.5 in c:\\users\\relat\\anaconda3\\lib\\site-packages (from aiohttp<4.0.0,>=3.8.3->langchain-community) (6.0.2)\n",
            "Requirement already satisfied: async-timeout<5.0,>=4.0.0a3 in c:\\users\\relat\\anaconda3\\lib\\site-packages (from aiohttp<4.0.0,>=3.8.3->langchain-community) (4.0.2)\n",
            "Requirement already satisfied: yarl<2.0,>=1.0 in c:\\users\\relat\\anaconda3\\lib\\site-packages (from aiohttp<4.0.0,>=3.8.3->langchain-community) (1.8.1)\n",
            "Requirement already satisfied: frozenlist>=1.1.1 in c:\\users\\relat\\anaconda3\\lib\\site-packages (from aiohttp<4.0.0,>=3.8.3->langchain-community) (1.3.3)\n",
            "Requirement already satisfied: aiosignal>=1.1.2 in c:\\users\\relat\\anaconda3\\lib\\site-packages (from aiohttp<4.0.0,>=3.8.3->langchain-community) (1.2.0)\n",
            "Requirement already satisfied: marshmallow<4.0.0,>=3.18.0 in c:\\users\\relat\\anaconda3\\lib\\site-packages (from dataclasses-json<0.7,>=0.5.7->langchain-community) (3.20.1)\n",
            "Requirement already satisfied: typing-inspect<1,>=0.4.0 in c:\\users\\relat\\anaconda3\\lib\\site-packages (from dataclasses-json<0.7,>=0.5.7->langchain-community) (0.9.0)\n",
            "Requirement already satisfied: jsonpatch<2.0,>=1.33 in c:\\users\\relat\\anaconda3\\lib\\site-packages (from langchain-core<0.2.0,>=0.1.51->langchain-community) (1.33)\n",
            "Requirement already satisfied: packaging<24.0,>=23.2 in c:\\users\\relat\\anaconda3\\lib\\site-packages (from langchain-core<0.2.0,>=0.1.51->langchain-community) (23.2)\n",
            "Requirement already satisfied: pydantic<3,>=1 in c:\\users\\relat\\anaconda3\\lib\\site-packages (from langchain-core<0.2.0,>=0.1.51->langchain-community) (2.7.1)\n",
            "Requirement already satisfied: httpx<1,>=0.23.0 in c:\\users\\relat\\anaconda3\\lib\\site-packages (from langsmith<0.2.0,>=0.1.0->langchain-community) (0.27.0)\n",
            "Requirement already satisfied: orjson<4.0.0,>=3.9.14 in c:\\users\\relat\\anaconda3\\lib\\site-packages (from langsmith<0.2.0,>=0.1.0->langchain-community) (3.10.3)\n",
            "Requirement already satisfied: requests-toolbelt<2.0.0,>=1.0.0 in c:\\users\\relat\\anaconda3\\lib\\site-packages (from langsmith<0.2.0,>=0.1.0->langchain-community) (1.0.0)\n",
            "Requirement already satisfied: idna<4,>=2.5 in c:\\users\\relat\\anaconda3\\lib\\site-packages (from requests<3,>=2->langchain-community) (2.10)\n",
            "Requirement already satisfied: urllib3<3,>=1.21.1 in c:\\users\\relat\\anaconda3\\lib\\site-packages (from requests<3,>=2->langchain-community) (1.26.16)\n",
            "Requirement already satisfied: certifi>=2017.4.17 in c:\\users\\relat\\anaconda3\\lib\\site-packages (from requests<3,>=2->langchain-community) (2023.5.7)\n",
            "Requirement already satisfied: greenlet!=0.4.17 in c:\\users\\relat\\anaconda3\\lib\\site-packages (from SQLAlchemy<3,>=1.4->langchain-community) (2.0.1)\n",
            "Requirement already satisfied: anyio in c:\\users\\relat\\anaconda3\\lib\\site-packages (from httpx<1,>=0.23.0->langsmith<0.2.0,>=0.1.0->langchain-community) (3.7.1)\n",
            "Requirement already satisfied: httpcore==1.* in c:\\users\\relat\\anaconda3\\lib\\site-packages (from httpx<1,>=0.23.0->langsmith<0.2.0,>=0.1.0->langchain-community) (1.0.5)\n",
            "Requirement already satisfied: sniffio in c:\\users\\relat\\anaconda3\\lib\\site-packages (from httpx<1,>=0.23.0->langsmith<0.2.0,>=0.1.0->langchain-community) (1.3.1)\n",
            "Requirement already satisfied: h11<0.15,>=0.13 in c:\\users\\relat\\anaconda3\\lib\\site-packages (from httpcore==1.*->httpx<1,>=0.23.0->langsmith<0.2.0,>=0.1.0->langchain-community) (0.14.0)\n",
            "Requirement already satisfied: jsonpointer>=1.9 in c:\\users\\relat\\anaconda3\\lib\\site-packages (from jsonpatch<2.0,>=1.33->langchain-core<0.2.0,>=0.1.51->langchain-community) (2.4)\n",
            "Requirement already satisfied: annotated-types>=0.4.0 in c:\\users\\relat\\anaconda3\\lib\\site-packages (from pydantic<3,>=1->langchain-core<0.2.0,>=0.1.51->langchain-community) (0.6.0)\n",
            "Requirement already satisfied: pydantic-core==2.18.2 in c:\\users\\relat\\anaconda3\\lib\\site-packages (from pydantic<3,>=1->langchain-core<0.2.0,>=0.1.51->langchain-community) (2.18.2)\n",
            "Requirement already satisfied: typing-extensions>=4.6.1 in c:\\users\\relat\\anaconda3\\lib\\site-packages (from pydantic<3,>=1->langchain-core<0.2.0,>=0.1.51->langchain-community) (4.11.0)\n",
            "Requirement already satisfied: mypy-extensions>=0.3.0 in c:\\users\\relat\\anaconda3\\lib\\site-packages (from typing-inspect<1,>=0.4.0->dataclasses-json<0.7,>=0.5.7->langchain-community) (0.4.3)\n",
            "Requirement already satisfied: exceptiongroup in c:\\users\\relat\\anaconda3\\lib\\site-packages (from anyio->httpx<1,>=0.23.0->langsmith<0.2.0,>=0.1.0->langchain-community) (1.0.4)\n",
            "Downloading langchain_core-0.1.53-py3-none-any.whl (303 kB)\n",
            "   ---------------------------------------- 0.0/303.1 kB ? eta -:--:--\n",
            "   -------- ------------------------------- 61.4/303.1 kB 1.6 MB/s eta 0:00:01\n",
            "   --------- ------------------------------ 71.7/303.1 kB 1.3 MB/s eta 0:00:01\n",
            "   --------- ------------------------------ 71.7/303.1 kB 1.3 MB/s eta 0:00:01\n",
            "   --------- ------------------------------ 71.7/303.1 kB 1.3 MB/s eta 0:00:01\n",
            "   ------------------- ------------------ 153.6/303.1 kB 762.6 kB/s eta 0:00:01\n",
            "   ------------------- ------------------ 153.6/303.1 kB 762.6 kB/s eta 0:00:01\n",
            "   ------------------- ------------------ 153.6/303.1 kB 762.6 kB/s eta 0:00:01\n",
            "   ------------------- ------------------ 153.6/303.1 kB 762.6 kB/s eta 0:00:01\n",
            "   ----------------------------------- -- 286.7/303.1 kB 737.3 kB/s eta 0:00:01\n",
            "   -------------------------------------- 303.1/303.1 kB 748.9 kB/s eta 0:00:00\n",
            "Downloading langsmith-0.1.147-py3-none-any.whl (311 kB)\n",
            "   ---------------------------------------- 0.0/311.8 kB ? eta -:--:--\n",
            "   ------------------ --------------------- 143.4/311.8 kB 4.3 MB/s eta 0:00:01\n",
            "   ---------------------- ----------------- 174.1/311.8 kB 2.6 MB/s eta 0:00:01\n",
            "   ---------------------- ----------------- 174.1/311.8 kB 2.6 MB/s eta 0:00:01\n",
            "   ---------------------------- ----------- 225.3/311.8 kB 1.4 MB/s eta 0:00:01\n",
            "   -------------------------------- ------- 256.0/311.8 kB 1.4 MB/s eta 0:00:01\n",
            "   -------------------------------- ------- 256.0/311.8 kB 1.4 MB/s eta 0:00:01\n",
            "   -------------------------------- ------- 256.0/311.8 kB 1.4 MB/s eta 0:00:01\n",
            "   -------------------------------- ------- 256.0/311.8 kB 1.4 MB/s eta 0:00:01\n",
            "   -------------------------------------- 311.8/311.8 kB 919.4 kB/s eta 0:00:00\n",
            "Installing collected packages: langsmith, langchain-core\n",
            "  Attempting uninstall: langsmith\n",
            "    Found existing installation: langsmith 0.3.3\n",
            "    Uninstalling langsmith-0.3.3:\n",
            "      Successfully uninstalled langsmith-0.3.3\n",
            "  Attempting uninstall: langchain-core\n",
            "    Found existing installation: langchain-core 0.3.33\n",
            "    Uninstalling langchain-core-0.3.33:\n",
            "      Successfully uninstalled langchain-core-0.3.33\n",
            "Successfully installed langchain-core-0.1.53 langsmith-0.1.147\n"
          ]
        },
        {
          "name": "stderr",
          "output_type": "stream",
          "text": [
            "WARNING: Ignoring invalid distribution -upyterlab (c:\\users\\relat\\anaconda3\\lib\\site-packages)\n",
            "WARNING: Ignoring invalid distribution -upyterlab (c:\\users\\relat\\anaconda3\\lib\\site-packages)\n",
            "ERROR: pip's dependency resolver does not currently take into account all the packages that are installed. This behaviour is the source of the following dependency conflicts.\n",
            "langchain-google-genai 2.0.9 requires langchain-core<0.4.0,>=0.3.27, but you have langchain-core 0.1.53 which is incompatible.\n",
            "\n",
            "[notice] A new release of pip is available: 24.0 -> 25.0\n",
            "[notice] To update, run: python.exe -m pip install --upgrade pip\n"
          ]
        }
      ],
      "source": [
        "!pip install langchain\n",
        "!pip install langchain-google-genai\n",
        "!pip install langchain-community"
      ]
    },
    {
      "cell_type": "markdown",
      "metadata": {
        "id": "PtBa7rlWJWH3"
      },
      "source": [
        "## Enter API Tokens"
      ]
    },
    {
      "cell_type": "markdown",
      "metadata": {
        "id": "Y6RD7As2sm8G"
      },
      "source": [
        "#### Enter your Open AI Key here\n",
        "\n",
        "You can get the key from [here](https://platform.openai.com/api-keys) after creating an account or signing in"
      ]
    },
    {
      "cell_type": "code",
      "execution_count": 2,
      "metadata": {
        "colab": {
          "base_uri": "https://localhost:8080/"
        },
        "id": "9ogxBkS6ZnnC",
        "outputId": "4b411016-531d-4c31-85fc-b06cac039cc7"
      },
      "outputs": [],
      "source": [
        "from getpass import getpass\n",
        "\n",
        "GOOGLE_API_KEY = getpass('Please enter your Google AI API key here: ')"
      ]
    },
    {
      "cell_type": "markdown",
      "metadata": {
        "id": "T5rOqCyianbP"
      },
      "source": [
        "## Setup necessary system environment variables"
      ]
    },
    {
      "cell_type": "code",
      "execution_count": 3,
      "metadata": {
        "id": "1PIStD04Zp9p"
      },
      "outputs": [],
      "source": [
        "import os\n",
        "\n",
        "os.environ['GOOGLE_API_KEY'] = GOOGLE_API_KEY"
      ]
    },
    {
      "cell_type": "markdown",
      "metadata": {
        "id": "VDWhgxCy5bA6"
      },
      "source": [
        "## Load Necessary Dependencies and ChatGPT LLM"
      ]
    },
    {
      "cell_type": "code",
      "execution_count": 4,
      "metadata": {
        "id": "9GYhyRFRuJXG"
      },
      "outputs": [
        {
          "ename": "ImportError",
          "evalue": "cannot import name 'LangSmithParams' from 'langchain_core.language_models.chat_models' (c:\\Users\\relat\\anaconda3\\lib\\site-packages\\langchain_core\\language_models\\chat_models.py)",
          "output_type": "error",
          "traceback": [
            "\u001b[1;31m---------------------------------------------------------------------------\u001b[0m",
            "\u001b[1;31mImportError\u001b[0m                               Traceback (most recent call last)",
            "Cell \u001b[1;32mIn[4], line 2\u001b[0m\n\u001b[0;32m      1\u001b[0m \u001b[38;5;28;01mfrom\u001b[39;00m \u001b[38;5;21;01mlangchain_core\u001b[39;00m\u001b[38;5;21;01m.\u001b[39;00m\u001b[38;5;21;01mprompts\u001b[39;00m \u001b[38;5;28;01mimport\u001b[39;00m ChatPromptTemplate\n\u001b[1;32m----> 2\u001b[0m \u001b[38;5;28;01mfrom\u001b[39;00m \u001b[38;5;21;01mlangchain_google_genai\u001b[39;00m \u001b[38;5;28;01mimport\u001b[39;00m ChatGoogleGenerativeAI\n",
            "File \u001b[1;32mc:\\Users\\relat\\anaconda3\\lib\\site-packages\\langchain_google_genai\\__init__.py:59\u001b[0m\n\u001b[0;32m      1\u001b[0m \u001b[38;5;124;03m\"\"\"**LangChain Google Generative AI Integration**\u001b[39;00m\n\u001b[0;32m      2\u001b[0m \n\u001b[0;32m      3\u001b[0m \u001b[38;5;124;03mThis module integrates Google's Generative AI models, specifically the Gemini series, with the LangChain framework. It provides classes for interacting with chat models and generating embeddings, leveraging Google's advanced AI capabilities.\u001b[39;00m\n\u001b[1;32m   (...)\u001b[0m\n\u001b[0;32m     55\u001b[0m \u001b[38;5;124;03m```\u001b[39;00m\n\u001b[0;32m     56\u001b[0m \u001b[38;5;124;03m\"\"\"\u001b[39;00m  \u001b[38;5;66;03m# noqa: E501\u001b[39;00m\n\u001b[0;32m     58\u001b[0m \u001b[38;5;28;01mfrom\u001b[39;00m \u001b[38;5;21;01mlangchain_google_genai\u001b[39;00m\u001b[38;5;21;01m.\u001b[39;00m\u001b[38;5;21;01m_enums\u001b[39;00m \u001b[38;5;28;01mimport\u001b[39;00m HarmBlockThreshold, HarmCategory\n\u001b[1;32m---> 59\u001b[0m \u001b[38;5;28;01mfrom\u001b[39;00m \u001b[38;5;21;01mlangchain_google_genai\u001b[39;00m\u001b[38;5;21;01m.\u001b[39;00m\u001b[38;5;21;01mchat_models\u001b[39;00m \u001b[38;5;28;01mimport\u001b[39;00m ChatGoogleGenerativeAI\n\u001b[0;32m     60\u001b[0m \u001b[38;5;28;01mfrom\u001b[39;00m \u001b[38;5;21;01mlangchain_google_genai\u001b[39;00m\u001b[38;5;21;01m.\u001b[39;00m\u001b[38;5;21;01membeddings\u001b[39;00m \u001b[38;5;28;01mimport\u001b[39;00m GoogleGenerativeAIEmbeddings\n\u001b[0;32m     61\u001b[0m \u001b[38;5;28;01mfrom\u001b[39;00m \u001b[38;5;21;01mlangchain_google_genai\u001b[39;00m\u001b[38;5;21;01m.\u001b[39;00m\u001b[38;5;21;01mgenai_aqa\u001b[39;00m \u001b[38;5;28;01mimport\u001b[39;00m (\n\u001b[0;32m     62\u001b[0m     AqaInput,\n\u001b[0;32m     63\u001b[0m     AqaOutput,\n\u001b[0;32m     64\u001b[0m     GenAIAqa,\n\u001b[0;32m     65\u001b[0m )\n",
            "File \u001b[1;32mc:\\Users\\relat\\anaconda3\\lib\\site-packages\\langchain_google_genai\\chat_models.py:59\u001b[0m\n\u001b[0;32m     54\u001b[0m \u001b[38;5;28;01mfrom\u001b[39;00m \u001b[38;5;21;01mlangchain_core\u001b[39;00m\u001b[38;5;21;01m.\u001b[39;00m\u001b[38;5;21;01mcallbacks\u001b[39;00m\u001b[38;5;21;01m.\u001b[39;00m\u001b[38;5;21;01mmanager\u001b[39;00m \u001b[38;5;28;01mimport\u001b[39;00m (\n\u001b[0;32m     55\u001b[0m     AsyncCallbackManagerForLLMRun,\n\u001b[0;32m     56\u001b[0m     CallbackManagerForLLMRun,\n\u001b[0;32m     57\u001b[0m )\n\u001b[0;32m     58\u001b[0m \u001b[38;5;28;01mfrom\u001b[39;00m \u001b[38;5;21;01mlangchain_core\u001b[39;00m\u001b[38;5;21;01m.\u001b[39;00m\u001b[38;5;21;01mlanguage_models\u001b[39;00m \u001b[38;5;28;01mimport\u001b[39;00m LanguageModelInput\n\u001b[1;32m---> 59\u001b[0m \u001b[38;5;28;01mfrom\u001b[39;00m \u001b[38;5;21;01mlangchain_core\u001b[39;00m\u001b[38;5;21;01m.\u001b[39;00m\u001b[38;5;21;01mlanguage_models\u001b[39;00m\u001b[38;5;21;01m.\u001b[39;00m\u001b[38;5;21;01mchat_models\u001b[39;00m \u001b[38;5;28;01mimport\u001b[39;00m BaseChatModel, LangSmithParams\n\u001b[0;32m     60\u001b[0m \u001b[38;5;28;01mfrom\u001b[39;00m \u001b[38;5;21;01mlangchain_core\u001b[39;00m\u001b[38;5;21;01m.\u001b[39;00m\u001b[38;5;21;01mmessages\u001b[39;00m \u001b[38;5;28;01mimport\u001b[39;00m (\n\u001b[0;32m     61\u001b[0m     AIMessage,\n\u001b[0;32m     62\u001b[0m     AIMessageChunk,\n\u001b[1;32m   (...)\u001b[0m\n\u001b[0;32m     67\u001b[0m     ToolMessage,\n\u001b[0;32m     68\u001b[0m )\n\u001b[0;32m     69\u001b[0m \u001b[38;5;28;01mfrom\u001b[39;00m \u001b[38;5;21;01mlangchain_core\u001b[39;00m\u001b[38;5;21;01m.\u001b[39;00m\u001b[38;5;21;01mmessages\u001b[39;00m\u001b[38;5;21;01m.\u001b[39;00m\u001b[38;5;21;01mai\u001b[39;00m \u001b[38;5;28;01mimport\u001b[39;00m UsageMetadata\n",
            "\u001b[1;31mImportError\u001b[0m: cannot import name 'LangSmithParams' from 'langchain_core.language_models.chat_models' (c:\\Users\\relat\\anaconda3\\lib\\site-packages\\langchain_core\\language_models\\chat_models.py)"
          ]
        }
      ],
      "source": [
        "from langchain_core.prompts import ChatPromptTemplate\n",
        "from langchain_google_genai import ChatGoogleGenerativeAI"
      ]
    },
    {
      "cell_type": "code",
      "execution_count": 229,
      "metadata": {
        "id": "mY2bapqfuWq1"
      },
      "outputs": [],
      "source": [
        "gemini = ChatGoogleGenerativeAI(model=\"gemini-1.5-pro\", temperature=0)"
      ]
    },
    {
      "cell_type": "markdown",
      "metadata": {
        "id": "AeDkpvGDhMGV"
      },
      "source": [
        "## Task 1: Review Analyst\n",
        "\n",
        "We will be building an AI system that would be able to look at customer reviews and do some complex analysis. For each review do the following:\n",
        "\n",
        "  - Summarize the review. The summary should be at most 3 lines.\n",
        "  - Highlight both the positives and negatives\n",
        "  - Display the overall sentiment of the review (positive, negative, neutral)\n",
        "  - Display a list of 3 - 5 emotions expressed by the customer in the review\n",
        "  - If the sentiment is positive or neutral write an email and thank them for the review\n",
        "  - If the sentiment is negative apologize and write an email with an appropriate response\n",
        "\n",
        "Try to get the response in a nice structured format using an output parser"
      ]
    },
    {
      "cell_type": "markdown",
      "metadata": {
        "id": "9P_TrLpRAIXM"
      },
      "source": [
        "### Access Customer Reviews"
      ]
    },
    {
      "cell_type": "code",
      "execution_count": 230,
      "metadata": {
        "id": "hRbBZB57hT0G"
      },
      "outputs": [],
      "source": [
        "reviews = [\n",
        "    f\"\"\"\n",
        "    Just received the Bluetooth speaker I ordered for beach outings, and it's fantastic.\n",
        "    The sound quality is impressively clear with just the right amount of bass.\n",
        "    It's also waterproof, which tested true during a recent splashing incident.\n",
        "    Though it's compact, the volume can really fill the space.\n",
        "    The price was a bargain for such high-quality sound.\n",
        "    Shipping was also on point, arriving two days early in secure packaging.\n",
        "    \"\"\",\n",
        "    f\"\"\"\n",
        "    Purchased a new gaming keyboard because of its rave reviews about responsiveness and backlighting.\n",
        "    It hasn't disappointed. The keys have a satisfying click and the LED colors are vibrant,\n",
        "    enhancing my gaming experience significantly. Price-wise, it's quite competitive,\n",
        "    and I feel like I got a good deal. The delivery was swift, and it came well-protected,\n",
        "    ensuring no damage during transport.\n",
        "    \"\"\",\n",
        "    f\"\"\"\n",
        "    Ordered a set of wireless earbuds for running, and they've been a letdown.\n",
        "    The sound constantly cuts out, and the fit is uncomfortable after only a few minutes of use.\n",
        "    They advertised a 12-hour battery life, but I'm barely getting four hours.\n",
        "    Considering the cost, I expected better quality and performance.\n",
        "    They did arrive on time, but the positives end there. I'm already looking into a return.\n",
        "    \"\"\",\n",
        "    f\"\"\"\n",
        "    The tablet stand I bought was touted as being sturdy and adjustable,\n",
        "    but it's anything but. It wobbles with the slightest touch,\n",
        "    and the angles are not holding up as promised. It feels like a breeze could knock it over.\n",
        "    It was also pricier than others I've seen, which adds to the disappointment.\n",
        "    It did arrive promptly, but what's the use if the product doesn't meet basic expectations?\n",
        "    \"\"\",\n",
        "    f\"\"\"\n",
        "    Needed a new kitchen blender, but this model has been a nightmare.\n",
        "    It's supposed to handle various foods, but it struggles with anything tougher than cooked vegetables.\n",
        "    It's also incredibly noisy, and the 'easy-clean' feature is a joke; food gets stuck under the blades constantly.\n",
        "    I thought the brand meant quality, but this product has proven me wrong.\n",
        "    Plus, it arrived three days late. Definitely not worth the expense.\n",
        "    \"\"\"\n",
        "]"
      ]
    },
    {
      "cell_type": "markdown",
      "metadata": {
        "id": "Rz9SIYmYALOm"
      },
      "source": [
        "### Define Output Parser"
      ]
    },
    {
      "cell_type": "code",
      "execution_count": 231,
      "metadata": {
        "id": "HK0u7biN7uDh"
      },
      "outputs": [],
      "source": [
        "from langchain_core.prompts import PromptTemplate\n",
        "from langchain_core.output_parsers import PydanticOutputParser\n",
        "from langchain_core.pydantic_v1 import BaseModel, Field\n",
        "\n",
        "# Define your desired data structure - like a python data class.\n",
        "class ReviewAnalysisResponse(BaseModel):\n",
        "    summary: str = Field(description=\"A brief summary of the customer review with maximum 3 lines\")\n",
        "    positives: list = Field(description=\"A list showing the positives mentioned by the customer in the review if any - max 3 points\")\n",
        "    negatives: list = Field(description=\"A list showing the negatives mentioned by the customer in the review if any - max 3 points\")\n",
        "    sentiment: str = Field(description=\"One word showing the sentiment of the review - positive, negative or neutral\")\n",
        "    emotions: list = Field(description=\"A list of 3 - 5 emotions expressed by the customer in the review\")\n",
        "    email: str = Field(description=\"Detailed email to the customer based on the sentiment\")\n",
        "\n",
        "# Set up a parser + inject instructions into the prompt template.\n",
        "parser = PydanticOutputParser(pydantic_object=ReviewAnalysisResponse)"
      ]
    },
    {
      "cell_type": "markdown",
      "metadata": {
        "id": "Fc8awL6dAONh"
      },
      "source": [
        "### Create the input prompt for the LLM"
      ]
    },
    {
      "cell_type": "code",
      "execution_count": 232,
      "metadata": {
        "id": "0TylxOCZ85O1"
      },
      "outputs": [],
      "source": [
        "# create the final prompt with formatting instructions from the parser\n",
        "prompt_txt = \"\"\"\n",
        "             Analyze the given customer review below and generate the response based on the instructions\n",
        "             mentioned below in the format instructions.\n",
        "             Also remember to write a detailed email response for the email field based on these conditions:\n",
        "               - email should be addressed to Dear Customer and signed with Service Agent\n",
        "               - thank them if the review is positive or neutral\n",
        "               - apologize if the review is negative\n",
        "\n",
        "             Format Instructions:\n",
        "             {format_instructions}\n",
        "\n",
        "             Review:\n",
        "             {review}\n",
        "            \"\"\"\n",
        "prompt = PromptTemplate(\n",
        "    template=prompt_txt,\n",
        "    input_variables=[\"review\"],\n",
        "    partial_variables={\"format_instructions\": parser.get_format_instructions()},\n",
        ")"
      ]
    },
    {
      "cell_type": "markdown",
      "metadata": {
        "id": "EE0l_m31AQ5k"
      },
      "source": [
        "### Create a LCEL LLM Chain"
      ]
    },
    {
      "cell_type": "code",
      "execution_count": 233,
      "metadata": {
        "id": "SWfHWjm-9HuD"
      },
      "outputs": [],
      "source": [
        "# create a simple LCEL chain to take the prompt, pass it to the LLM, enforce response format using the parser\n",
        "chain = (prompt\n",
        "           |\n",
        "         chatgpt\n",
        "           |\n",
        "         parser)"
      ]
    },
    {
      "cell_type": "markdown",
      "metadata": {
        "id": "70ivaPOrATnR"
      },
      "source": [
        "### Format the input reviews"
      ]
    },
    {
      "cell_type": "code",
      "execution_count": 234,
      "metadata": {
        "colab": {
          "base_uri": "https://localhost:8080/"
        },
        "id": "BBPSeLKA9N5M",
        "outputId": "824d7e82-06d4-4ac4-a4d3-8a8f2df74a2f"
      },
      "outputs": [
        {
          "data": {
            "text/plain": [
              "{'review': \"\\n    Just received the Bluetooth speaker I ordered for beach outings, and it's fantastic.\\n    The sound quality is impressively clear with just the right amount of bass.\\n    It's also waterproof, which tested true during a recent splashing incident.\\n    Though it's compact, the volume can really fill the space.\\n    The price was a bargain for such high-quality sound.\\n    Shipping was also on point, arriving two days early in secure packaging.\\n    \"}"
            ]
          },
          "execution_count": 234,
          "metadata": {},
          "output_type": "execute_result"
        }
      ],
      "source": [
        "reviews_formatted = [{'review': review} for review in reviews]\n",
        "reviews_formatted[0]"
      ]
    },
    {
      "cell_type": "markdown",
      "metadata": {
        "id": "MHbJvZlYAVcH"
      },
      "source": [
        "### Get responses from the LLM"
      ]
    },
    {
      "cell_type": "code",
      "execution_count": 235,
      "metadata": {
        "id": "tpH9R-iO9Wbq"
      },
      "outputs": [],
      "source": [
        "responses = chain.map().invoke(reviews_formatted)"
      ]
    },
    {
      "cell_type": "markdown",
      "metadata": {
        "id": "z7wS4_lnAYAL"
      },
      "source": [
        "### View LLM responses"
      ]
    },
    {
      "cell_type": "code",
      "execution_count": 236,
      "metadata": {
        "colab": {
          "base_uri": "https://localhost:8080/"
        },
        "id": "NaC9oaRY-15M",
        "outputId": "2f2b0706-b14e-4af8-9b94-5f8d0901d911"
      },
      "outputs": [
        {
          "data": {
            "text/plain": [
              "ReviewAnalysisResponse(summary='Customer is extremely satisfied with the Bluetooth speaker purchased for beach outings.', positives=['Impressively clear sound quality with just the right amount of bass', 'Waterproof feature tested true during a recent splashing incident', 'Compact size with the ability to fill the space with volume'], negatives=[], sentiment='positive', emotions=['Excited', 'Satisfied', 'Impressed'], email='Dear Customer, \\n\\nThank you for your positive review of the Bluetooth speaker you purchased for beach outings. We are thrilled to hear that you are extremely satisfied with the sound quality, waterproof feature, and compact size of the speaker. Your feedback is greatly appreciated and we are delighted that the speaker met your expectations. Should you have any further inquiries or require assistance, please do not hesitate to contact us. \\n\\nBest Regards, \\nService Agent')"
            ]
          },
          "execution_count": 236,
          "metadata": {},
          "output_type": "execute_result"
        }
      ],
      "source": [
        "responses[0]"
      ]
    },
    {
      "cell_type": "code",
      "execution_count": 237,
      "metadata": {
        "colab": {
          "base_uri": "https://localhost:8080/"
        },
        "id": "VN7PfKvBbGZV",
        "outputId": "fc05d56f-7586-433a-be5a-fcc8ff63ce6d"
      },
      "outputs": [
        {
          "data": {
            "text/plain": [
              "{'summary': 'Customer is extremely satisfied with the Bluetooth speaker purchased for beach outings.',\n",
              " 'positives': ['Impressively clear sound quality with just the right amount of bass',\n",
              "  'Waterproof feature tested true during a recent splashing incident',\n",
              "  'Compact size with the ability to fill the space with volume'],\n",
              " 'negatives': [],\n",
              " 'sentiment': 'positive',\n",
              " 'emotions': ['Excited', 'Satisfied', 'Impressed'],\n",
              " 'email': 'Dear Customer, \\n\\nThank you for your positive review of the Bluetooth speaker you purchased for beach outings. We are thrilled to hear that you are extremely satisfied with the sound quality, waterproof feature, and compact size of the speaker. Your feedback is greatly appreciated and we are delighted that the speaker met your expectations. Should you have any further inquiries or require assistance, please do not hesitate to contact us. \\n\\nBest Regards, \\nService Agent'}"
            ]
          },
          "execution_count": 237,
          "metadata": {},
          "output_type": "execute_result"
        }
      ],
      "source": [
        "responses[0].dict()"
      ]
    },
    {
      "cell_type": "code",
      "execution_count": 238,
      "metadata": {
        "colab": {
          "base_uri": "https://localhost:8080/"
        },
        "id": "dHJpeC5f9ZfK",
        "outputId": "de7bfe78-63db-45c5-c40b-493a9f714538"
      },
      "outputs": [
        {
          "name": "stdout",
          "output_type": "stream",
          "text": [
            "summary:\n",
            "Customer is extremely satisfied with the Bluetooth speaker purchased for beach outings.\n",
            "positives:\n",
            "['Impressively clear sound quality with just the right amount of bass', 'Waterproof feature tested true during a recent splashing incident', 'Compact size with the ability to fill the space with volume']\n",
            "negatives:\n",
            "[]\n",
            "sentiment:\n",
            "positive\n",
            "emotions:\n",
            "['Excited', 'Satisfied', 'Impressed']\n",
            "email:\n",
            "Dear Customer, \n",
            "\n",
            "Thank you for your positive review of the Bluetooth speaker you purchased for beach outings. We are thrilled to hear that you are extremely satisfied with the sound quality, waterproof feature, and compact size of the speaker. Your feedback is greatly appreciated and we are delighted that the speaker met your expectations. Should you have any further inquiries or require assistance, please do not hesitate to contact us. \n",
            "\n",
            "Best Regards, \n",
            "Service Agent\n",
            "-----\n",
            "\n",
            "\n",
            "summary:\n",
            "Positive review highlighting the responsiveness, backlighting, competitive price, and swift delivery of the gaming keyboard.\n",
            "positives:\n",
            "['Responsiveness of the keys', 'Vibrant LED backlighting', 'Competitive price']\n",
            "negatives:\n",
            "[]\n",
            "sentiment:\n",
            "positive\n",
            "emotions:\n",
            "['Satisfaction', 'Excitement']\n",
            "email:\n",
            "Dear Customer, Thank you for your positive review of our gaming keyboard! We are thrilled to hear that you are enjoying the responsiveness, backlighting, and competitive price of the keyboard. Your satisfaction is our top priority, and we are glad that the delivery was swift and the product arrived in good condition. If you have any further feedback or need assistance, please feel free to reach out to us. Thank you for choosing our product! Sincerely, Service Agent\n",
            "-----\n",
            "\n",
            "\n",
            "summary:\n",
            "Customer is disappointed with the wireless earbuds purchased for running due to sound quality, uncomfortable fit, and battery life.\n",
            "positives:\n",
            "[]\n",
            "negatives:\n",
            "['Sound constantly cuts out', 'Uncomfortable fit after a few minutes of use', 'Battery life falls short of advertised 12 hours']\n",
            "sentiment:\n",
            "negative\n",
            "emotions:\n",
            "['disappointed', 'frustrated', 'dissatisfied']\n",
            "email:\n",
            "Dear Customer, We are truly sorry to hear about your experience with the wireless earbuds you purchased. We apologize for the sound quality issues, uncomfortable fit, and battery life falling short of expectations. Your feedback is valuable to us, and we will work to improve our product quality. We understand your disappointment and frustration and would like to assist you with the return process. Please contact our customer service for further assistance. Sincerely, Service Agent\n",
            "-----\n",
            "\n",
            "\n",
            "summary:\n",
            "Customer is disappointed with the tablet stand purchased due to lack of sturdiness and adjustability\n",
            "positives:\n",
            "[]\n",
            "negatives:\n",
            "['Tablet stand wobbles easily', 'Angles are not holding up as promised', 'Product feels flimsy and overpriced']\n",
            "sentiment:\n",
            "negative\n",
            "emotions:\n",
            "['disappointed', 'frustrated', 'dissatisfied']\n",
            "email:\n",
            "Dear Customer, We are truly sorry to hear about your disappointing experience with the tablet stand you purchased. Your feedback is valuable to us, and we apologize for not meeting your expectations in terms of product quality and performance. We understand your frustration and would like to make things right. Please feel free to reach out to us for further assistance. Sincerely, Service Agent\n",
            "-----\n",
            "\n",
            "\n",
            "summary:\n",
            "Customer is dissatisfied with the kitchen blender due to performance issues and late delivery.\n",
            "positives:\n",
            "[]\n",
            "negatives:\n",
            "['Struggles with tougher foods', 'Incredibly noisy', \"'Easy-clean' feature is ineffective\", 'Late delivery']\n",
            "sentiment:\n",
            "negative\n",
            "emotions:\n",
            "['frustration', 'disappointment']\n",
            "email:\n",
            "Dear Customer, We are truly sorry to hear about your experience with our kitchen blender. We apologize for the performance issues you faced and the delay in delivery. Your feedback is valuable to us, and we will work on improving our product and service. Please feel free to reach out to us for any further assistance. Sincerely, Service Agent\n",
            "-----\n",
            "\n",
            "\n"
          ]
        }
      ],
      "source": [
        "for response in responses:\n",
        "  for k,v in response.dict().items():\n",
        "    print(f'{k}:\\n{v}')\n",
        "  print('-----')\n",
        "  print('\\n')"
      ]
    },
    {
      "cell_type": "code",
      "execution_count": 239,
      "metadata": {
        "colab": {
          "base_uri": "https://localhost:8080/",
          "height": 293
        },
        "id": "4VgCY3aV-7AI",
        "outputId": "252507c5-ecfa-4fff-f47e-34e42f92ba2f"
      },
      "outputs": [
        {
          "data": {
            "application/vnd.google.colaboratory.intrinsic+json": {
              "summary": "{\n  \"name\": \"pd\",\n  \"rows\": 5,\n  \"fields\": [\n    {\n      \"column\": \"summary\",\n      \"properties\": {\n        \"dtype\": \"string\",\n        \"num_unique_values\": 5,\n        \"samples\": [\n          \"Positive review highlighting the responsiveness, backlighting, competitive price, and swift delivery of the gaming keyboard.\",\n          \"Customer is dissatisfied with the kitchen blender due to performance issues and late delivery.\",\n          \"Customer is disappointed with the wireless earbuds purchased for running due to sound quality, uncomfortable fit, and battery life.\"\n        ],\n        \"semantic_type\": \"\",\n        \"description\": \"\"\n      }\n    },\n    {\n      \"column\": \"positives\",\n      \"properties\": {\n        \"dtype\": \"object\",\n        \"semantic_type\": \"\",\n        \"description\": \"\"\n      }\n    },\n    {\n      \"column\": \"negatives\",\n      \"properties\": {\n        \"dtype\": \"object\",\n        \"semantic_type\": \"\",\n        \"description\": \"\"\n      }\n    },\n    {\n      \"column\": \"sentiment\",\n      \"properties\": {\n        \"dtype\": \"category\",\n        \"num_unique_values\": 2,\n        \"samples\": [\n          \"negative\",\n          \"positive\"\n        ],\n        \"semantic_type\": \"\",\n        \"description\": \"\"\n      }\n    },\n    {\n      \"column\": \"emotions\",\n      \"properties\": {\n        \"dtype\": \"object\",\n        \"semantic_type\": \"\",\n        \"description\": \"\"\n      }\n    },\n    {\n      \"column\": \"email\",\n      \"properties\": {\n        \"dtype\": \"string\",\n        \"num_unique_values\": 5,\n        \"samples\": [\n          \"Dear Customer, Thank you for your positive review of our gaming keyboard! We are thrilled to hear that you are enjoying the responsiveness, backlighting, and competitive price of the keyboard. Your satisfaction is our top priority, and we are glad that the delivery was swift and the product arrived in good condition. If you have any further feedback or need assistance, please feel free to reach out to us. Thank you for choosing our product! Sincerely, Service Agent\",\n          \"Dear Customer, We are truly sorry to hear about your experience with our kitchen blender. We apologize for the performance issues you faced and the delay in delivery. Your feedback is valuable to us, and we will work on improving our product and service. Please feel free to reach out to us for any further assistance. Sincerely, Service Agent\"\n        ],\n        \"semantic_type\": \"\",\n        \"description\": \"\"\n      }\n    }\n  ]\n}",
              "type": "dataframe"
            },
            "text/html": [
              "\n",
              "  <div id=\"df-f1db656d-f5a7-4f14-853e-510de1e02e9b\" class=\"colab-df-container\">\n",
              "    <div>\n",
              "<style scoped>\n",
              "    .dataframe tbody tr th:only-of-type {\n",
              "        vertical-align: middle;\n",
              "    }\n",
              "\n",
              "    .dataframe tbody tr th {\n",
              "        vertical-align: top;\n",
              "    }\n",
              "\n",
              "    .dataframe thead th {\n",
              "        text-align: right;\n",
              "    }\n",
              "</style>\n",
              "<table border=\"1\" class=\"dataframe\">\n",
              "  <thead>\n",
              "    <tr style=\"text-align: right;\">\n",
              "      <th></th>\n",
              "      <th>summary</th>\n",
              "      <th>positives</th>\n",
              "      <th>negatives</th>\n",
              "      <th>sentiment</th>\n",
              "      <th>emotions</th>\n",
              "      <th>email</th>\n",
              "    </tr>\n",
              "  </thead>\n",
              "  <tbody>\n",
              "    <tr>\n",
              "      <th>0</th>\n",
              "      <td>Customer is extremely satisfied with the Bluet...</td>\n",
              "      <td>[Impressively clear sound quality with just th...</td>\n",
              "      <td>[]</td>\n",
              "      <td>positive</td>\n",
              "      <td>[Excited, Satisfied, Impressed]</td>\n",
              "      <td>Dear Customer, \\n\\nThank you for your positive...</td>\n",
              "    </tr>\n",
              "    <tr>\n",
              "      <th>1</th>\n",
              "      <td>Positive review highlighting the responsivenes...</td>\n",
              "      <td>[Responsiveness of the keys, Vibrant LED backl...</td>\n",
              "      <td>[]</td>\n",
              "      <td>positive</td>\n",
              "      <td>[Satisfaction, Excitement]</td>\n",
              "      <td>Dear Customer, Thank you for your positive rev...</td>\n",
              "    </tr>\n",
              "    <tr>\n",
              "      <th>2</th>\n",
              "      <td>Customer is disappointed with the wireless ear...</td>\n",
              "      <td>[]</td>\n",
              "      <td>[Sound constantly cuts out, Uncomfortable fit ...</td>\n",
              "      <td>negative</td>\n",
              "      <td>[disappointed, frustrated, dissatisfied]</td>\n",
              "      <td>Dear Customer, We are truly sorry to hear abou...</td>\n",
              "    </tr>\n",
              "    <tr>\n",
              "      <th>3</th>\n",
              "      <td>Customer is disappointed with the tablet stand...</td>\n",
              "      <td>[]</td>\n",
              "      <td>[Tablet stand wobbles easily, Angles are not h...</td>\n",
              "      <td>negative</td>\n",
              "      <td>[disappointed, frustrated, dissatisfied]</td>\n",
              "      <td>Dear Customer, We are truly sorry to hear abou...</td>\n",
              "    </tr>\n",
              "    <tr>\n",
              "      <th>4</th>\n",
              "      <td>Customer is dissatisfied with the kitchen blen...</td>\n",
              "      <td>[]</td>\n",
              "      <td>[Struggles with tougher foods, Incredibly nois...</td>\n",
              "      <td>negative</td>\n",
              "      <td>[frustration, disappointment]</td>\n",
              "      <td>Dear Customer, We are truly sorry to hear abou...</td>\n",
              "    </tr>\n",
              "  </tbody>\n",
              "</table>\n",
              "</div>\n",
              "    <div class=\"colab-df-buttons\">\n",
              "\n",
              "  <div class=\"colab-df-container\">\n",
              "    <button class=\"colab-df-convert\" onclick=\"convertToInteractive('df-f1db656d-f5a7-4f14-853e-510de1e02e9b')\"\n",
              "            title=\"Convert this dataframe to an interactive table.\"\n",
              "            style=\"display:none;\">\n",
              "\n",
              "  <svg xmlns=\"http://www.w3.org/2000/svg\" height=\"24px\" viewBox=\"0 -960 960 960\">\n",
              "    <path d=\"M120-120v-720h720v720H120Zm60-500h600v-160H180v160Zm220 220h160v-160H400v160Zm0 220h160v-160H400v160ZM180-400h160v-160H180v160Zm440 0h160v-160H620v160ZM180-180h160v-160H180v160Zm440 0h160v-160H620v160Z\"/>\n",
              "  </svg>\n",
              "    </button>\n",
              "\n",
              "  <style>\n",
              "    .colab-df-container {\n",
              "      display:flex;\n",
              "      gap: 12px;\n",
              "    }\n",
              "\n",
              "    .colab-df-convert {\n",
              "      background-color: #E8F0FE;\n",
              "      border: none;\n",
              "      border-radius: 50%;\n",
              "      cursor: pointer;\n",
              "      display: none;\n",
              "      fill: #1967D2;\n",
              "      height: 32px;\n",
              "      padding: 0 0 0 0;\n",
              "      width: 32px;\n",
              "    }\n",
              "\n",
              "    .colab-df-convert:hover {\n",
              "      background-color: #E2EBFA;\n",
              "      box-shadow: 0px 1px 2px rgba(60, 64, 67, 0.3), 0px 1px 3px 1px rgba(60, 64, 67, 0.15);\n",
              "      fill: #174EA6;\n",
              "    }\n",
              "\n",
              "    .colab-df-buttons div {\n",
              "      margin-bottom: 4px;\n",
              "    }\n",
              "\n",
              "    [theme=dark] .colab-df-convert {\n",
              "      background-color: #3B4455;\n",
              "      fill: #D2E3FC;\n",
              "    }\n",
              "\n",
              "    [theme=dark] .colab-df-convert:hover {\n",
              "      background-color: #434B5C;\n",
              "      box-shadow: 0px 1px 3px 1px rgba(0, 0, 0, 0.15);\n",
              "      filter: drop-shadow(0px 1px 2px rgba(0, 0, 0, 0.3));\n",
              "      fill: #FFFFFF;\n",
              "    }\n",
              "  </style>\n",
              "\n",
              "    <script>\n",
              "      const buttonEl =\n",
              "        document.querySelector('#df-f1db656d-f5a7-4f14-853e-510de1e02e9b button.colab-df-convert');\n",
              "      buttonEl.style.display =\n",
              "        google.colab.kernel.accessAllowed ? 'block' : 'none';\n",
              "\n",
              "      async function convertToInteractive(key) {\n",
              "        const element = document.querySelector('#df-f1db656d-f5a7-4f14-853e-510de1e02e9b');\n",
              "        const dataTable =\n",
              "          await google.colab.kernel.invokeFunction('convertToInteractive',\n",
              "                                                    [key], {});\n",
              "        if (!dataTable) return;\n",
              "\n",
              "        const docLinkHtml = 'Like what you see? Visit the ' +\n",
              "          '<a target=\"_blank\" href=https://colab.research.google.com/notebooks/data_table.ipynb>data table notebook</a>'\n",
              "          + ' to learn more about interactive tables.';\n",
              "        element.innerHTML = '';\n",
              "        dataTable['output_type'] = 'display_data';\n",
              "        await google.colab.output.renderOutput(dataTable, element);\n",
              "        const docLink = document.createElement('div');\n",
              "        docLink.innerHTML = docLinkHtml;\n",
              "        element.appendChild(docLink);\n",
              "      }\n",
              "    </script>\n",
              "  </div>\n",
              "\n",
              "\n",
              "<div id=\"df-738a9cf7-619e-437a-a3a5-8446d2c20ff1\">\n",
              "  <button class=\"colab-df-quickchart\" onclick=\"quickchart('df-738a9cf7-619e-437a-a3a5-8446d2c20ff1')\"\n",
              "            title=\"Suggest charts\"\n",
              "            style=\"display:none;\">\n",
              "\n",
              "<svg xmlns=\"http://www.w3.org/2000/svg\" height=\"24px\"viewBox=\"0 0 24 24\"\n",
              "     width=\"24px\">\n",
              "    <g>\n",
              "        <path d=\"M19 3H5c-1.1 0-2 .9-2 2v14c0 1.1.9 2 2 2h14c1.1 0 2-.9 2-2V5c0-1.1-.9-2-2-2zM9 17H7v-7h2v7zm4 0h-2V7h2v10zm4 0h-2v-4h2v4z\"/>\n",
              "    </g>\n",
              "</svg>\n",
              "  </button>\n",
              "\n",
              "<style>\n",
              "  .colab-df-quickchart {\n",
              "      --bg-color: #E8F0FE;\n",
              "      --fill-color: #1967D2;\n",
              "      --hover-bg-color: #E2EBFA;\n",
              "      --hover-fill-color: #174EA6;\n",
              "      --disabled-fill-color: #AAA;\n",
              "      --disabled-bg-color: #DDD;\n",
              "  }\n",
              "\n",
              "  [theme=dark] .colab-df-quickchart {\n",
              "      --bg-color: #3B4455;\n",
              "      --fill-color: #D2E3FC;\n",
              "      --hover-bg-color: #434B5C;\n",
              "      --hover-fill-color: #FFFFFF;\n",
              "      --disabled-bg-color: #3B4455;\n",
              "      --disabled-fill-color: #666;\n",
              "  }\n",
              "\n",
              "  .colab-df-quickchart {\n",
              "    background-color: var(--bg-color);\n",
              "    border: none;\n",
              "    border-radius: 50%;\n",
              "    cursor: pointer;\n",
              "    display: none;\n",
              "    fill: var(--fill-color);\n",
              "    height: 32px;\n",
              "    padding: 0;\n",
              "    width: 32px;\n",
              "  }\n",
              "\n",
              "  .colab-df-quickchart:hover {\n",
              "    background-color: var(--hover-bg-color);\n",
              "    box-shadow: 0 1px 2px rgba(60, 64, 67, 0.3), 0 1px 3px 1px rgba(60, 64, 67, 0.15);\n",
              "    fill: var(--button-hover-fill-color);\n",
              "  }\n",
              "\n",
              "  .colab-df-quickchart-complete:disabled,\n",
              "  .colab-df-quickchart-complete:disabled:hover {\n",
              "    background-color: var(--disabled-bg-color);\n",
              "    fill: var(--disabled-fill-color);\n",
              "    box-shadow: none;\n",
              "  }\n",
              "\n",
              "  .colab-df-spinner {\n",
              "    border: 2px solid var(--fill-color);\n",
              "    border-color: transparent;\n",
              "    border-bottom-color: var(--fill-color);\n",
              "    animation:\n",
              "      spin 1s steps(1) infinite;\n",
              "  }\n",
              "\n",
              "  @keyframes spin {\n",
              "    0% {\n",
              "      border-color: transparent;\n",
              "      border-bottom-color: var(--fill-color);\n",
              "      border-left-color: var(--fill-color);\n",
              "    }\n",
              "    20% {\n",
              "      border-color: transparent;\n",
              "      border-left-color: var(--fill-color);\n",
              "      border-top-color: var(--fill-color);\n",
              "    }\n",
              "    30% {\n",
              "      border-color: transparent;\n",
              "      border-left-color: var(--fill-color);\n",
              "      border-top-color: var(--fill-color);\n",
              "      border-right-color: var(--fill-color);\n",
              "    }\n",
              "    40% {\n",
              "      border-color: transparent;\n",
              "      border-right-color: var(--fill-color);\n",
              "      border-top-color: var(--fill-color);\n",
              "    }\n",
              "    60% {\n",
              "      border-color: transparent;\n",
              "      border-right-color: var(--fill-color);\n",
              "    }\n",
              "    80% {\n",
              "      border-color: transparent;\n",
              "      border-right-color: var(--fill-color);\n",
              "      border-bottom-color: var(--fill-color);\n",
              "    }\n",
              "    90% {\n",
              "      border-color: transparent;\n",
              "      border-bottom-color: var(--fill-color);\n",
              "    }\n",
              "  }\n",
              "</style>\n",
              "\n",
              "  <script>\n",
              "    async function quickchart(key) {\n",
              "      const quickchartButtonEl =\n",
              "        document.querySelector('#' + key + ' button');\n",
              "      quickchartButtonEl.disabled = true;  // To prevent multiple clicks.\n",
              "      quickchartButtonEl.classList.add('colab-df-spinner');\n",
              "      try {\n",
              "        const charts = await google.colab.kernel.invokeFunction(\n",
              "            'suggestCharts', [key], {});\n",
              "      } catch (error) {\n",
              "        console.error('Error during call to suggestCharts:', error);\n",
              "      }\n",
              "      quickchartButtonEl.classList.remove('colab-df-spinner');\n",
              "      quickchartButtonEl.classList.add('colab-df-quickchart-complete');\n",
              "    }\n",
              "    (() => {\n",
              "      let quickchartButtonEl =\n",
              "        document.querySelector('#df-738a9cf7-619e-437a-a3a5-8446d2c20ff1 button');\n",
              "      quickchartButtonEl.style.display =\n",
              "        google.colab.kernel.accessAllowed ? 'block' : 'none';\n",
              "    })();\n",
              "  </script>\n",
              "</div>\n",
              "\n",
              "    </div>\n",
              "  </div>\n"
            ],
            "text/plain": [
              "                                             summary  \\\n",
              "0  Customer is extremely satisfied with the Bluet...   \n",
              "1  Positive review highlighting the responsivenes...   \n",
              "2  Customer is disappointed with the wireless ear...   \n",
              "3  Customer is disappointed with the tablet stand...   \n",
              "4  Customer is dissatisfied with the kitchen blen...   \n",
              "\n",
              "                                           positives  \\\n",
              "0  [Impressively clear sound quality with just th...   \n",
              "1  [Responsiveness of the keys, Vibrant LED backl...   \n",
              "2                                                 []   \n",
              "3                                                 []   \n",
              "4                                                 []   \n",
              "\n",
              "                                           negatives sentiment  \\\n",
              "0                                                 []  positive   \n",
              "1                                                 []  positive   \n",
              "2  [Sound constantly cuts out, Uncomfortable fit ...  negative   \n",
              "3  [Tablet stand wobbles easily, Angles are not h...  negative   \n",
              "4  [Struggles with tougher foods, Incredibly nois...  negative   \n",
              "\n",
              "                                   emotions  \\\n",
              "0           [Excited, Satisfied, Impressed]   \n",
              "1                [Satisfaction, Excitement]   \n",
              "2  [disappointed, frustrated, dissatisfied]   \n",
              "3  [disappointed, frustrated, dissatisfied]   \n",
              "4             [frustration, disappointment]   \n",
              "\n",
              "                                               email  \n",
              "0  Dear Customer, \\n\\nThank you for your positive...  \n",
              "1  Dear Customer, Thank you for your positive rev...  \n",
              "2  Dear Customer, We are truly sorry to hear abou...  \n",
              "3  Dear Customer, We are truly sorry to hear abou...  \n",
              "4  Dear Customer, We are truly sorry to hear abou...  "
            ]
          },
          "execution_count": 239,
          "metadata": {},
          "output_type": "execute_result"
        }
      ],
      "source": [
        "import pandas as pd\n",
        "\n",
        "pd.DataFrame(response.dict() for response in responses)"
      ]
    },
    {
      "cell_type": "markdown",
      "metadata": {
        "id": "eEtB1IOimA0i"
      },
      "source": [
        "## Mini-Project 2: Research Paper Analyst\n",
        "\n",
        "Make ChatGPT act as an AI expert and transform the given research paper abstract based on the nature of the audience mentioned below.\n",
        "\n",
        "- Short summary of maximum 10 lines for a general audience\n",
        "- Detailed report for a healthcare company. Have bullet points for pros and cons of ethics in Generative AI as mentioned in the paper\n",
        "- Detailed report for a generative AI company solving healthcare problems. Have bullet points for key points mentioned for Generative AI for text, images and structured data based healthcare\n",
        "\n",
        "Try to use `ChatPromptTemplate` so you can have a conversation with ChatGPT for each of the above tasks using conversational prompting"
      ]
    },
    {
      "cell_type": "markdown",
      "metadata": {
        "id": "gjiheMsOMUO6"
      },
      "source": [
        "### Access the Research Paper Abstract"
      ]
    },
    {
      "cell_type": "code",
      "execution_count": 240,
      "metadata": {
        "id": "4FnITE6zhV-9"
      },
      "outputs": [],
      "source": [
        "paper_abstract = f\"\"\"\n",
        "The widespread use of ChatGPT and other emerging technology powered by generative\n",
        "artificial intelligence (AI) has drawn much attention to potential ethical issues, especially in\n",
        "high-stakes applications such as healthcare.1–3 However, less clear is how to resolve such\n",
        "issues beyond following guidelines and regulations that are still under discussion and\n",
        "development. On the other hand, other types of generative AI have been used to synthesize\n",
        "images and other types of data for research and practical purposes, which have resolved some\n",
        "ethical issues and exposed other ethical issues,4,5 but such technology is less often the focus\n",
        "of ongoing ethical discussions. Here we highlight gaps in current ethical discussions of\n",
        "generative AI via a systematic scoping review of relevant existing research in healthcare, and\n",
        "reduce the gaps by proposing an ethics checklist for comprehensive assessment and\n",
        "transparent documentation of ethical discussions in generative AI development. While the\n",
        "checklist can be readily integrated into the current peer review and publication system to\n",
        "enhance generative AI research, it may also be used in broader settings to disclose ethicsrelated considerations in generative AI-powered products (or real-life applications of such\n",
        "products) to help users establish reasonable trust in their capabilities.\n",
        "\n",
        "Current ethical discussions on generative AI in healthcare\n",
        "We conducted a systematic scoping review to analyse current ethical discussions on\n",
        "generative AI in healthcare. Our search in four major academic research databases for\n",
        "relevant publications from January 2013 to July 2023 yielded 2859 articles (see Methods for\n",
        "detailed search strategy and Supplementary Figure S1 for the PRISMA flow diagram), of\n",
        "which 193 articles were included for analysis based on application data modality (text, image,\n",
        "or structured data), ethical issues discussed, generative AI involved, and whether generative\n",
        "AI causes or offers technical solutions for issues raised.\n",
        "\n",
        "Generative AI for text data-based healthcare\n",
        "Forty-one of the 193 articles discussed ethical considerations pertaining to generative AI\n",
        "applications for text data, with 20 articles describing methodological developments or\n",
        "applications of generative AI and the other 21 articles describing review-type works on this\n",
        "topic. Although some of these review-type articles used the general term “generative AI”, the\n",
        "main body and supporting evidence focused on LLMs. Twenty-nine articles had in-depth\n",
        "discussions on ethical issues, whereas the other 12 articles only briefly touched on some\n",
        "ethical aspects.\n",
        "Among the 41 articles, 29 articles focused on discussing ethical issues caused by LLMs (and\n",
        "specifically by GPT in 16 of the articles), covering a wide range of application scenarios and\n",
        "considered the application of all 10 ethical principles identified in the review (see Figure 1),\n",
        "as well as other less discussed concerns such as human-AI interaction, and the rights of\n",
        "LLMs to be considered as co-authors in scientific papers. One paper only commented briefly\n",
        "on the need for ethical considerations in LLMs and is summarised in the “Others” category.\n",
        "Although all ethical principles are equally important, some are discussed more often than\n",
        "others, e.g., non-maleficence (also referred to in the literature as ‘benevolence’), equity, and\n",
        "privacy.\n",
        "Fifteen of the 41 articles aimed to resolve some existing ethical issues (for example,\n",
        "confidentiality of medical data) by using LLMs and other generative AI (e.g., GAN,\n",
        "autoencoder or diffusion), such as, to reduce privacy concerns by generating synthetic\n",
        "medical text, to reduce disparity by providing accessible services and assistance, to detect\n",
        "health-related misinformation, to generate trusted content, and to improve accountability or\n",
        "transparency over existing approaches. While most articles focused on either identifying\n",
        "ethical issues caused by generative AI or proposing generative AI-based solutions, three\n",
        "articles discussed both to provide a more balanced perspective.\n",
        "\n",
        "Generative AI for image and structured data-based healthcare\n",
        "Unlike the diverse application scenarios of generative AI based on text data, for image and\n",
        "structured data, this use of generative AI focuses on data synthesis and encryption. Hence the\n",
        "majority of articles discussed the methodological developments of generative AI as giving\n",
        "rise to a more distinctive and focused set of ethical issues.\n",
        "5\n",
        "Notably, of the 98 articles on image data and 58 articles on structured data, more than half\n",
        "(n=63 for image data and n=33 for structured data) only mentioned ethical considerations as a\n",
        "brief motivation for methodological developments or as a general discussion point. The rest\n",
        "included more in-depth discussions or evaluations of ethical issues. Among these 155 articles\n",
        "(as one article covered multiple modalities), 11 articles were review-type work, where 10\n",
        "articles reviewed methods that mentioned one or two ethical perspectives, and only one\n",
        "article24 discussed detailed ethical concerns on generative AI applications.\n",
        "Resolving privacy issues was the main aim of articles for these two data modalities (n=74 for\n",
        "image data and n=50 for structured data; see Figure 1), predominantly by generating synthetic\n",
        "data using GAN. Eight articles on image data and 9 articles on structured data used\n",
        "generative AI to reduce bias, e.g., by synthesizing data for under-represented subgroups in\n",
        "existing databases. For both data modalities, we did not see explicit discussions on resolving\n",
        "autonomy, integrity, or morality issues using generative AI, and for structured data the articles\n",
        "additionally lacked discussions on trust or transparency.\n",
        "Only 11 articles for image data selectively discussed some ethical issues that generative AI\n",
        "can give rise to, without specific discussions regarding autonomy, integrity, or morality. For\n",
        "structured data, only 4 articles discussed equity, privacy, or data security issues caused by\n",
        "generative AI. Only two articles on structured data included both the cause and resolving\n",
        "perspectives by discussing ethical issues that may arise from limitations of methods\n",
        "proposed, specifically bias induced when synthesizing data in order to resolve privacy issues.\n",
        "\"\"\""
      ]
    },
    {
      "cell_type": "markdown",
      "metadata": {
        "id": "sI2cwvpIMaGJ"
      },
      "source": [
        "### Create a prompt template for paper analysis and transformation"
      ]
    },
    {
      "cell_type": "code",
      "execution_count": 241,
      "metadata": {
        "id": "E5S9fvwrYZ6u"
      },
      "outputs": [],
      "source": [
        "SYS_PROMPT = \"\"\"\n",
        "Act as a Artificial Intelligence Expert.\n",
        "Transform the input research paper abstract given below\n",
        "based on the instruction input by the user.\n",
        "\"\"\"\n",
        "prompt = ChatPromptTemplate.from_messages(\n",
        "    [\n",
        "        (\"system\", SYS_PROMPT),\n",
        "        (\"human\", \"{instruction}\"),\n",
        "    ]\n",
        ")"
      ]
    },
    {
      "cell_type": "markdown",
      "metadata": {
        "id": "PqEOQ4VZMfaC"
      },
      "source": [
        "### Create a simple LCEL LLM Chain"
      ]
    },
    {
      "cell_type": "code",
      "execution_count": 242,
      "metadata": {
        "id": "uc8fNUiXDUAC"
      },
      "outputs": [],
      "source": [
        "chain = (prompt\n",
        "            |\n",
        "         chatgpt)"
      ]
    },
    {
      "cell_type": "markdown",
      "metadata": {
        "id": "r2mbR5lfMkF8"
      },
      "source": [
        "### Generate the first summary report"
      ]
    },
    {
      "cell_type": "code",
      "execution_count": 244,
      "metadata": {
        "id": "L8cgurf6Ytds"
      },
      "outputs": [],
      "source": [
        "from langchain_core.messages import HumanMessage\n",
        "\n",
        "prompt_txt = f\"\"\"\n",
        "Based on the following research paper abstract,\n",
        "create the summary report of maximum 10 lines\n",
        "for a general audience\n",
        "\n",
        "Abstract:\n",
        "{paper_abstract}\n",
        "\"\"\"\n",
        "messages = [HumanMessage(content=prompt_txt)]\n",
        "user_instruction = {'instruction': messages}\n",
        "\n",
        "response = chain.invoke(user_instruction)\n",
        "messages.append(response)"
      ]
    },
    {
      "cell_type": "code",
      "execution_count": 245,
      "metadata": {
        "colab": {
          "base_uri": "https://localhost:8080/"
        },
        "id": "OVE4atsREzfp",
        "outputId": "76f21ec3-ee14-4fcb-c0ea-5f9066104b01"
      },
      "outputs": [
        {
          "name": "stdout",
          "output_type": "stream",
          "text": [
            "Summary:\n",
            "The use of generative artificial intelligence (AI) technologies like ChatGPT in healthcare raises ethical concerns. A systematic review identified gaps in ethical discussions and proposed an ethics checklist for transparent documentation. In healthcare, generative AI is used for text, image, and structured data, with a focus on resolving privacy issues and reducing bias. While some articles discuss ethical issues caused by generative AI, others propose solutions like generating synthetic data and improving transparency. However, discussions on autonomy, integrity, and morality issues are limited in the context of generative AI applications in healthcare.\n"
          ]
        }
      ],
      "source": [
        "print(response.content)"
      ]
    },
    {
      "cell_type": "code",
      "execution_count": 246,
      "metadata": {
        "colab": {
          "base_uri": "https://localhost:8080/",
          "height": 105
        },
        "id": "hxvTIb4SdLd7",
        "outputId": "785b1e04-0427-4a4f-bd57-8b01363b6533"
      },
      "outputs": [
        {
          "data": {
            "application/vnd.google.colaboratory.intrinsic+json": {
              "type": "string"
            },
            "text/plain": [
              "'Summary:\\nThe use of generative artificial intelligence (AI) technologies like ChatGPT in healthcare raises ethical concerns. A systematic review identified gaps in ethical discussions and proposed an ethics checklist for transparent documentation. In healthcare, generative AI is used for text, image, and structured data, with a focus on resolving privacy issues and reducing bias. While some articles discuss ethical issues caused by generative AI, others propose solutions like generating synthetic data and improving transparency. However, discussions on autonomy, integrity, and morality issues are limited in the context of generative AI applications in healthcare.'"
            ]
          },
          "execution_count": 246,
          "metadata": {},
          "output_type": "execute_result"
        }
      ],
      "source": [
        "response.content"
      ]
    },
    {
      "cell_type": "code",
      "execution_count": 247,
      "metadata": {
        "colab": {
          "base_uri": "https://localhost:8080/"
        },
        "id": "8XYxJPOkdP9p",
        "outputId": "44e22b33-6d87-42f9-c436-85429ced96d7"
      },
      "outputs": [
        {
          "data": {
            "text/plain": [
              "[HumanMessage(content='\\nBased on the following research paper abstract,\\ncreate the summary report of maximum 10 lines\\nfor a general audience\\n\\nAbstract:\\n\\nThe widespread use of ChatGPT and other emerging technology powered by generative\\nartificial intelligence (AI) has drawn much attention to potential ethical issues, especially in\\nhigh-stakes applications such as healthcare.1–3 However, less clear is how to resolve such\\nissues beyond following guidelines and regulations that are still under discussion and\\ndevelopment. On the other hand, other types of generative AI have been used to synthesize\\nimages and other types of data for research and practical purposes, which have resolved some\\nethical issues and exposed other ethical issues,4,5 but such technology is less often the focus\\nof ongoing ethical discussions. Here we highlight gaps in current ethical discussions of\\ngenerative AI via a systematic scoping review of relevant existing research in healthcare, and\\nreduce the gaps by proposing an ethics checklist for comprehensive assessment and\\ntransparent documentation of ethical discussions in generative AI development. While the\\nchecklist can be readily integrated into the current peer review and publication system to\\nenhance generative AI research, it may also be used in broader settings to disclose ethicsrelated considerations in generative AI-powered products (or real-life applications of such\\nproducts) to help users establish reasonable trust in their capabilities.\\n\\nCurrent ethical discussions on generative AI in healthcare\\nWe conducted a systematic scoping review to analyse current ethical discussions on\\ngenerative AI in healthcare. Our search in four major academic research databases for\\nrelevant publications from January 2013 to July 2023 yielded 2859 articles (see Methods for\\ndetailed search strategy and Supplementary Figure S1 for the PRISMA flow diagram), of\\nwhich 193 articles were included for analysis based on application data modality (text, image,\\nor structured data), ethical issues discussed, generative AI involved, and whether generative\\nAI causes or offers technical solutions for issues raised.\\n\\nGenerative AI for text data-based healthcare\\nForty-one of the 193 articles discussed ethical considerations pertaining to generative AI\\napplications for text data, with 20 articles describing methodological developments or\\napplications of generative AI and the other 21 articles describing review-type works on this\\ntopic. Although some of these review-type articles used the general term “generative AI”, the\\nmain body and supporting evidence focused on LLMs. Twenty-nine articles had in-depth\\ndiscussions on ethical issues, whereas the other 12 articles only briefly touched on some\\nethical aspects.\\nAmong the 41 articles, 29 articles focused on discussing ethical issues caused by LLMs (and\\nspecifically by GPT in 16 of the articles), covering a wide range of application scenarios and\\nconsidered the application of all 10 ethical principles identified in the review (see Figure 1),\\nas well as other less discussed concerns such as human-AI interaction, and the rights of\\nLLMs to be considered as co-authors in scientific papers. One paper only commented briefly\\non the need for ethical considerations in LLMs and is summarised in the “Others” category.\\nAlthough all ethical principles are equally important, some are discussed more often than\\nothers, e.g., non-maleficence (also referred to in the literature as ‘benevolence’), equity, and\\nprivacy.\\nFifteen of the 41 articles aimed to resolve some existing ethical issues (for example,\\nconfidentiality of medical data) by using LLMs and other generative AI (e.g., GAN,\\nautoencoder or diffusion), such as, to reduce privacy concerns by generating synthetic\\nmedical text, to reduce disparity by providing accessible services and assistance, to detect\\nhealth-related misinformation, to generate trusted content, and to improve accountability or\\ntransparency over existing approaches. While most articles focused on either identifying\\nethical issues caused by generative AI or proposing generative AI-based solutions, three\\narticles discussed both to provide a more balanced perspective.\\n\\nGenerative AI for image and structured data-based healthcare\\nUnlike the diverse application scenarios of generative AI based on text data, for image and\\nstructured data, this use of generative AI focuses on data synthesis and encryption. Hence the\\nmajority of articles discussed the methodological developments of generative AI as giving\\nrise to a more distinctive and focused set of ethical issues.\\n5\\nNotably, of the 98 articles on image data and 58 articles on structured data, more than half\\n(n=63 for image data and n=33 for structured data) only mentioned ethical considerations as a\\nbrief motivation for methodological developments or as a general discussion point. The rest\\nincluded more in-depth discussions or evaluations of ethical issues. Among these 155 articles\\n(as one article covered multiple modalities), 11 articles were review-type work, where 10\\narticles reviewed methods that mentioned one or two ethical perspectives, and only one\\narticle24 discussed detailed ethical concerns on generative AI applications.\\nResolving privacy issues was the main aim of articles for these two data modalities (n=74 for\\nimage data and n=50 for structured data; see Figure 1), predominantly by generating synthetic\\ndata using GAN. Eight articles on image data and 9 articles on structured data used\\ngenerative AI to reduce bias, e.g., by synthesizing data for under-represented subgroups in\\nexisting databases. For both data modalities, we did not see explicit discussions on resolving\\nautonomy, integrity, or morality issues using generative AI, and for structured data the articles\\nadditionally lacked discussions on trust or transparency.\\nOnly 11 articles for image data selectively discussed some ethical issues that generative AI\\ncan give rise to, without specific discussions regarding autonomy, integrity, or morality. For\\nstructured data, only 4 articles discussed equity, privacy, or data security issues caused by\\ngenerative AI. Only two articles on structured data included both the cause and resolving\\nperspectives by discussing ethical issues that may arise from limitations of methods\\nproposed, specifically bias induced when synthesizing data in order to resolve privacy issues.\\n\\n'),\n",
              " AIMessage(content='Summary:\\nThe use of generative artificial intelligence (AI) technologies like ChatGPT in healthcare raises ethical concerns. A systematic review identified gaps in ethical discussions and proposed an ethics checklist for transparent documentation. In healthcare, generative AI is used for text, image, and structured data, with a focus on resolving privacy issues and reducing bias. While some articles discuss ethical issues caused by generative AI, others propose solutions like generating synthetic data and improving transparency. However, discussions on autonomy, integrity, and morality issues are limited in the context of generative AI applications in healthcare.', response_metadata={'token_usage': {'completion_tokens': 115, 'prompt_tokens': 1321, 'total_tokens': 1436}, 'model_name': 'gpt-3.5-turbo', 'system_fingerprint': None, 'finish_reason': 'stop', 'logprobs': None}, id='run-c1ecfca5-f7b2-4f54-990d-b3e907698ed1-0')]"
            ]
          },
          "execution_count": 247,
          "metadata": {},
          "output_type": "execute_result"
        }
      ],
      "source": [
        "messages"
      ]
    },
    {
      "cell_type": "markdown",
      "metadata": {
        "id": "Us1V2RJQM_ry"
      },
      "source": [
        "### Generate the second summary report\n",
        "\n",
        "Here we add the previous LLM response and the new instructions to the list of messages and send the whole thing to the LLM so it has access to the historical conversation"
      ]
    },
    {
      "cell_type": "code",
      "execution_count": 248,
      "metadata": {
        "id": "X_wqbVYOI42b"
      },
      "outputs": [],
      "source": [
        "prompt_txt = f\"\"\"\n",
        "Use only the research paper abstract from earlier and create a detailed report for a healthcare company.\n",
        "In the report, also include bullet points (3 max) for pros and cons of ethics in Generative AI\n",
        "\"\"\"\n",
        "messages.append(HumanMessage(content=prompt_txt))\n",
        "user_instruction = {'instruction': messages}\n",
        "response = chain.invoke(user_instruction)\n",
        "messages.append(response)"
      ]
    },
    {
      "cell_type": "code",
      "execution_count": 249,
      "metadata": {
        "colab": {
          "base_uri": "https://localhost:8080/"
        },
        "id": "up-RtmIfFrAV",
        "outputId": "5f99582f-6492-48fd-feac-a84003df4232"
      },
      "outputs": [
        {
          "name": "stdout",
          "output_type": "stream",
          "text": [
            "**Summary Report for Healthcare Company:**\n",
            "\n",
            "The use of generative artificial intelligence (AI) technologies, such as ChatGPT, in healthcare has raised significant ethical concerns. A systematic scoping review highlighted gaps in current ethical discussions and proposed an ethics checklist for transparent documentation in the development of generative AI.\n",
            "\n",
            "**Key Points:**\n",
            "- Generative AI is utilized in healthcare for text, image, and structured data applications.\n",
            "- The focus is on addressing privacy issues and reducing bias through the generation of synthetic data.\n",
            "- While some articles discuss ethical issues stemming from generative AI, others propose solutions to enhance transparency and accountability.\n",
            "\n",
            "**Pros of Ethics in Generative AI:**\n",
            "- Enhances transparency and accountability in AI development.\n",
            "- Facilitates the resolution of privacy concerns through the generation of synthetic data.\n",
            "- Supports the reduction of bias by providing data for under-represented subgroups.\n",
            "\n",
            "**Cons of Ethics in Generative AI:**\n",
            "- Limited discussions on autonomy, integrity, and morality issues in generative AI applications.\n",
            "- Challenges in addressing complex ethical dilemmas that may arise from the use of AI in healthcare.\n",
            "- Lack of explicit focus on trust and transparency issues in certain data modalities.\n",
            "\n",
            "This report emphasizes the importance of integrating ethical considerations into the development and deployment of generative AI technologies in healthcare to ensure responsible and ethical use for the benefit of patients and healthcare providers.\n"
          ]
        }
      ],
      "source": [
        "print(response.content)"
      ]
    },
    {
      "cell_type": "code",
      "execution_count": 250,
      "metadata": {
        "colab": {
          "base_uri": "https://localhost:8080/"
        },
        "id": "cC_wp-OBdxgh",
        "outputId": "6372b9a9-67c5-4745-b5ce-d64e16021521"
      },
      "outputs": [
        {
          "data": {
            "text/plain": [
              "[HumanMessage(content='\\nBased on the following research paper abstract,\\ncreate the summary report of maximum 10 lines\\nfor a general audience\\n\\nAbstract:\\n\\nThe widespread use of ChatGPT and other emerging technology powered by generative\\nartificial intelligence (AI) has drawn much attention to potential ethical issues, especially in\\nhigh-stakes applications such as healthcare.1–3 However, less clear is how to resolve such\\nissues beyond following guidelines and regulations that are still under discussion and\\ndevelopment. On the other hand, other types of generative AI have been used to synthesize\\nimages and other types of data for research and practical purposes, which have resolved some\\nethical issues and exposed other ethical issues,4,5 but such technology is less often the focus\\nof ongoing ethical discussions. Here we highlight gaps in current ethical discussions of\\ngenerative AI via a systematic scoping review of relevant existing research in healthcare, and\\nreduce the gaps by proposing an ethics checklist for comprehensive assessment and\\ntransparent documentation of ethical discussions in generative AI development. While the\\nchecklist can be readily integrated into the current peer review and publication system to\\nenhance generative AI research, it may also be used in broader settings to disclose ethicsrelated considerations in generative AI-powered products (or real-life applications of such\\nproducts) to help users establish reasonable trust in their capabilities.\\n\\nCurrent ethical discussions on generative AI in healthcare\\nWe conducted a systematic scoping review to analyse current ethical discussions on\\ngenerative AI in healthcare. Our search in four major academic research databases for\\nrelevant publications from January 2013 to July 2023 yielded 2859 articles (see Methods for\\ndetailed search strategy and Supplementary Figure S1 for the PRISMA flow diagram), of\\nwhich 193 articles were included for analysis based on application data modality (text, image,\\nor structured data), ethical issues discussed, generative AI involved, and whether generative\\nAI causes or offers technical solutions for issues raised.\\n\\nGenerative AI for text data-based healthcare\\nForty-one of the 193 articles discussed ethical considerations pertaining to generative AI\\napplications for text data, with 20 articles describing methodological developments or\\napplications of generative AI and the other 21 articles describing review-type works on this\\ntopic. Although some of these review-type articles used the general term “generative AI”, the\\nmain body and supporting evidence focused on LLMs. Twenty-nine articles had in-depth\\ndiscussions on ethical issues, whereas the other 12 articles only briefly touched on some\\nethical aspects.\\nAmong the 41 articles, 29 articles focused on discussing ethical issues caused by LLMs (and\\nspecifically by GPT in 16 of the articles), covering a wide range of application scenarios and\\nconsidered the application of all 10 ethical principles identified in the review (see Figure 1),\\nas well as other less discussed concerns such as human-AI interaction, and the rights of\\nLLMs to be considered as co-authors in scientific papers. One paper only commented briefly\\non the need for ethical considerations in LLMs and is summarised in the “Others” category.\\nAlthough all ethical principles are equally important, some are discussed more often than\\nothers, e.g., non-maleficence (also referred to in the literature as ‘benevolence’), equity, and\\nprivacy.\\nFifteen of the 41 articles aimed to resolve some existing ethical issues (for example,\\nconfidentiality of medical data) by using LLMs and other generative AI (e.g., GAN,\\nautoencoder or diffusion), such as, to reduce privacy concerns by generating synthetic\\nmedical text, to reduce disparity by providing accessible services and assistance, to detect\\nhealth-related misinformation, to generate trusted content, and to improve accountability or\\ntransparency over existing approaches. While most articles focused on either identifying\\nethical issues caused by generative AI or proposing generative AI-based solutions, three\\narticles discussed both to provide a more balanced perspective.\\n\\nGenerative AI for image and structured data-based healthcare\\nUnlike the diverse application scenarios of generative AI based on text data, for image and\\nstructured data, this use of generative AI focuses on data synthesis and encryption. Hence the\\nmajority of articles discussed the methodological developments of generative AI as giving\\nrise to a more distinctive and focused set of ethical issues.\\n5\\nNotably, of the 98 articles on image data and 58 articles on structured data, more than half\\n(n=63 for image data and n=33 for structured data) only mentioned ethical considerations as a\\nbrief motivation for methodological developments or as a general discussion point. The rest\\nincluded more in-depth discussions or evaluations of ethical issues. Among these 155 articles\\n(as one article covered multiple modalities), 11 articles were review-type work, where 10\\narticles reviewed methods that mentioned one or two ethical perspectives, and only one\\narticle24 discussed detailed ethical concerns on generative AI applications.\\nResolving privacy issues was the main aim of articles for these two data modalities (n=74 for\\nimage data and n=50 for structured data; see Figure 1), predominantly by generating synthetic\\ndata using GAN. Eight articles on image data and 9 articles on structured data used\\ngenerative AI to reduce bias, e.g., by synthesizing data for under-represented subgroups in\\nexisting databases. For both data modalities, we did not see explicit discussions on resolving\\nautonomy, integrity, or morality issues using generative AI, and for structured data the articles\\nadditionally lacked discussions on trust or transparency.\\nOnly 11 articles for image data selectively discussed some ethical issues that generative AI\\ncan give rise to, without specific discussions regarding autonomy, integrity, or morality. For\\nstructured data, only 4 articles discussed equity, privacy, or data security issues caused by\\ngenerative AI. Only two articles on structured data included both the cause and resolving\\nperspectives by discussing ethical issues that may arise from limitations of methods\\nproposed, specifically bias induced when synthesizing data in order to resolve privacy issues.\\n\\n'),\n",
              " AIMessage(content='Summary:\\nThe use of generative artificial intelligence (AI) technologies like ChatGPT in healthcare raises ethical concerns. A systematic review identified gaps in ethical discussions and proposed an ethics checklist for transparent documentation. In healthcare, generative AI is used for text, image, and structured data, with a focus on resolving privacy issues and reducing bias. While some articles discuss ethical issues caused by generative AI, others propose solutions like generating synthetic data and improving transparency. However, discussions on autonomy, integrity, and morality issues are limited in the context of generative AI applications in healthcare.', response_metadata={'token_usage': {'completion_tokens': 115, 'prompt_tokens': 1321, 'total_tokens': 1436}, 'model_name': 'gpt-3.5-turbo', 'system_fingerprint': None, 'finish_reason': 'stop', 'logprobs': None}, id='run-c1ecfca5-f7b2-4f54-990d-b3e907698ed1-0'),\n",
              " HumanMessage(content='\\nUse only the research paper abstract from earlier and create a detailed report for a healthcare company.\\nIn the report, also include bullet points (3 max) for pros and cons of ethics in Generative AI\\n'),\n",
              " AIMessage(content='**Summary Report for Healthcare Company:**\\n\\nThe use of generative artificial intelligence (AI) technologies, such as ChatGPT, in healthcare has raised significant ethical concerns. A systematic scoping review highlighted gaps in current ethical discussions and proposed an ethics checklist for transparent documentation in the development of generative AI.\\n\\n**Key Points:**\\n- Generative AI is utilized in healthcare for text, image, and structured data applications.\\n- The focus is on addressing privacy issues and reducing bias through the generation of synthetic data.\\n- While some articles discuss ethical issues stemming from generative AI, others propose solutions to enhance transparency and accountability.\\n\\n**Pros of Ethics in Generative AI:**\\n- Enhances transparency and accountability in AI development.\\n- Facilitates the resolution of privacy concerns through the generation of synthetic data.\\n- Supports the reduction of bias by providing data for under-represented subgroups.\\n\\n**Cons of Ethics in Generative AI:**\\n- Limited discussions on autonomy, integrity, and morality issues in generative AI applications.\\n- Challenges in addressing complex ethical dilemmas that may arise from the use of AI in healthcare.\\n- Lack of explicit focus on trust and transparency issues in certain data modalities.\\n\\nThis report emphasizes the importance of integrating ethical considerations into the development and deployment of generative AI technologies in healthcare to ensure responsible and ethical use for the benefit of patients and healthcare providers.', response_metadata={'token_usage': {'completion_tokens': 275, 'prompt_tokens': 1583, 'total_tokens': 1858}, 'model_name': 'gpt-3.5-turbo', 'system_fingerprint': None, 'finish_reason': 'stop', 'logprobs': None}, id='run-5dd6da6d-0a4a-4690-ae55-2ecf36b37c8f-0')]"
            ]
          },
          "execution_count": 250,
          "metadata": {},
          "output_type": "execute_result"
        }
      ],
      "source": [
        "messages"
      ]
    },
    {
      "cell_type": "markdown",
      "metadata": {
        "id": "xS2PGF6DNMky"
      },
      "source": [
        "### Generate the third summary report\n",
        "\n",
        "Here we add the previous LLM response and the new instructions to the list of messages and send the whole thing to the LLM so it has access to the historical conversation"
      ]
    },
    {
      "cell_type": "code",
      "execution_count": 251,
      "metadata": {
        "id": "lD6sIrMVJrRx"
      },
      "outputs": [],
      "source": [
        "prompt_txt = f\"\"\"\n",
        "Use only the research paper abstract from earlier and create a detailed report for a generative AI company solving healthcare problems.\n",
        "In the report also include sections for key points mentioned around Generative AI for text, images and structured data based healthcare\n",
        "\"\"\"\n",
        "messages.append(HumanMessage(content=prompt_txt))\n",
        "user_instruction = {'instruction': messages}\n",
        "response = chain.invoke(user_instruction)"
      ]
    },
    {
      "cell_type": "code",
      "execution_count": 252,
      "metadata": {
        "colab": {
          "base_uri": "https://localhost:8080/"
        },
        "id": "fUjMVo63eZit",
        "outputId": "8e3ad813-30b5-4e3f-9b93-ce9a2e91397b"
      },
      "outputs": [
        {
          "name": "stdout",
          "output_type": "stream",
          "text": [
            "**Summary Report for Generative AI Company in Healthcare:**\n",
            "\n",
            "The utilization of generative artificial intelligence (AI) technologies, including ChatGPT, in healthcare has sparked ethical concerns. A systematic scoping review identified gaps in current ethical discussions and proposed an ethics checklist for transparent documentation in the development of generative AI.\n",
            "\n",
            "**Key Points:**\n",
            "- Generative AI is applied in healthcare for text, image, and structured data applications.\n",
            "- Emphasis is placed on addressing privacy issues and reducing bias through the generation of synthetic data.\n",
            "- While some articles delve into ethical issues arising from generative AI, others suggest solutions to enhance transparency and accountability.\n",
            "\n",
            "**Pros of Ethics in Generative AI:**\n",
            "- Enhances transparency and accountability in AI development.\n",
            "- Facilitates the resolution of privacy concerns through the generation of synthetic data.\n",
            "- Supports the reduction of bias by providing data for under-represented subgroups.\n",
            "\n",
            "**Cons of Ethics in Generative AI:**\n",
            "- Limited discussions on autonomy, integrity, and morality issues in generative AI applications.\n",
            "- Challenges in addressing complex ethical dilemmas that may arise from the use of AI in healthcare.\n",
            "- Lack of explicit focus on trust and transparency issues in certain data modalities.\n",
            "\n",
            "This report underscores the significance of integrating ethical considerations into the development and implementation of generative AI technologies in healthcare to ensure responsible and ethical use for the benefit of patients and healthcare providers.\n"
          ]
        }
      ],
      "source": [
        "print(response.content)"
      ]
    },
    {
      "cell_type": "markdown",
      "metadata": {
        "id": "eX8i7Yg2NS9F"
      },
      "source": [
        "## Mini-Project 3: Social Media Marketing Analyst\n",
        "\n",
        "You have the technical fact sheets of one smartphone. Try some iterative prompt engineering and do the following:\n",
        "\n",
        "1. Generate marketing product description for the smartphone\n",
        "\n",
        "2. Custom product description which has the following:\n",
        "\n",
        "```\n",
        "The description should follow this format:\n",
        "\n",
        "Product Name: <Name of the smartphone>\n",
        "​\n",
        "Description: <Brief Overview of the features>\n",
        "​\n",
        "Product Specifications:\n",
        "<Table with key product feature specifications>\n",
        "​\n",
        "The description should focus on the most important features\n",
        "a customer might look for in a phone including the foldable display screen, processing power, RAM, camera and battery life.\n",
        "​\n",
        "After the description, the table should have the\n",
        "key specifications of the product. It should have two columns.\n",
        "The first column should have 'Feature'\n",
        "and the second column should have 'Specification'\n",
        "and try to put exact numeric values for features if they exist.\n",
        "Only put these features in the table - foldable display screen, processing power, RAM, camera and battery life\n",
        "```\n",
        "\n",
        "3. Custom product description focusing on specific aspects like display, camera and in less than 60 words"
      ]
    },
    {
      "cell_type": "markdown",
      "metadata": {
        "id": "NmADan2jQmWt"
      },
      "source": [
        "### Access the product factsheet data"
      ]
    },
    {
      "cell_type": "code",
      "execution_count": 253,
      "metadata": {
        "id": "tyaP_Ab_L9c5"
      },
      "outputs": [],
      "source": [
        "fact_sheet_mobile = \"\"\"\n",
        "PRODUCT NAME\n",
        "Samsung Galaxy Z Fold4 5G Black\n",
        "​\n",
        "PRODUCT OVERVIEW\n",
        "Stands out. Stands up. Unfolds.\n",
        "The Galaxy Z Fold4 does a lot in one hand with its 15.73 cm(6.2-inch) Cover Screen.\n",
        "Unfolded, the 19.21 cm(7.6-inch) Main Screen lets you really get into the zone.\n",
        "Pushed-back bezels and the Under Display Camera means there's more screen\n",
        "and no black dot getting between you and the breathtaking Infinity Flex Display.\n",
        "Do more than more with Multi View. Whether toggling between texts or catching up\n",
        "on emails, take full advantage of the expansive Main Screen with Multi View.\n",
        "PC-like power thanks to Qualcomm Snapdragon 8+ Gen 1 processor in your pocket,\n",
        "transforms apps optimized with One UI to give you menus and more in a glance\n",
        "New Taskbar for PC-like multitasking. Wipe out tasks in fewer taps. Add\n",
        "apps to the Taskbar for quick navigation and bouncing between windows when\n",
        "you're in the groove.4 And with App Pair, one tap launches up to three apps,\n",
        "all sharing one super-productive screen\n",
        "Our toughest Samsung Galaxy foldables ever. From the inside out,\n",
        "Galaxy Z Fold4 is made with materials that are not only stunning,\n",
        "but stand up to life's bumps and fumbles. The front and rear panels,\n",
        "made with exclusive Corning Gorilla Glass Victus+, are ready to resist\n",
        "sneaky scrapes and scratches. With our toughest aluminum frame made with\n",
        "Armor Aluminum, this is one durable smartphone.\n",
        "World’s first water resistant foldable smartphones. Be adventurous, rain\n",
        "or shine. You don't have to sweat the forecast when you've got one of the\n",
        "world's first water-resistant foldable smartphones.\n",
        "​\n",
        "PRODUCT SPECS\n",
        "OS - Android 12.0\n",
        "RAM - 12 GB\n",
        "Product Dimensions - 15.5 x 13 x 0.6 cm; 263 Grams\n",
        "Batteries - 2 Lithium Ion batteries required. (included)\n",
        "Item model number - SM-F936BZKDINU_5\n",
        "Wireless communication technologies - Cellular\n",
        "Connectivity technologies - Bluetooth, Wi-Fi, USB, NFC\n",
        "GPS - True\n",
        "Special features - Fast Charging Support, Dual SIM, Wireless Charging, Built-In GPS, Water Resistant\n",
        "Other display features - Wireless\n",
        "Device interface - primary - Touchscreen\n",
        "Resolution - 2176x1812\n",
        "Other camera features - Rear, Front\n",
        "Form factor - Foldable Screen\n",
        "Colour - Phantom Black\n",
        "Battery Power Rating - 4400\n",
        "Whats in the box - SIM Tray Ejector, USB Cable\n",
        "Manufacturer - Samsung India pvt Ltd\n",
        "Country of Origin - China\n",
        "Item Weight - 263 g\n",
        "\"\"\""
      ]
    },
    {
      "cell_type": "markdown",
      "metadata": {
        "id": "didH1ICSQrX0"
      },
      "source": [
        "### Create prompt template for the first advert"
      ]
    },
    {
      "cell_type": "code",
      "execution_count": 254,
      "metadata": {
        "id": "2EJ2PPzJN3U5"
      },
      "outputs": [],
      "source": [
        "prompt_txt = \"\"\"\n",
        "Act as a marketing manager.\n",
        "Your task is to help a marketing team create a\n",
        "description for a retail website advert of a product based\n",
        "on a technical fact sheet specifications for a mobile smartphone\n",
        "​\n",
        "Write a brief product description\n",
        "\n",
        "Technical specifications:\n",
        "{fact_sheet_mobile}\n",
        "\"\"\"\n",
        "chat_template = ChatPromptTemplate.from_template(prompt_txt)"
      ]
    },
    {
      "cell_type": "markdown",
      "metadata": {
        "id": "tq1SXWSBQuzJ"
      },
      "source": [
        "### Use an LCEL LLM Chain to generate the first advert"
      ]
    },
    {
      "cell_type": "code",
      "execution_count": 255,
      "metadata": {
        "id": "Shlyf_lxOo1E"
      },
      "outputs": [],
      "source": [
        "chain = (chat_template\n",
        "            |\n",
        "         chatgpt)\n",
        "response = chain.invoke({\"fact_sheet_mobile\": fact_sheet_mobile})"
      ]
    },
    {
      "cell_type": "code",
      "execution_count": 256,
      "metadata": {
        "colab": {
          "base_uri": "https://localhost:8080/"
        },
        "id": "ZGlB6xteO-FP",
        "outputId": "3453137f-7d28-4625-a671-669800b02c80"
      },
      "outputs": [
        {
          "name": "stdout",
          "output_type": "stream",
          "text": [
            "Introducing the Samsung Galaxy Z Fold4 5G Black - the ultimate smartphone that stands out, stands up, and unfolds to reveal a world of possibilities. With a stunning 6.2-inch Cover Screen and a massive 7.6-inch Main Screen, you can truly immerse yourself in your favorite content like never before.\n",
            "\n",
            "Powered by the Qualcomm Snapdragon 8+ Gen 1 processor and 12GB of RAM, the Galaxy Z Fold4 offers PC-like power in your pocket. The new Taskbar feature allows for seamless multitasking, while the App Pair function lets you launch up to three apps on one screen for maximum productivity.\n",
            "\n",
            "Not only is the Galaxy Z Fold4 powerful, but it's also durable. Made with Corning Gorilla Glass Victus+ and Armor Aluminum, this smartphone can withstand life's bumps and fumbles. Plus, it's the world's first water-resistant foldable smartphone, so you can be adventurous rain or shine.\n",
            "\n",
            "Experience the future of smartphones with the Samsung Galaxy Z Fold4 5G Black. Get yours today and elevate your mobile experience like never before.\n"
          ]
        }
      ],
      "source": [
        "print(response.content)"
      ]
    },
    {
      "cell_type": "code",
      "execution_count": 257,
      "metadata": {
        "colab": {
          "base_uri": "https://localhost:8080/",
          "height": 169
        },
        "id": "jPE1vZuTPgJs",
        "outputId": "9ca9384f-5b95-48f8-e18b-28ea9aa59aa7"
      },
      "outputs": [
        {
          "data": {
            "text/markdown": [
              "Introducing the Samsung Galaxy Z Fold4 5G Black - the ultimate smartphone that stands out, stands up, and unfolds to reveal a world of possibilities. With a stunning 6.2-inch Cover Screen and a massive 7.6-inch Main Screen, you can truly immerse yourself in your favorite content like never before.\n",
              "\n",
              "Powered by the Qualcomm Snapdragon 8+ Gen 1 processor and 12GB of RAM, the Galaxy Z Fold4 offers PC-like power in your pocket. The new Taskbar feature allows for seamless multitasking, while the App Pair function lets you launch up to three apps on one screen for maximum productivity.\n",
              "\n",
              "Not only is the Galaxy Z Fold4 powerful, but it's also durable. Made with Corning Gorilla Glass Victus+ and Armor Aluminum, this smartphone can withstand life's bumps and fumbles. Plus, it's the world's first water-resistant foldable smartphone, so you can be adventurous rain or shine.\n",
              "\n",
              "Experience the future of smartphones with the Samsung Galaxy Z Fold4 5G Black. Get yours today and elevate your mobile experience like never before."
            ],
            "text/plain": [
              "<IPython.core.display.Markdown object>"
            ]
          },
          "metadata": {},
          "output_type": "display_data"
        }
      ],
      "source": [
        "from IPython.display import display, Markdown\n",
        "display(Markdown(response.content))"
      ]
    },
    {
      "cell_type": "markdown",
      "metadata": {
        "id": "iqNQsEWPQ3qz"
      },
      "source": [
        "### Create prompt template for the second advert"
      ]
    },
    {
      "cell_type": "code",
      "execution_count": 258,
      "metadata": {
        "id": "j-CsFl0FPA9z"
      },
      "outputs": [],
      "source": [
        "prompt_txt = \"\"\"\n",
        "Act as a marketing manager.\n",
        "Your task is to help a marketing team create a\n",
        "description for a retail website advert of a product based\n",
        "on a technical fact sheet specifications for a mobile smartphone\n",
        "​\n",
        "The description should follow this format:\n",
        "\n",
        "Product Name: <Name of the smartphone>\n",
        "​\n",
        "Description: <Brief Overview of the features>\n",
        "​\n",
        "Product Specifications:\n",
        "<Table with key product feature specifications>\n",
        "​\n",
        "The description should focus on the most important features\n",
        "a customer might look for in a phone including the foldable display screen, processing power, RAM, camera and battery life.\n",
        "​\n",
        "After the description, the table should have the\n",
        "key specifications of the product. It should have two columns.\n",
        "The first column should have 'Feature'\n",
        "and the second column should have 'Specification'\n",
        "and try to put exact numeric values for features if they exist.\n",
        "Only put these features in the table - foldable display screen, processing power, RAM, camera and battery life\n",
        "\n",
        "Technical specifications:\n",
        "{fact_sheet_mobile}\n",
        "\"\"\"\n",
        "chat_template = ChatPromptTemplate.from_template(prompt_txt)"
      ]
    },
    {
      "cell_type": "markdown",
      "metadata": {
        "id": "C6EmK1TkRADG"
      },
      "source": [
        "### Use an LCEL LLM Chain to generate the second advert"
      ]
    },
    {
      "cell_type": "code",
      "execution_count": 259,
      "metadata": {
        "id": "uievnu1GPSgj"
      },
      "outputs": [],
      "source": [
        "chain = (chat_template\n",
        "            |\n",
        "         chatgpt)\n",
        "response = chain.invoke({\"fact_sheet_mobile\": fact_sheet_mobile})"
      ]
    },
    {
      "cell_type": "code",
      "execution_count": 260,
      "metadata": {
        "colab": {
          "base_uri": "https://localhost:8080/"
        },
        "id": "2fY4nEK3PUbU",
        "outputId": "e5ef446f-5b69-468e-f3be-db2ccb0c0a6b"
      },
      "outputs": [
        {
          "name": "stdout",
          "output_type": "stream",
          "text": [
            "Product Name: Samsung Galaxy Z Fold4 5G Black\n",
            "\n",
            "Description: The Samsung Galaxy Z Fold4 5G Black is a revolutionary foldable smartphone that combines cutting-edge technology with a sleek design. With a 15.73 cm(6.2-inch) Cover Screen and a 19.21 cm(7.6-inch) Main Screen, you can enjoy a truly immersive experience. The Qualcomm Snapdragon 8+ Gen 1 processor ensures PC-like power in your pocket, while the Under Display Camera and Multi View feature enhance your multitasking capabilities. This durable smartphone is made with Corning Gorilla Glass Victus+ and Armor Aluminum, making it our toughest Galaxy foldable yet. Plus, it's the world's first water-resistant foldable smartphone, so you can be adventurous rain or shine.\n",
            "\n",
            "Product Specifications:\n",
            "\n",
            "| Feature                  | Specification       |\n",
            "|--------------------------|---------------------|\n",
            "| Foldable Display Screen  | 15.73 cm Cover Screen, 19.21 cm Main Screen |\n",
            "| Processing Power         | Qualcomm Snapdragon 8+ Gen 1 processor |\n",
            "| RAM                      | 12 GB               |\n",
            "| Camera                   | Rear and Front      |\n",
            "| Battery Life             | 4400 mAh            |\n"
          ]
        }
      ],
      "source": [
        "print(response.content)"
      ]
    },
    {
      "cell_type": "code",
      "execution_count": 261,
      "metadata": {
        "colab": {
          "base_uri": "https://localhost:8080/",
          "height": 352
        },
        "id": "dsBjspPgPWX7",
        "outputId": "5465303d-b961-4053-aee2-b21562702ab7"
      },
      "outputs": [
        {
          "data": {
            "text/markdown": [
              "Product Name: Samsung Galaxy Z Fold4 5G Black\n",
              "\n",
              "Description: The Samsung Galaxy Z Fold4 5G Black is a revolutionary foldable smartphone that combines cutting-edge technology with a sleek design. With a 15.73 cm(6.2-inch) Cover Screen and a 19.21 cm(7.6-inch) Main Screen, you can enjoy a truly immersive experience. The Qualcomm Snapdragon 8+ Gen 1 processor ensures PC-like power in your pocket, while the Under Display Camera and Multi View feature enhance your multitasking capabilities. This durable smartphone is made with Corning Gorilla Glass Victus+ and Armor Aluminum, making it our toughest Galaxy foldable yet. Plus, it's the world's first water-resistant foldable smartphone, so you can be adventurous rain or shine.\n",
              "\n",
              "Product Specifications:\n",
              "\n",
              "| Feature                  | Specification       |\n",
              "|--------------------------|---------------------|\n",
              "| Foldable Display Screen  | 15.73 cm Cover Screen, 19.21 cm Main Screen |\n",
              "| Processing Power         | Qualcomm Snapdragon 8+ Gen 1 processor |\n",
              "| RAM                      | 12 GB               |\n",
              "| Camera                   | Rear and Front      |\n",
              "| Battery Life             | 4400 mAh            |"
            ],
            "text/plain": [
              "<IPython.core.display.Markdown object>"
            ]
          },
          "metadata": {},
          "output_type": "display_data"
        }
      ],
      "source": [
        "from IPython.display import display, Markdown\n",
        "display(Markdown(response.content))"
      ]
    },
    {
      "cell_type": "markdown",
      "metadata": {
        "id": "oPytTJ6KQ50L"
      },
      "source": [
        "### Create prompt template for the third advert"
      ]
    },
    {
      "cell_type": "code",
      "execution_count": 262,
      "metadata": {
        "id": "1nB4OZp0PcN6"
      },
      "outputs": [],
      "source": [
        "prompt_txt = \"\"\"\n",
        "Act as a marketing manager.\n",
        "Your task is to help a marketing team create a\n",
        "description for a retail website advert of a product based\n",
        "on a technical fact sheet specifications for a mobile smartphone\n",
        "​\n",
        "Write a catchy product description with some emojis,\n",
        "which uses at most 60 words\n",
        "and focuses on the most important things about the smartphone\n",
        "which might matter to users like display and camera\n",
        "\n",
        "Technical specifications:\n",
        "{fact_sheet_mobile}\n",
        "\"\"\"\n",
        "chat_template = ChatPromptTemplate.from_template(prompt_txt)"
      ]
    },
    {
      "cell_type": "markdown",
      "metadata": {
        "id": "4wKXMaZbRCxO"
      },
      "source": [
        "### Use an LCEL LLM Chain to generate the third advert"
      ]
    },
    {
      "cell_type": "code",
      "execution_count": 263,
      "metadata": {
        "id": "hDAYappnQXN4"
      },
      "outputs": [],
      "source": [
        "chain = (chat_template\n",
        "            |\n",
        "         chatgpt)\n",
        "response = chain.invoke({\"fact_sheet_mobile\": fact_sheet_mobile})"
      ]
    },
    {
      "cell_type": "code",
      "execution_count": 264,
      "metadata": {
        "colab": {
          "base_uri": "https://localhost:8080/"
        },
        "id": "2_QMf99GQZZo",
        "outputId": "905076b3-c9a7-43e8-aeb3-3822ba1a2997"
      },
      "outputs": [
        {
          "name": "stdout",
          "output_type": "stream",
          "text": [
            "🌟 Introducing the Samsung Galaxy Z Fold4 5G Black 📱 Unfold endless possibilities with a 7.6-inch Main Screen and Under Display Camera for a seamless viewing experience. 💫 Powered by Qualcomm Snapdragon 8+ Gen 1 processor, multitask like a pro with Multi View and Taskbar for PC-like efficiency. 🚀 With water-resistant and durable design, this is the ultimate smartphone for the modern adventurer. #GalaxyZFold4 #InnovationUnfolds 🌈\n"
          ]
        }
      ],
      "source": [
        "print(response.content)"
      ]
    },
    {
      "cell_type": "code",
      "execution_count": 265,
      "metadata": {
        "colab": {
          "base_uri": "https://localhost:8080/",
          "height": 81
        },
        "id": "tc7LJylgQa9j",
        "outputId": "3c983edb-f88d-4caf-8bcc-1d7a2b907a4e"
      },
      "outputs": [
        {
          "data": {
            "text/markdown": [
              "🌟 Introducing the Samsung Galaxy Z Fold4 5G Black 📱 Unfold endless possibilities with a 7.6-inch Main Screen and Under Display Camera for a seamless viewing experience. 💫 Powered by Qualcomm Snapdragon 8+ Gen 1 processor, multitask like a pro with Multi View and Taskbar for PC-like efficiency. 🚀 With water-resistant and durable design, this is the ultimate smartphone for the modern adventurer. #GalaxyZFold4 #InnovationUnfolds 🌈"
            ],
            "text/plain": [
              "<IPython.core.display.Markdown object>"
            ]
          },
          "metadata": {},
          "output_type": "display_data"
        }
      ],
      "source": [
        "from IPython.display import display, Markdown\n",
        "display(Markdown(response.content))"
      ]
    },
    {
      "cell_type": "markdown",
      "metadata": {
        "id": "EGvqHtrZRqTs"
      },
      "source": [
        "## Mini-Project 4 - IT Support Analyst\n",
        "\n",
        "Ask ChatGPT to act as a IT support agent, process each customer IT ticket message and output the response in JSON with the following fields\n",
        "\n",
        "```\n",
        "orig_msg: The original customer message\n",
        "orig_lang: Detected language of the customer message e.g. Spanish\n",
        "category: 1-2 word describing the category of the problem\n",
        "trans_msg: Translated customer message in English\n",
        "response: Response to the customer in orig_lang\n",
        "trans_response: Response to the customer in English\n",
        "```\n",
        "\n",
        "Try to use a JSON parser to get the responses in JSON for each ticket"
      ]
    },
    {
      "cell_type": "markdown",
      "metadata": {
        "id": "7g40fksfTNpQ"
      },
      "source": [
        "### Define Output Parser"
      ]
    },
    {
      "cell_type": "code",
      "execution_count": 266,
      "metadata": {
        "id": "F7yEig9NRvsB"
      },
      "outputs": [],
      "source": [
        "from langchain_core.prompts import PromptTemplate\n",
        "from langchain_core.output_parsers import JsonOutputParser\n",
        "from langchain_core.pydantic_v1 import BaseModel, Field\n",
        "\n",
        "\n",
        "# Define your desired data structure - like a python data class.\n",
        "class ITSupportResponse(BaseModel):\n",
        "    orig_msg: str = Field(description=\"The original customer IT support query message\")\n",
        "    orig_lang: str = Field(description=\"Detected language of the customer message e.g. Spanish\")\n",
        "    category: str = Field(description=\"1-2 word describing the category of the problem\")\n",
        "    trans_msg: str = Field(description=\"Translated customer IT support query message in English\")\n",
        "    response: str = Field(description=\"Response to the customer in their original language - orig_lang\")\n",
        "    trans_response: str = Field(description=\"Response to the customer in English\")\n",
        "\n",
        "\n",
        "parser = JsonOutputParser(pydantic_object=ITSupportResponse)"
      ]
    },
    {
      "cell_type": "markdown",
      "metadata": {
        "id": "TEQL4DhYTZug"
      },
      "source": [
        "### Create the input prompt for the LLM"
      ]
    },
    {
      "cell_type": "code",
      "execution_count": 267,
      "metadata": {
        "id": "XbT3tGUUSIct"
      },
      "outputs": [],
      "source": [
        "# create the final prompt with formatting instructions from the parser\n",
        "prompt_txt = \"\"\"\n",
        "             Act as an Information Technology (IT) customer support agent.\n",
        "             For the IT support message mentioned below\n",
        "             use the following output format when generating the output response\n",
        "\n",
        "             Output format instructions:\n",
        "             {format_instructions}\n",
        "\n",
        "             Customer IT support message:\n",
        "             {it_support_msg}\n",
        "             \"\"\"\n",
        "prompt = PromptTemplate(\n",
        "    template=prompt_txt,\n",
        "    input_variables=[\"it_support_msg\"],\n",
        "    partial_variables={\"format_instructions\": parser.get_format_instructions()},\n",
        ")"
      ]
    },
    {
      "cell_type": "markdown",
      "metadata": {
        "id": "RMA7qY1XTeeR"
      },
      "source": [
        "### Create a LCEL LLM Chain"
      ]
    },
    {
      "cell_type": "code",
      "execution_count": 268,
      "metadata": {
        "id": "Le18crwjSnY_"
      },
      "outputs": [],
      "source": [
        "# create a simple LCEL chain to take the prompt, pass it to the LLM, enforce response format using the parser\n",
        "llm_chain = (prompt\n",
        "              |\n",
        "            chatgpt\n",
        "              |\n",
        "            parser)"
      ]
    },
    {
      "cell_type": "markdown",
      "metadata": {
        "id": "li4TbuTGTj2H"
      },
      "source": [
        "### Access Customer IT Support ticket data"
      ]
    },
    {
      "cell_type": "code",
      "execution_count": 269,
      "metadata": {
        "colab": {
          "base_uri": "https://localhost:8080/"
        },
        "id": "CdlcULKISsC2",
        "outputId": "16eb3869-ef21-46cf-c5b3-f63e4ce7a585"
      },
      "outputs": [
        {
          "data": {
            "text/plain": [
              "{'it_support_msg': 'Não consigo sincronizar meus contatos com o telefone. Sempre recebo uma mensagem de falha.'}"
            ]
          },
          "execution_count": 269,
          "metadata": {},
          "output_type": "execute_result"
        }
      ],
      "source": [
        "it_support_queue = [\n",
        "    \"Não consigo sincronizar meus contatos com o telefone. Sempre recebo uma mensagem de falha.\",\n",
        "    \"Ho problemi a stampare i documenti da remoto. Il lavoro non viene inviato alla stampante di rete.\",\n",
        "    \"プリンターのトナーを交換しましたが、印刷品質が低下しています。サポートが必要です。\",\n",
        "    \"Я не могу войти в систему учета времени, появляется сообщение об ошибке. Мне нужна помощь.\",\n",
        "    \"Internet bağlantım çok yavaş ve bazen tamamen kesiliyor. Yardım eder misiniz?\",\n",
        "    \"Не могу установить обновление безопасности. Появляется код ошибки. Помогите, пожалуйста.\"\n",
        "]\n",
        "\n",
        "formatted_msgs = [{\"it_support_msg\": msg}\n",
        "                    for msg in it_support_queue]\n",
        "formatted_msgs[0]"
      ]
    },
    {
      "cell_type": "markdown",
      "metadata": {
        "id": "MuTYg0GyTtei"
      },
      "source": [
        "### Get responses from the LLM"
      ]
    },
    {
      "cell_type": "code",
      "execution_count": 270,
      "metadata": {
        "id": "adEaXYtsSxWa"
      },
      "outputs": [],
      "source": [
        "responses = llm_chain.map().invoke(formatted_msgs)"
      ]
    },
    {
      "cell_type": "markdown",
      "metadata": {
        "id": "7iVZrIqITu3j"
      },
      "source": [
        "### View LLM responses"
      ]
    },
    {
      "cell_type": "code",
      "execution_count": 271,
      "metadata": {
        "colab": {
          "base_uri": "https://localhost:8080/"
        },
        "id": "EgbcB5K7S3z0",
        "outputId": "a35f454e-51cf-403b-a931-2aeae6e83b9d"
      },
      "outputs": [
        {
          "data": {
            "text/plain": [
              "{'orig_msg': 'Não consigo sincronizar meus contatos com o telefone. Sempre recebo uma mensagem de falha.',\n",
              " 'orig_lang': 'Portuguese',\n",
              " 'category': 'Sync Issue',\n",
              " 'trans_msg': \"I can't sync my contacts with the phone. I always receive a failure message.\",\n",
              " 'response': 'Por favor, verifique se a conexão com a internet está funcionando corretamente e tente sincronizar novamente. Se o problema persistir, entre em contato com nosso suporte técnico para obter assistência adicional.',\n",
              " 'trans_response': 'Please check if the internet connection is working properly and try to sync again. If the issue persists, please contact our technical support for further assistance.'}"
            ]
          },
          "execution_count": 271,
          "metadata": {},
          "output_type": "execute_result"
        }
      ],
      "source": [
        "responses[0]"
      ]
    },
    {
      "cell_type": "code",
      "execution_count": 272,
      "metadata": {
        "colab": {
          "base_uri": "https://localhost:8080/"
        },
        "id": "n9U5mhraS65l",
        "outputId": "8f350fc6-97e8-4116-b838-f26b4ca05194"
      },
      "outputs": [
        {
          "data": {
            "text/plain": [
              "dict"
            ]
          },
          "execution_count": 272,
          "metadata": {},
          "output_type": "execute_result"
        }
      ],
      "source": [
        "type(responses[0])"
      ]
    },
    {
      "cell_type": "code",
      "execution_count": 273,
      "metadata": {
        "colab": {
          "base_uri": "https://localhost:8080/",
          "height": 428
        },
        "id": "xD3rJqPGS-bd",
        "outputId": "7d13c32a-6007-478f-f2d7-9bcefeb89b08"
      },
      "outputs": [
        {
          "data": {
            "application/vnd.google.colaboratory.intrinsic+json": {
              "summary": "{\n  \"name\": \"df\",\n  \"rows\": 6,\n  \"fields\": [\n    {\n      \"column\": \"orig_msg\",\n      \"properties\": {\n        \"dtype\": \"string\",\n        \"num_unique_values\": 6,\n        \"samples\": [\n          \"N\\u00e3o consigo sincronizar meus contatos com o telefone. Sempre recebo uma mensagem de falha.\",\n          \"Ho problemi a stampare i documenti da remoto. Il lavoro non viene inviato alla stampante di rete.\",\n          \"\\u041d\\u0435 \\u043c\\u043e\\u0433\\u0443 \\u0443\\u0441\\u0442\\u0430\\u043d\\u043e\\u0432\\u0438\\u0442\\u044c \\u043e\\u0431\\u043d\\u043e\\u0432\\u043b\\u0435\\u043d\\u0438\\u0435 \\u0431\\u0435\\u0437\\u043e\\u043f\\u0430\\u0441\\u043d\\u043e\\u0441\\u0442\\u0438. \\u041f\\u043e\\u044f\\u0432\\u043b\\u044f\\u0435\\u0442\\u0441\\u044f \\u043a\\u043e\\u0434 \\u043e\\u0448\\u0438\\u0431\\u043a\\u0438. \\u041f\\u043e\\u043c\\u043e\\u0433\\u0438\\u0442\\u0435, \\u043f\\u043e\\u0436\\u0430\\u043b\\u0443\\u0439\\u0441\\u0442\\u0430.\"\n        ],\n        \"semantic_type\": \"\",\n        \"description\": \"\"\n      }\n    },\n    {\n      \"column\": \"orig_lang\",\n      \"properties\": {\n        \"dtype\": \"string\",\n        \"num_unique_values\": 5,\n        \"samples\": [\n          \"Italian\",\n          \"Turkish\",\n          \"Japanese\"\n        ],\n        \"semantic_type\": \"\",\n        \"description\": \"\"\n      }\n    },\n    {\n      \"column\": \"category\",\n      \"properties\": {\n        \"dtype\": \"string\",\n        \"num_unique_values\": 6,\n        \"samples\": [\n          \"Sync Issue\",\n          \"Printing\",\n          \"Installation\"\n        ],\n        \"semantic_type\": \"\",\n        \"description\": \"\"\n      }\n    },\n    {\n      \"column\": \"trans_msg\",\n      \"properties\": {\n        \"dtype\": \"string\",\n        \"num_unique_values\": 6,\n        \"samples\": [\n          \"I can't sync my contacts with the phone. I always receive a failure message.\",\n          \"I am having trouble printing documents remotely. The job is not being sent to the network printer.\",\n          \"Unable to install security update. Error code is appearing. Please help.\"\n        ],\n        \"semantic_type\": \"\",\n        \"description\": \"\"\n      }\n    },\n    {\n      \"column\": \"response\",\n      \"properties\": {\n        \"dtype\": \"string\",\n        \"num_unique_values\": 6,\n        \"samples\": [\n          \"Por favor, verifique se a conex\\u00e3o com a internet est\\u00e1 funcionando corretamente e tente sincronizar novamente. Se o problema persistir, entre em contato com nosso suporte t\\u00e9cnico para obter assist\\u00eancia adicional.\",\n          \"Grazie per averci contattato. Per risolvere il problema, ti consigliamo di controllare la connessione di rete e assicurarti che la stampante sia correttamente configurata. Se il problema persiste, ti preghiamo di contattarci nuovamente per ulteriore assistenza.\",\n          \"\\u0418\\u0437\\u0432\\u0438\\u043d\\u0438\\u0442\\u0435 \\u0437\\u0430 \\u0432\\u043e\\u0437\\u043d\\u0438\\u043a\\u0448\\u0438\\u0435 \\u043f\\u0440\\u043e\\u0431\\u043b\\u0435\\u043c\\u044b. \\u041f\\u043e\\u0436\\u0430\\u043b\\u0443\\u0439\\u0441\\u0442\\u0430, \\u043f\\u043e\\u043f\\u0440\\u043e\\u0431\\u0443\\u0439\\u0442\\u0435 \\u0432\\u044b\\u043f\\u043e\\u043b\\u043d\\u0438\\u0442\\u044c \\u0441\\u043b\\u0435\\u0434\\u0443\\u044e\\u0449\\u0438\\u0435 \\u0448\\u0430\\u0433\\u0438: 1. \\u041f\\u0435\\u0440\\u0435\\u0437\\u0430\\u0433\\u0440\\u0443\\u0437\\u0438\\u0442\\u0435 \\u043a\\u043e\\u043c\\u043f\\u044c\\u044e\\u0442\\u0435\\u0440. 2. \\u0417\\u0430\\u043f\\u0443\\u0441\\u0442\\u0438\\u0442\\u0435 \\u043f\\u0440\\u043e\\u0446\\u0435\\u0441\\u0441 \\u0443\\u0441\\u0442\\u0430\\u043d\\u043e\\u0432\\u043a\\u0438 \\u043e\\u0431\\u043d\\u043e\\u0432\\u043b\\u0435\\u043d\\u0438\\u044f \\u0441\\u043d\\u043e\\u0432\\u0430. \\u0415\\u0441\\u043b\\u0438 \\u043f\\u0440\\u043e\\u0431\\u043b\\u0435\\u043c\\u0430 \\u043d\\u0435 \\u0440\\u0435\\u0448\\u0435\\u043d\\u0430, \\u043e\\u0431\\u0440\\u0430\\u0442\\u0438\\u0442\\u0435\\u0441\\u044c \\u043a \\u0441\\u043b\\u0443\\u0436\\u0431\\u0435 \\u043f\\u043e\\u0434\\u0434\\u0435\\u0440\\u0436\\u043a\\u0438.\"\n        ],\n        \"semantic_type\": \"\",\n        \"description\": \"\"\n      }\n    },\n    {\n      \"column\": \"trans_response\",\n      \"properties\": {\n        \"dtype\": \"string\",\n        \"num_unique_values\": 6,\n        \"samples\": [\n          \"Please check if the internet connection is working properly and try to sync again. If the issue persists, please contact our technical support for further assistance.\",\n          \"Thank you for contacting us. To resolve the issue, we recommend checking the network connection and ensuring that the printer is properly configured. If the problem persists, please contact us again for further assistance.\",\n          \"Apologies for the inconvenience. Please try the following steps: 1. Restart your computer. 2. Retry the update installation process. If the issue persists, please contact support.\"\n        ],\n        \"semantic_type\": \"\",\n        \"description\": \"\"\n      }\n    }\n  ]\n}",
              "type": "dataframe",
              "variable_name": "df"
            },
            "text/html": [
              "\n",
              "  <div id=\"df-39435360-5ea2-49c5-a419-063716dc0c69\" class=\"colab-df-container\">\n",
              "    <div>\n",
              "<style scoped>\n",
              "    .dataframe tbody tr th:only-of-type {\n",
              "        vertical-align: middle;\n",
              "    }\n",
              "\n",
              "    .dataframe tbody tr th {\n",
              "        vertical-align: top;\n",
              "    }\n",
              "\n",
              "    .dataframe thead th {\n",
              "        text-align: right;\n",
              "    }\n",
              "</style>\n",
              "<table border=\"1\" class=\"dataframe\">\n",
              "  <thead>\n",
              "    <tr style=\"text-align: right;\">\n",
              "      <th></th>\n",
              "      <th>orig_msg</th>\n",
              "      <th>orig_lang</th>\n",
              "      <th>category</th>\n",
              "      <th>trans_msg</th>\n",
              "      <th>response</th>\n",
              "      <th>trans_response</th>\n",
              "    </tr>\n",
              "  </thead>\n",
              "  <tbody>\n",
              "    <tr>\n",
              "      <th>0</th>\n",
              "      <td>Não consigo sincronizar meus contatos com o te...</td>\n",
              "      <td>Portuguese</td>\n",
              "      <td>Sync Issue</td>\n",
              "      <td>I can't sync my contacts with the phone. I alw...</td>\n",
              "      <td>Por favor, verifique se a conexão com a intern...</td>\n",
              "      <td>Please check if the internet connection is wor...</td>\n",
              "    </tr>\n",
              "    <tr>\n",
              "      <th>1</th>\n",
              "      <td>Ho problemi a stampare i documenti da remoto. ...</td>\n",
              "      <td>Italian</td>\n",
              "      <td>Printing</td>\n",
              "      <td>I am having trouble printing documents remotel...</td>\n",
              "      <td>Grazie per averci contattato. Per risolvere il...</td>\n",
              "      <td>Thank you for contacting us. To resolve the is...</td>\n",
              "    </tr>\n",
              "    <tr>\n",
              "      <th>2</th>\n",
              "      <td>プリンターのトナーを交換しましたが、印刷品質が低下しています。サポートが必要です。</td>\n",
              "      <td>Japanese</td>\n",
              "      <td>Printer</td>\n",
              "      <td>I replaced the toner of the printer, but the p...</td>\n",
              "      <td>トナーを正しく交換したことを確認してください。プリンターのメンテナンスを行う必要があるかもし...</td>\n",
              "      <td>Please make sure you replaced the toner correc...</td>\n",
              "    </tr>\n",
              "    <tr>\n",
              "      <th>3</th>\n",
              "      <td>Я не могу войти в систему учета времени, появл...</td>\n",
              "      <td>Russian</td>\n",
              "      <td>Login Issue</td>\n",
              "      <td>I can't log into the time tracking system, an ...</td>\n",
              "      <td>Пожалуйста, попробуйте сбросить пароль и попро...</td>\n",
              "      <td>Please try resetting your password and try aga...</td>\n",
              "    </tr>\n",
              "    <tr>\n",
              "      <th>4</th>\n",
              "      <td>Internet bağlantım çok yavaş ve bazen tamamen ...</td>\n",
              "      <td>Turkish</td>\n",
              "      <td>Internet Connectivity</td>\n",
              "      <td>My internet connection is very slow and someti...</td>\n",
              "      <td>Evet, tabii ki yardımcı olabiliriz. Lütfen mod...</td>\n",
              "      <td>Yes, of course we can help. Please check your ...</td>\n",
              "    </tr>\n",
              "    <tr>\n",
              "      <th>5</th>\n",
              "      <td>Не могу установить обновление безопасности. По...</td>\n",
              "      <td>Russian</td>\n",
              "      <td>Installation</td>\n",
              "      <td>Unable to install security update. Error code ...</td>\n",
              "      <td>Извините за возникшие проблемы. Пожалуйста, по...</td>\n",
              "      <td>Apologies for the inconvenience. Please try th...</td>\n",
              "    </tr>\n",
              "  </tbody>\n",
              "</table>\n",
              "</div>\n",
              "    <div class=\"colab-df-buttons\">\n",
              "\n",
              "  <div class=\"colab-df-container\">\n",
              "    <button class=\"colab-df-convert\" onclick=\"convertToInteractive('df-39435360-5ea2-49c5-a419-063716dc0c69')\"\n",
              "            title=\"Convert this dataframe to an interactive table.\"\n",
              "            style=\"display:none;\">\n",
              "\n",
              "  <svg xmlns=\"http://www.w3.org/2000/svg\" height=\"24px\" viewBox=\"0 -960 960 960\">\n",
              "    <path d=\"M120-120v-720h720v720H120Zm60-500h600v-160H180v160Zm220 220h160v-160H400v160Zm0 220h160v-160H400v160ZM180-400h160v-160H180v160Zm440 0h160v-160H620v160ZM180-180h160v-160H180v160Zm440 0h160v-160H620v160Z\"/>\n",
              "  </svg>\n",
              "    </button>\n",
              "\n",
              "  <style>\n",
              "    .colab-df-container {\n",
              "      display:flex;\n",
              "      gap: 12px;\n",
              "    }\n",
              "\n",
              "    .colab-df-convert {\n",
              "      background-color: #E8F0FE;\n",
              "      border: none;\n",
              "      border-radius: 50%;\n",
              "      cursor: pointer;\n",
              "      display: none;\n",
              "      fill: #1967D2;\n",
              "      height: 32px;\n",
              "      padding: 0 0 0 0;\n",
              "      width: 32px;\n",
              "    }\n",
              "\n",
              "    .colab-df-convert:hover {\n",
              "      background-color: #E2EBFA;\n",
              "      box-shadow: 0px 1px 2px rgba(60, 64, 67, 0.3), 0px 1px 3px 1px rgba(60, 64, 67, 0.15);\n",
              "      fill: #174EA6;\n",
              "    }\n",
              "\n",
              "    .colab-df-buttons div {\n",
              "      margin-bottom: 4px;\n",
              "    }\n",
              "\n",
              "    [theme=dark] .colab-df-convert {\n",
              "      background-color: #3B4455;\n",
              "      fill: #D2E3FC;\n",
              "    }\n",
              "\n",
              "    [theme=dark] .colab-df-convert:hover {\n",
              "      background-color: #434B5C;\n",
              "      box-shadow: 0px 1px 3px 1px rgba(0, 0, 0, 0.15);\n",
              "      filter: drop-shadow(0px 1px 2px rgba(0, 0, 0, 0.3));\n",
              "      fill: #FFFFFF;\n",
              "    }\n",
              "  </style>\n",
              "\n",
              "    <script>\n",
              "      const buttonEl =\n",
              "        document.querySelector('#df-39435360-5ea2-49c5-a419-063716dc0c69 button.colab-df-convert');\n",
              "      buttonEl.style.display =\n",
              "        google.colab.kernel.accessAllowed ? 'block' : 'none';\n",
              "\n",
              "      async function convertToInteractive(key) {\n",
              "        const element = document.querySelector('#df-39435360-5ea2-49c5-a419-063716dc0c69');\n",
              "        const dataTable =\n",
              "          await google.colab.kernel.invokeFunction('convertToInteractive',\n",
              "                                                    [key], {});\n",
              "        if (!dataTable) return;\n",
              "\n",
              "        const docLinkHtml = 'Like what you see? Visit the ' +\n",
              "          '<a target=\"_blank\" href=https://colab.research.google.com/notebooks/data_table.ipynb>data table notebook</a>'\n",
              "          + ' to learn more about interactive tables.';\n",
              "        element.innerHTML = '';\n",
              "        dataTable['output_type'] = 'display_data';\n",
              "        await google.colab.output.renderOutput(dataTable, element);\n",
              "        const docLink = document.createElement('div');\n",
              "        docLink.innerHTML = docLinkHtml;\n",
              "        element.appendChild(docLink);\n",
              "      }\n",
              "    </script>\n",
              "  </div>\n",
              "\n",
              "\n",
              "<div id=\"df-d1aa2fc8-14d7-444f-9de9-dd3598283114\">\n",
              "  <button class=\"colab-df-quickchart\" onclick=\"quickchart('df-d1aa2fc8-14d7-444f-9de9-dd3598283114')\"\n",
              "            title=\"Suggest charts\"\n",
              "            style=\"display:none;\">\n",
              "\n",
              "<svg xmlns=\"http://www.w3.org/2000/svg\" height=\"24px\"viewBox=\"0 0 24 24\"\n",
              "     width=\"24px\">\n",
              "    <g>\n",
              "        <path d=\"M19 3H5c-1.1 0-2 .9-2 2v14c0 1.1.9 2 2 2h14c1.1 0 2-.9 2-2V5c0-1.1-.9-2-2-2zM9 17H7v-7h2v7zm4 0h-2V7h2v10zm4 0h-2v-4h2v4z\"/>\n",
              "    </g>\n",
              "</svg>\n",
              "  </button>\n",
              "\n",
              "<style>\n",
              "  .colab-df-quickchart {\n",
              "      --bg-color: #E8F0FE;\n",
              "      --fill-color: #1967D2;\n",
              "      --hover-bg-color: #E2EBFA;\n",
              "      --hover-fill-color: #174EA6;\n",
              "      --disabled-fill-color: #AAA;\n",
              "      --disabled-bg-color: #DDD;\n",
              "  }\n",
              "\n",
              "  [theme=dark] .colab-df-quickchart {\n",
              "      --bg-color: #3B4455;\n",
              "      --fill-color: #D2E3FC;\n",
              "      --hover-bg-color: #434B5C;\n",
              "      --hover-fill-color: #FFFFFF;\n",
              "      --disabled-bg-color: #3B4455;\n",
              "      --disabled-fill-color: #666;\n",
              "  }\n",
              "\n",
              "  .colab-df-quickchart {\n",
              "    background-color: var(--bg-color);\n",
              "    border: none;\n",
              "    border-radius: 50%;\n",
              "    cursor: pointer;\n",
              "    display: none;\n",
              "    fill: var(--fill-color);\n",
              "    height: 32px;\n",
              "    padding: 0;\n",
              "    width: 32px;\n",
              "  }\n",
              "\n",
              "  .colab-df-quickchart:hover {\n",
              "    background-color: var(--hover-bg-color);\n",
              "    box-shadow: 0 1px 2px rgba(60, 64, 67, 0.3), 0 1px 3px 1px rgba(60, 64, 67, 0.15);\n",
              "    fill: var(--button-hover-fill-color);\n",
              "  }\n",
              "\n",
              "  .colab-df-quickchart-complete:disabled,\n",
              "  .colab-df-quickchart-complete:disabled:hover {\n",
              "    background-color: var(--disabled-bg-color);\n",
              "    fill: var(--disabled-fill-color);\n",
              "    box-shadow: none;\n",
              "  }\n",
              "\n",
              "  .colab-df-spinner {\n",
              "    border: 2px solid var(--fill-color);\n",
              "    border-color: transparent;\n",
              "    border-bottom-color: var(--fill-color);\n",
              "    animation:\n",
              "      spin 1s steps(1) infinite;\n",
              "  }\n",
              "\n",
              "  @keyframes spin {\n",
              "    0% {\n",
              "      border-color: transparent;\n",
              "      border-bottom-color: var(--fill-color);\n",
              "      border-left-color: var(--fill-color);\n",
              "    }\n",
              "    20% {\n",
              "      border-color: transparent;\n",
              "      border-left-color: var(--fill-color);\n",
              "      border-top-color: var(--fill-color);\n",
              "    }\n",
              "    30% {\n",
              "      border-color: transparent;\n",
              "      border-left-color: var(--fill-color);\n",
              "      border-top-color: var(--fill-color);\n",
              "      border-right-color: var(--fill-color);\n",
              "    }\n",
              "    40% {\n",
              "      border-color: transparent;\n",
              "      border-right-color: var(--fill-color);\n",
              "      border-top-color: var(--fill-color);\n",
              "    }\n",
              "    60% {\n",
              "      border-color: transparent;\n",
              "      border-right-color: var(--fill-color);\n",
              "    }\n",
              "    80% {\n",
              "      border-color: transparent;\n",
              "      border-right-color: var(--fill-color);\n",
              "      border-bottom-color: var(--fill-color);\n",
              "    }\n",
              "    90% {\n",
              "      border-color: transparent;\n",
              "      border-bottom-color: var(--fill-color);\n",
              "    }\n",
              "  }\n",
              "</style>\n",
              "\n",
              "  <script>\n",
              "    async function quickchart(key) {\n",
              "      const quickchartButtonEl =\n",
              "        document.querySelector('#' + key + ' button');\n",
              "      quickchartButtonEl.disabled = true;  // To prevent multiple clicks.\n",
              "      quickchartButtonEl.classList.add('colab-df-spinner');\n",
              "      try {\n",
              "        const charts = await google.colab.kernel.invokeFunction(\n",
              "            'suggestCharts', [key], {});\n",
              "      } catch (error) {\n",
              "        console.error('Error during call to suggestCharts:', error);\n",
              "      }\n",
              "      quickchartButtonEl.classList.remove('colab-df-spinner');\n",
              "      quickchartButtonEl.classList.add('colab-df-quickchart-complete');\n",
              "    }\n",
              "    (() => {\n",
              "      let quickchartButtonEl =\n",
              "        document.querySelector('#df-d1aa2fc8-14d7-444f-9de9-dd3598283114 button');\n",
              "      quickchartButtonEl.style.display =\n",
              "        google.colab.kernel.accessAllowed ? 'block' : 'none';\n",
              "    })();\n",
              "  </script>\n",
              "</div>\n",
              "\n",
              "  <div id=\"id_4db1b797-3803-4088-a2c6-06b0f39eaa0d\">\n",
              "    <style>\n",
              "      .colab-df-generate {\n",
              "        background-color: #E8F0FE;\n",
              "        border: none;\n",
              "        border-radius: 50%;\n",
              "        cursor: pointer;\n",
              "        display: none;\n",
              "        fill: #1967D2;\n",
              "        height: 32px;\n",
              "        padding: 0 0 0 0;\n",
              "        width: 32px;\n",
              "      }\n",
              "\n",
              "      .colab-df-generate:hover {\n",
              "        background-color: #E2EBFA;\n",
              "        box-shadow: 0px 1px 2px rgba(60, 64, 67, 0.3), 0px 1px 3px 1px rgba(60, 64, 67, 0.15);\n",
              "        fill: #174EA6;\n",
              "      }\n",
              "\n",
              "      [theme=dark] .colab-df-generate {\n",
              "        background-color: #3B4455;\n",
              "        fill: #D2E3FC;\n",
              "      }\n",
              "\n",
              "      [theme=dark] .colab-df-generate:hover {\n",
              "        background-color: #434B5C;\n",
              "        box-shadow: 0px 1px 3px 1px rgba(0, 0, 0, 0.15);\n",
              "        filter: drop-shadow(0px 1px 2px rgba(0, 0, 0, 0.3));\n",
              "        fill: #FFFFFF;\n",
              "      }\n",
              "    </style>\n",
              "    <button class=\"colab-df-generate\" onclick=\"generateWithVariable('df')\"\n",
              "            title=\"Generate code using this dataframe.\"\n",
              "            style=\"display:none;\">\n",
              "\n",
              "  <svg xmlns=\"http://www.w3.org/2000/svg\" height=\"24px\"viewBox=\"0 0 24 24\"\n",
              "       width=\"24px\">\n",
              "    <path d=\"M7,19H8.4L18.45,9,17,7.55,7,17.6ZM5,21V16.75L18.45,3.32a2,2,0,0,1,2.83,0l1.4,1.43a1.91,1.91,0,0,1,.58,1.4,1.91,1.91,0,0,1-.58,1.4L9.25,21ZM18.45,9,17,7.55Zm-12,3A5.31,5.31,0,0,0,4.9,8.1,5.31,5.31,0,0,0,1,6.5,5.31,5.31,0,0,0,4.9,4.9,5.31,5.31,0,0,0,6.5,1,5.31,5.31,0,0,0,8.1,4.9,5.31,5.31,0,0,0,12,6.5,5.46,5.46,0,0,0,6.5,12Z\"/>\n",
              "  </svg>\n",
              "    </button>\n",
              "    <script>\n",
              "      (() => {\n",
              "      const buttonEl =\n",
              "        document.querySelector('#id_4db1b797-3803-4088-a2c6-06b0f39eaa0d button.colab-df-generate');\n",
              "      buttonEl.style.display =\n",
              "        google.colab.kernel.accessAllowed ? 'block' : 'none';\n",
              "\n",
              "      buttonEl.onclick = () => {\n",
              "        google.colab.notebook.generateWithVariable('df');\n",
              "      }\n",
              "      })();\n",
              "    </script>\n",
              "  </div>\n",
              "\n",
              "    </div>\n",
              "  </div>\n"
            ],
            "text/plain": [
              "                                            orig_msg   orig_lang  \\\n",
              "0  Não consigo sincronizar meus contatos com o te...  Portuguese   \n",
              "1  Ho problemi a stampare i documenti da remoto. ...     Italian   \n",
              "2          プリンターのトナーを交換しましたが、印刷品質が低下しています。サポートが必要です。    Japanese   \n",
              "3  Я не могу войти в систему учета времени, появл...     Russian   \n",
              "4  Internet bağlantım çok yavaş ve bazen tamamen ...     Turkish   \n",
              "5  Не могу установить обновление безопасности. По...     Russian   \n",
              "\n",
              "                category                                          trans_msg  \\\n",
              "0             Sync Issue  I can't sync my contacts with the phone. I alw...   \n",
              "1               Printing  I am having trouble printing documents remotel...   \n",
              "2                Printer  I replaced the toner of the printer, but the p...   \n",
              "3            Login Issue  I can't log into the time tracking system, an ...   \n",
              "4  Internet Connectivity  My internet connection is very slow and someti...   \n",
              "5           Installation  Unable to install security update. Error code ...   \n",
              "\n",
              "                                            response  \\\n",
              "0  Por favor, verifique se a conexão com a intern...   \n",
              "1  Grazie per averci contattato. Per risolvere il...   \n",
              "2  トナーを正しく交換したことを確認してください。プリンターのメンテナンスを行う必要があるかもし...   \n",
              "3  Пожалуйста, попробуйте сбросить пароль и попро...   \n",
              "4  Evet, tabii ki yardımcı olabiliriz. Lütfen mod...   \n",
              "5  Извините за возникшие проблемы. Пожалуйста, по...   \n",
              "\n",
              "                                      trans_response  \n",
              "0  Please check if the internet connection is wor...  \n",
              "1  Thank you for contacting us. To resolve the is...  \n",
              "2  Please make sure you replaced the toner correc...  \n",
              "3  Please try resetting your password and try aga...  \n",
              "4  Yes, of course we can help. Please check your ...  \n",
              "5  Apologies for the inconvenience. Please try th...  "
            ]
          },
          "execution_count": 273,
          "metadata": {},
          "output_type": "execute_result"
        }
      ],
      "source": [
        "import pandas as pd\n",
        "\n",
        "df = pd.DataFrame(responses)\n",
        "df"
      ]
    },
    {
      "cell_type": "markdown",
      "metadata": {
        "id": "IKS3-MEFTyjM"
      },
      "source": [
        "Try out more use-cases based on your own problems using what you learnt!"
      ]
    }
  ],
  "metadata": {
    "colab": {
      "provenance": []
    },
    "kernelspec": {
      "display_name": "base",
      "language": "python",
      "name": "python3"
    },
    "language_info": {
      "codemirror_mode": {
        "name": "ipython",
        "version": 3
      },
      "file_extension": ".py",
      "mimetype": "text/x-python",
      "name": "python",
      "nbconvert_exporter": "python",
      "pygments_lexer": "ipython3",
      "version": "3.9.13"
    }
  },
  "nbformat": 4,
  "nbformat_minor": 0
}
