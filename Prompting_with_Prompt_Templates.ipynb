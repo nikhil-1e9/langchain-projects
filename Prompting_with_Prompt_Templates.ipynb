{
  "nbformat": 4,
  "nbformat_minor": 0,
  "metadata": {
    "colab": {
      "provenance": [],
      "gpuType": "T4"
    },
    "kernelspec": {
      "name": "python3",
      "display_name": "Python 3"
    },
    "language_info": {
      "name": "python"
    },
    "accelerator": "GPU"
  },
  "cells": [
    {
      "cell_type": "markdown",
      "source": [
        "# Prompting with Prompt Templates in LangChain"
      ],
      "metadata": {
        "id": "TVraWpDTW8i0"
      }
    },
    {
      "cell_type": "markdown",
      "source": [
        "## Install OpenAI, HuggingFace and LangChain dependencies"
      ],
      "metadata": {
        "id": "L1KvMtf54l0d"
      }
    },
    {
      "cell_type": "code",
      "source": [
        "!pip install langchain==0.1.19\n",
        "!pip install langchain-openai==0.1.6\n",
        "!pip install langchain-community==0.0.38"
      ],
      "metadata": {
        "colab": {
          "base_uri": "https://localhost:8080/"
        },
        "id": "2evPp14fy258",
        "outputId": "bedbb968-cd84-4eb8-d061-ac271bfbc69c"
      },
      "execution_count": 1,
      "outputs": [
        {
          "output_type": "stream",
          "name": "stdout",
          "text": [
            "Collecting langchain==0.1.19\n",
            "  Downloading langchain-0.1.19-py3-none-any.whl.metadata (13 kB)\n",
            "Requirement already satisfied: PyYAML>=5.3 in /usr/local/lib/python3.11/dist-packages (from langchain==0.1.19) (6.0.2)\n",
            "Requirement already satisfied: SQLAlchemy<3,>=1.4 in /usr/local/lib/python3.11/dist-packages (from langchain==0.1.19) (2.0.37)\n",
            "Requirement already satisfied: aiohttp<4.0.0,>=3.8.3 in /usr/local/lib/python3.11/dist-packages (from langchain==0.1.19) (3.11.11)\n",
            "Collecting dataclasses-json<0.7,>=0.5.7 (from langchain==0.1.19)\n",
            "  Downloading dataclasses_json-0.6.7-py3-none-any.whl.metadata (25 kB)\n",
            "Collecting langchain-community<0.1,>=0.0.38 (from langchain==0.1.19)\n",
            "  Downloading langchain_community-0.0.38-py3-none-any.whl.metadata (8.7 kB)\n",
            "Collecting langchain-core<0.2.0,>=0.1.52 (from langchain==0.1.19)\n",
            "  Downloading langchain_core-0.1.53-py3-none-any.whl.metadata (5.9 kB)\n",
            "Collecting langchain-text-splitters<0.1,>=0.0.1 (from langchain==0.1.19)\n",
            "  Downloading langchain_text_splitters-0.0.2-py3-none-any.whl.metadata (2.2 kB)\n",
            "Collecting langsmith<0.2.0,>=0.1.17 (from langchain==0.1.19)\n",
            "  Downloading langsmith-0.1.147-py3-none-any.whl.metadata (14 kB)\n",
            "Requirement already satisfied: numpy<2,>=1 in /usr/local/lib/python3.11/dist-packages (from langchain==0.1.19) (1.26.4)\n",
            "Requirement already satisfied: pydantic<3,>=1 in /usr/local/lib/python3.11/dist-packages (from langchain==0.1.19) (2.10.6)\n",
            "Requirement already satisfied: requests<3,>=2 in /usr/local/lib/python3.11/dist-packages (from langchain==0.1.19) (2.32.3)\n",
            "Collecting tenacity<9.0.0,>=8.1.0 (from langchain==0.1.19)\n",
            "  Downloading tenacity-8.5.0-py3-none-any.whl.metadata (1.2 kB)\n",
            "Requirement already satisfied: aiohappyeyeballs>=2.3.0 in /usr/local/lib/python3.11/dist-packages (from aiohttp<4.0.0,>=3.8.3->langchain==0.1.19) (2.4.4)\n",
            "Requirement already satisfied: aiosignal>=1.1.2 in /usr/local/lib/python3.11/dist-packages (from aiohttp<4.0.0,>=3.8.3->langchain==0.1.19) (1.3.2)\n",
            "Requirement already satisfied: attrs>=17.3.0 in /usr/local/lib/python3.11/dist-packages (from aiohttp<4.0.0,>=3.8.3->langchain==0.1.19) (25.1.0)\n",
            "Requirement already satisfied: frozenlist>=1.1.1 in /usr/local/lib/python3.11/dist-packages (from aiohttp<4.0.0,>=3.8.3->langchain==0.1.19) (1.5.0)\n",
            "Requirement already satisfied: multidict<7.0,>=4.5 in /usr/local/lib/python3.11/dist-packages (from aiohttp<4.0.0,>=3.8.3->langchain==0.1.19) (6.1.0)\n",
            "Requirement already satisfied: propcache>=0.2.0 in /usr/local/lib/python3.11/dist-packages (from aiohttp<4.0.0,>=3.8.3->langchain==0.1.19) (0.2.1)\n",
            "Requirement already satisfied: yarl<2.0,>=1.17.0 in /usr/local/lib/python3.11/dist-packages (from aiohttp<4.0.0,>=3.8.3->langchain==0.1.19) (1.18.3)\n",
            "Collecting marshmallow<4.0.0,>=3.18.0 (from dataclasses-json<0.7,>=0.5.7->langchain==0.1.19)\n",
            "  Downloading marshmallow-3.26.0-py3-none-any.whl.metadata (7.3 kB)\n",
            "Collecting typing-inspect<1,>=0.4.0 (from dataclasses-json<0.7,>=0.5.7->langchain==0.1.19)\n",
            "  Downloading typing_inspect-0.9.0-py3-none-any.whl.metadata (1.5 kB)\n",
            "Requirement already satisfied: jsonpatch<2.0,>=1.33 in /usr/local/lib/python3.11/dist-packages (from langchain-core<0.2.0,>=0.1.52->langchain==0.1.19) (1.33)\n",
            "Collecting packaging<24.0,>=23.2 (from langchain-core<0.2.0,>=0.1.52->langchain==0.1.19)\n",
            "  Downloading packaging-23.2-py3-none-any.whl.metadata (3.2 kB)\n",
            "Requirement already satisfied: httpx<1,>=0.23.0 in /usr/local/lib/python3.11/dist-packages (from langsmith<0.2.0,>=0.1.17->langchain==0.1.19) (0.28.1)\n",
            "Requirement already satisfied: orjson<4.0.0,>=3.9.14 in /usr/local/lib/python3.11/dist-packages (from langsmith<0.2.0,>=0.1.17->langchain==0.1.19) (3.10.15)\n",
            "Requirement already satisfied: requests-toolbelt<2.0.0,>=1.0.0 in /usr/local/lib/python3.11/dist-packages (from langsmith<0.2.0,>=0.1.17->langchain==0.1.19) (1.0.0)\n",
            "Requirement already satisfied: annotated-types>=0.6.0 in /usr/local/lib/python3.11/dist-packages (from pydantic<3,>=1->langchain==0.1.19) (0.7.0)\n",
            "Requirement already satisfied: pydantic-core==2.27.2 in /usr/local/lib/python3.11/dist-packages (from pydantic<3,>=1->langchain==0.1.19) (2.27.2)\n",
            "Requirement already satisfied: typing-extensions>=4.12.2 in /usr/local/lib/python3.11/dist-packages (from pydantic<3,>=1->langchain==0.1.19) (4.12.2)\n",
            "Requirement already satisfied: charset-normalizer<4,>=2 in /usr/local/lib/python3.11/dist-packages (from requests<3,>=2->langchain==0.1.19) (3.4.1)\n",
            "Requirement already satisfied: idna<4,>=2.5 in /usr/local/lib/python3.11/dist-packages (from requests<3,>=2->langchain==0.1.19) (3.10)\n",
            "Requirement already satisfied: urllib3<3,>=1.21.1 in /usr/local/lib/python3.11/dist-packages (from requests<3,>=2->langchain==0.1.19) (2.3.0)\n",
            "Requirement already satisfied: certifi>=2017.4.17 in /usr/local/lib/python3.11/dist-packages (from requests<3,>=2->langchain==0.1.19) (2024.12.14)\n",
            "Requirement already satisfied: greenlet!=0.4.17 in /usr/local/lib/python3.11/dist-packages (from SQLAlchemy<3,>=1.4->langchain==0.1.19) (3.1.1)\n",
            "Requirement already satisfied: anyio in /usr/local/lib/python3.11/dist-packages (from httpx<1,>=0.23.0->langsmith<0.2.0,>=0.1.17->langchain==0.1.19) (3.7.1)\n",
            "Requirement already satisfied: httpcore==1.* in /usr/local/lib/python3.11/dist-packages (from httpx<1,>=0.23.0->langsmith<0.2.0,>=0.1.17->langchain==0.1.19) (1.0.7)\n",
            "Requirement already satisfied: h11<0.15,>=0.13 in /usr/local/lib/python3.11/dist-packages (from httpcore==1.*->httpx<1,>=0.23.0->langsmith<0.2.0,>=0.1.17->langchain==0.1.19) (0.14.0)\n",
            "Requirement already satisfied: jsonpointer>=1.9 in /usr/local/lib/python3.11/dist-packages (from jsonpatch<2.0,>=1.33->langchain-core<0.2.0,>=0.1.52->langchain==0.1.19) (3.0.0)\n",
            "Collecting mypy-extensions>=0.3.0 (from typing-inspect<1,>=0.4.0->dataclasses-json<0.7,>=0.5.7->langchain==0.1.19)\n",
            "  Downloading mypy_extensions-1.0.0-py3-none-any.whl.metadata (1.1 kB)\n",
            "Requirement already satisfied: sniffio>=1.1 in /usr/local/lib/python3.11/dist-packages (from anyio->httpx<1,>=0.23.0->langsmith<0.2.0,>=0.1.17->langchain==0.1.19) (1.3.1)\n",
            "Downloading langchain-0.1.19-py3-none-any.whl (1.0 MB)\n",
            "\u001b[2K   \u001b[90m━━━━━━━━━━━━━━━━━━━━━━━━━━━━━━━━━━━━━━━━\u001b[0m \u001b[32m1.0/1.0 MB\u001b[0m \u001b[31m20.7 MB/s\u001b[0m eta \u001b[36m0:00:00\u001b[0m\n",
            "\u001b[?25hDownloading dataclasses_json-0.6.7-py3-none-any.whl (28 kB)\n",
            "Downloading langchain_community-0.0.38-py3-none-any.whl (2.0 MB)\n",
            "\u001b[2K   \u001b[90m━━━━━━━━━━━━━━━━━━━━━━━━━━━━━━━━━━━━━━━━\u001b[0m \u001b[32m2.0/2.0 MB\u001b[0m \u001b[31m59.5 MB/s\u001b[0m eta \u001b[36m0:00:00\u001b[0m\n",
            "\u001b[?25hDownloading langchain_core-0.1.53-py3-none-any.whl (303 kB)\n",
            "\u001b[2K   \u001b[90m━━━━━━━━━━━━━━━━━━━━━━━━━━━━━━━━━━━━━━━━\u001b[0m \u001b[32m303.1/303.1 kB\u001b[0m \u001b[31m25.8 MB/s\u001b[0m eta \u001b[36m0:00:00\u001b[0m\n",
            "\u001b[?25hDownloading langchain_text_splitters-0.0.2-py3-none-any.whl (23 kB)\n",
            "Downloading langsmith-0.1.147-py3-none-any.whl (311 kB)\n",
            "\u001b[2K   \u001b[90m━━━━━━━━━━━━━━━━━━━━━━━━━━━━━━━━━━━━━━━━\u001b[0m \u001b[32m311.8/311.8 kB\u001b[0m \u001b[31m24.0 MB/s\u001b[0m eta \u001b[36m0:00:00\u001b[0m\n",
            "\u001b[?25hDownloading tenacity-8.5.0-py3-none-any.whl (28 kB)\n",
            "Downloading marshmallow-3.26.0-py3-none-any.whl (50 kB)\n",
            "\u001b[2K   \u001b[90m━━━━━━━━━━━━━━━━━━━━━━━━━━━━━━━━━━━━━━━━\u001b[0m \u001b[32m50.8/50.8 kB\u001b[0m \u001b[31m4.3 MB/s\u001b[0m eta \u001b[36m0:00:00\u001b[0m\n",
            "\u001b[?25hDownloading packaging-23.2-py3-none-any.whl (53 kB)\n",
            "\u001b[2K   \u001b[90m━━━━━━━━━━━━━━━━━━━━━━━━━━━━━━━━━━━━━━━━\u001b[0m \u001b[32m53.0/53.0 kB\u001b[0m \u001b[31m3.9 MB/s\u001b[0m eta \u001b[36m0:00:00\u001b[0m\n",
            "\u001b[?25hDownloading typing_inspect-0.9.0-py3-none-any.whl (8.8 kB)\n",
            "Downloading mypy_extensions-1.0.0-py3-none-any.whl (4.7 kB)\n",
            "Installing collected packages: tenacity, packaging, mypy-extensions, typing-inspect, marshmallow, langsmith, dataclasses-json, langchain-core, langchain-text-splitters, langchain-community, langchain\n",
            "  Attempting uninstall: tenacity\n",
            "    Found existing installation: tenacity 9.0.0\n",
            "    Uninstalling tenacity-9.0.0:\n",
            "      Successfully uninstalled tenacity-9.0.0\n",
            "  Attempting uninstall: packaging\n",
            "    Found existing installation: packaging 24.2\n",
            "    Uninstalling packaging-24.2:\n",
            "      Successfully uninstalled packaging-24.2\n",
            "  Attempting uninstall: langsmith\n",
            "    Found existing installation: langsmith 0.3.2\n",
            "    Uninstalling langsmith-0.3.2:\n",
            "      Successfully uninstalled langsmith-0.3.2\n",
            "  Attempting uninstall: langchain-core\n",
            "    Found existing installation: langchain-core 0.3.32\n",
            "    Uninstalling langchain-core-0.3.32:\n",
            "      Successfully uninstalled langchain-core-0.3.32\n",
            "  Attempting uninstall: langchain-text-splitters\n",
            "    Found existing installation: langchain-text-splitters 0.3.5\n",
            "    Uninstalling langchain-text-splitters-0.3.5:\n",
            "      Successfully uninstalled langchain-text-splitters-0.3.5\n",
            "  Attempting uninstall: langchain\n",
            "    Found existing installation: langchain 0.3.16\n",
            "    Uninstalling langchain-0.3.16:\n",
            "      Successfully uninstalled langchain-0.3.16\n",
            "Successfully installed dataclasses-json-0.6.7 langchain-0.1.19 langchain-community-0.0.38 langchain-core-0.1.53 langchain-text-splitters-0.0.2 langsmith-0.1.147 marshmallow-3.26.0 mypy-extensions-1.0.0 packaging-23.2 tenacity-8.5.0 typing-inspect-0.9.0\n",
            "Collecting langchain-openai==0.1.6\n",
            "  Downloading langchain_openai-0.1.6-py3-none-any.whl.metadata (2.5 kB)\n",
            "Requirement already satisfied: langchain-core<0.2.0,>=0.1.46 in /usr/local/lib/python3.11/dist-packages (from langchain-openai==0.1.6) (0.1.53)\n",
            "Requirement already satisfied: openai<2.0.0,>=1.24.0 in /usr/local/lib/python3.11/dist-packages (from langchain-openai==0.1.6) (1.59.9)\n",
            "Collecting tiktoken<1,>=0.5.2 (from langchain-openai==0.1.6)\n",
            "  Downloading tiktoken-0.8.0-cp311-cp311-manylinux_2_17_x86_64.manylinux2014_x86_64.whl.metadata (6.6 kB)\n",
            "Requirement already satisfied: PyYAML>=5.3 in /usr/local/lib/python3.11/dist-packages (from langchain-core<0.2.0,>=0.1.46->langchain-openai==0.1.6) (6.0.2)\n",
            "Requirement already satisfied: jsonpatch<2.0,>=1.33 in /usr/local/lib/python3.11/dist-packages (from langchain-core<0.2.0,>=0.1.46->langchain-openai==0.1.6) (1.33)\n",
            "Requirement already satisfied: langsmith<0.2.0,>=0.1.0 in /usr/local/lib/python3.11/dist-packages (from langchain-core<0.2.0,>=0.1.46->langchain-openai==0.1.6) (0.1.147)\n",
            "Requirement already satisfied: packaging<24.0,>=23.2 in /usr/local/lib/python3.11/dist-packages (from langchain-core<0.2.0,>=0.1.46->langchain-openai==0.1.6) (23.2)\n",
            "Requirement already satisfied: pydantic<3,>=1 in /usr/local/lib/python3.11/dist-packages (from langchain-core<0.2.0,>=0.1.46->langchain-openai==0.1.6) (2.10.6)\n",
            "Requirement already satisfied: tenacity<9.0.0,>=8.1.0 in /usr/local/lib/python3.11/dist-packages (from langchain-core<0.2.0,>=0.1.46->langchain-openai==0.1.6) (8.5.0)\n",
            "Requirement already satisfied: anyio<5,>=3.5.0 in /usr/local/lib/python3.11/dist-packages (from openai<2.0.0,>=1.24.0->langchain-openai==0.1.6) (3.7.1)\n",
            "Requirement already satisfied: distro<2,>=1.7.0 in /usr/local/lib/python3.11/dist-packages (from openai<2.0.0,>=1.24.0->langchain-openai==0.1.6) (1.9.0)\n",
            "Requirement already satisfied: httpx<1,>=0.23.0 in /usr/local/lib/python3.11/dist-packages (from openai<2.0.0,>=1.24.0->langchain-openai==0.1.6) (0.28.1)\n",
            "Requirement already satisfied: jiter<1,>=0.4.0 in /usr/local/lib/python3.11/dist-packages (from openai<2.0.0,>=1.24.0->langchain-openai==0.1.6) (0.8.2)\n",
            "Requirement already satisfied: sniffio in /usr/local/lib/python3.11/dist-packages (from openai<2.0.0,>=1.24.0->langchain-openai==0.1.6) (1.3.1)\n",
            "Requirement already satisfied: tqdm>4 in /usr/local/lib/python3.11/dist-packages (from openai<2.0.0,>=1.24.0->langchain-openai==0.1.6) (4.67.1)\n",
            "Requirement already satisfied: typing-extensions<5,>=4.11 in /usr/local/lib/python3.11/dist-packages (from openai<2.0.0,>=1.24.0->langchain-openai==0.1.6) (4.12.2)\n",
            "Requirement already satisfied: regex>=2022.1.18 in /usr/local/lib/python3.11/dist-packages (from tiktoken<1,>=0.5.2->langchain-openai==0.1.6) (2024.11.6)\n",
            "Requirement already satisfied: requests>=2.26.0 in /usr/local/lib/python3.11/dist-packages (from tiktoken<1,>=0.5.2->langchain-openai==0.1.6) (2.32.3)\n",
            "Requirement already satisfied: idna>=2.8 in /usr/local/lib/python3.11/dist-packages (from anyio<5,>=3.5.0->openai<2.0.0,>=1.24.0->langchain-openai==0.1.6) (3.10)\n",
            "Requirement already satisfied: certifi in /usr/local/lib/python3.11/dist-packages (from httpx<1,>=0.23.0->openai<2.0.0,>=1.24.0->langchain-openai==0.1.6) (2024.12.14)\n",
            "Requirement already satisfied: httpcore==1.* in /usr/local/lib/python3.11/dist-packages (from httpx<1,>=0.23.0->openai<2.0.0,>=1.24.0->langchain-openai==0.1.6) (1.0.7)\n",
            "Requirement already satisfied: h11<0.15,>=0.13 in /usr/local/lib/python3.11/dist-packages (from httpcore==1.*->httpx<1,>=0.23.0->openai<2.0.0,>=1.24.0->langchain-openai==0.1.6) (0.14.0)\n",
            "Requirement already satisfied: jsonpointer>=1.9 in /usr/local/lib/python3.11/dist-packages (from jsonpatch<2.0,>=1.33->langchain-core<0.2.0,>=0.1.46->langchain-openai==0.1.6) (3.0.0)\n",
            "Requirement already satisfied: orjson<4.0.0,>=3.9.14 in /usr/local/lib/python3.11/dist-packages (from langsmith<0.2.0,>=0.1.0->langchain-core<0.2.0,>=0.1.46->langchain-openai==0.1.6) (3.10.15)\n",
            "Requirement already satisfied: requests-toolbelt<2.0.0,>=1.0.0 in /usr/local/lib/python3.11/dist-packages (from langsmith<0.2.0,>=0.1.0->langchain-core<0.2.0,>=0.1.46->langchain-openai==0.1.6) (1.0.0)\n",
            "Requirement already satisfied: annotated-types>=0.6.0 in /usr/local/lib/python3.11/dist-packages (from pydantic<3,>=1->langchain-core<0.2.0,>=0.1.46->langchain-openai==0.1.6) (0.7.0)\n",
            "Requirement already satisfied: pydantic-core==2.27.2 in /usr/local/lib/python3.11/dist-packages (from pydantic<3,>=1->langchain-core<0.2.0,>=0.1.46->langchain-openai==0.1.6) (2.27.2)\n",
            "Requirement already satisfied: charset-normalizer<4,>=2 in /usr/local/lib/python3.11/dist-packages (from requests>=2.26.0->tiktoken<1,>=0.5.2->langchain-openai==0.1.6) (3.4.1)\n",
            "Requirement already satisfied: urllib3<3,>=1.21.1 in /usr/local/lib/python3.11/dist-packages (from requests>=2.26.0->tiktoken<1,>=0.5.2->langchain-openai==0.1.6) (2.3.0)\n",
            "Downloading langchain_openai-0.1.6-py3-none-any.whl (34 kB)\n",
            "Downloading tiktoken-0.8.0-cp311-cp311-manylinux_2_17_x86_64.manylinux2014_x86_64.whl (1.2 MB)\n",
            "\u001b[2K   \u001b[90m━━━━━━━━━━━━━━━━━━━━━━━━━━━━━━━━━━━━━━━━\u001b[0m \u001b[32m1.2/1.2 MB\u001b[0m \u001b[31m22.7 MB/s\u001b[0m eta \u001b[36m0:00:00\u001b[0m\n",
            "\u001b[?25hInstalling collected packages: tiktoken, langchain-openai\n",
            "Successfully installed langchain-openai-0.1.6 tiktoken-0.8.0\n",
            "Requirement already satisfied: langchain-community==0.0.38 in /usr/local/lib/python3.11/dist-packages (0.0.38)\n",
            "Requirement already satisfied: PyYAML>=5.3 in /usr/local/lib/python3.11/dist-packages (from langchain-community==0.0.38) (6.0.2)\n",
            "Requirement already satisfied: SQLAlchemy<3,>=1.4 in /usr/local/lib/python3.11/dist-packages (from langchain-community==0.0.38) (2.0.37)\n",
            "Requirement already satisfied: aiohttp<4.0.0,>=3.8.3 in /usr/local/lib/python3.11/dist-packages (from langchain-community==0.0.38) (3.11.11)\n",
            "Requirement already satisfied: dataclasses-json<0.7,>=0.5.7 in /usr/local/lib/python3.11/dist-packages (from langchain-community==0.0.38) (0.6.7)\n",
            "Requirement already satisfied: langchain-core<0.2.0,>=0.1.52 in /usr/local/lib/python3.11/dist-packages (from langchain-community==0.0.38) (0.1.53)\n",
            "Requirement already satisfied: langsmith<0.2.0,>=0.1.0 in /usr/local/lib/python3.11/dist-packages (from langchain-community==0.0.38) (0.1.147)\n",
            "Requirement already satisfied: numpy<2,>=1 in /usr/local/lib/python3.11/dist-packages (from langchain-community==0.0.38) (1.26.4)\n",
            "Requirement already satisfied: requests<3,>=2 in /usr/local/lib/python3.11/dist-packages (from langchain-community==0.0.38) (2.32.3)\n",
            "Requirement already satisfied: tenacity<9.0.0,>=8.1.0 in /usr/local/lib/python3.11/dist-packages (from langchain-community==0.0.38) (8.5.0)\n",
            "Requirement already satisfied: aiohappyeyeballs>=2.3.0 in /usr/local/lib/python3.11/dist-packages (from aiohttp<4.0.0,>=3.8.3->langchain-community==0.0.38) (2.4.4)\n",
            "Requirement already satisfied: aiosignal>=1.1.2 in /usr/local/lib/python3.11/dist-packages (from aiohttp<4.0.0,>=3.8.3->langchain-community==0.0.38) (1.3.2)\n",
            "Requirement already satisfied: attrs>=17.3.0 in /usr/local/lib/python3.11/dist-packages (from aiohttp<4.0.0,>=3.8.3->langchain-community==0.0.38) (25.1.0)\n",
            "Requirement already satisfied: frozenlist>=1.1.1 in /usr/local/lib/python3.11/dist-packages (from aiohttp<4.0.0,>=3.8.3->langchain-community==0.0.38) (1.5.0)\n",
            "Requirement already satisfied: multidict<7.0,>=4.5 in /usr/local/lib/python3.11/dist-packages (from aiohttp<4.0.0,>=3.8.3->langchain-community==0.0.38) (6.1.0)\n",
            "Requirement already satisfied: propcache>=0.2.0 in /usr/local/lib/python3.11/dist-packages (from aiohttp<4.0.0,>=3.8.3->langchain-community==0.0.38) (0.2.1)\n",
            "Requirement already satisfied: yarl<2.0,>=1.17.0 in /usr/local/lib/python3.11/dist-packages (from aiohttp<4.0.0,>=3.8.3->langchain-community==0.0.38) (1.18.3)\n",
            "Requirement already satisfied: marshmallow<4.0.0,>=3.18.0 in /usr/local/lib/python3.11/dist-packages (from dataclasses-json<0.7,>=0.5.7->langchain-community==0.0.38) (3.26.0)\n",
            "Requirement already satisfied: typing-inspect<1,>=0.4.0 in /usr/local/lib/python3.11/dist-packages (from dataclasses-json<0.7,>=0.5.7->langchain-community==0.0.38) (0.9.0)\n",
            "Requirement already satisfied: jsonpatch<2.0,>=1.33 in /usr/local/lib/python3.11/dist-packages (from langchain-core<0.2.0,>=0.1.52->langchain-community==0.0.38) (1.33)\n",
            "Requirement already satisfied: packaging<24.0,>=23.2 in /usr/local/lib/python3.11/dist-packages (from langchain-core<0.2.0,>=0.1.52->langchain-community==0.0.38) (23.2)\n",
            "Requirement already satisfied: pydantic<3,>=1 in /usr/local/lib/python3.11/dist-packages (from langchain-core<0.2.0,>=0.1.52->langchain-community==0.0.38) (2.10.6)\n",
            "Requirement already satisfied: httpx<1,>=0.23.0 in /usr/local/lib/python3.11/dist-packages (from langsmith<0.2.0,>=0.1.0->langchain-community==0.0.38) (0.28.1)\n",
            "Requirement already satisfied: orjson<4.0.0,>=3.9.14 in /usr/local/lib/python3.11/dist-packages (from langsmith<0.2.0,>=0.1.0->langchain-community==0.0.38) (3.10.15)\n",
            "Requirement already satisfied: requests-toolbelt<2.0.0,>=1.0.0 in /usr/local/lib/python3.11/dist-packages (from langsmith<0.2.0,>=0.1.0->langchain-community==0.0.38) (1.0.0)\n",
            "Requirement already satisfied: charset-normalizer<4,>=2 in /usr/local/lib/python3.11/dist-packages (from requests<3,>=2->langchain-community==0.0.38) (3.4.1)\n",
            "Requirement already satisfied: idna<4,>=2.5 in /usr/local/lib/python3.11/dist-packages (from requests<3,>=2->langchain-community==0.0.38) (3.10)\n",
            "Requirement already satisfied: urllib3<3,>=1.21.1 in /usr/local/lib/python3.11/dist-packages (from requests<3,>=2->langchain-community==0.0.38) (2.3.0)\n",
            "Requirement already satisfied: certifi>=2017.4.17 in /usr/local/lib/python3.11/dist-packages (from requests<3,>=2->langchain-community==0.0.38) (2024.12.14)\n",
            "Requirement already satisfied: greenlet!=0.4.17 in /usr/local/lib/python3.11/dist-packages (from SQLAlchemy<3,>=1.4->langchain-community==0.0.38) (3.1.1)\n",
            "Requirement already satisfied: typing-extensions>=4.6.0 in /usr/local/lib/python3.11/dist-packages (from SQLAlchemy<3,>=1.4->langchain-community==0.0.38) (4.12.2)\n",
            "Requirement already satisfied: anyio in /usr/local/lib/python3.11/dist-packages (from httpx<1,>=0.23.0->langsmith<0.2.0,>=0.1.0->langchain-community==0.0.38) (3.7.1)\n",
            "Requirement already satisfied: httpcore==1.* in /usr/local/lib/python3.11/dist-packages (from httpx<1,>=0.23.0->langsmith<0.2.0,>=0.1.0->langchain-community==0.0.38) (1.0.7)\n",
            "Requirement already satisfied: h11<0.15,>=0.13 in /usr/local/lib/python3.11/dist-packages (from httpcore==1.*->httpx<1,>=0.23.0->langsmith<0.2.0,>=0.1.0->langchain-community==0.0.38) (0.14.0)\n",
            "Requirement already satisfied: jsonpointer>=1.9 in /usr/local/lib/python3.11/dist-packages (from jsonpatch<2.0,>=1.33->langchain-core<0.2.0,>=0.1.52->langchain-community==0.0.38) (3.0.0)\n",
            "Requirement already satisfied: annotated-types>=0.6.0 in /usr/local/lib/python3.11/dist-packages (from pydantic<3,>=1->langchain-core<0.2.0,>=0.1.52->langchain-community==0.0.38) (0.7.0)\n",
            "Requirement already satisfied: pydantic-core==2.27.2 in /usr/local/lib/python3.11/dist-packages (from pydantic<3,>=1->langchain-core<0.2.0,>=0.1.52->langchain-community==0.0.38) (2.27.2)\n",
            "Requirement already satisfied: mypy-extensions>=0.3.0 in /usr/local/lib/python3.11/dist-packages (from typing-inspect<1,>=0.4.0->dataclasses-json<0.7,>=0.5.7->langchain-community==0.0.38) (1.0.0)\n",
            "Requirement already satisfied: sniffio>=1.1 in /usr/local/lib/python3.11/dist-packages (from anyio->httpx<1,>=0.23.0->langsmith<0.2.0,>=0.1.0->langchain-community==0.0.38) (1.3.1)\n"
          ]
        }
      ]
    },
    {
      "cell_type": "markdown",
      "source": [
        "## Enter API Tokens"
      ],
      "metadata": {
        "id": "PtBa7rlWJWH3"
      }
    },
    {
      "cell_type": "markdown",
      "source": [
        "#### Enter your Open AI Key here\n",
        "\n",
        "You can get the key from [here](https://platform.openai.com/api-keys) after creating an account or signing in"
      ],
      "metadata": {
        "id": "Y6RD7As2sm8G"
      }
    },
    {
      "cell_type": "code",
      "source": [
        "from getpass import getpass\n",
        "\n",
        "OPENAI_KEY = getpass('Please enter your Open AI API Key here: ')"
      ],
      "metadata": {
        "id": "9ogxBkS6ZnnC"
      },
      "execution_count": 2,
      "outputs": []
    },
    {
      "cell_type": "markdown",
      "source": [
        "## Setup necessary system environment variables"
      ],
      "metadata": {
        "id": "T5rOqCyianbP"
      }
    },
    {
      "cell_type": "code",
      "source": [
        "import os\n",
        "\n",
        "os.environ['OPENAI_API_KEY'] = OPENAI_KEY"
      ],
      "metadata": {
        "id": "1PIStD04Zp9p"
      },
      "execution_count": 4,
      "outputs": []
    },
    {
      "cell_type": "markdown",
      "source": [
        "## Chat Models and LLMs\n",
        "\n",
        "Large Language Models (LLMs) are a core component of LangChain. LangChain does not implement or build its own LLMs. It provides a standard API for interacting with almost every LLM out there.\n",
        "\n",
        "There are lots of LLM providers (OpenAI, Hugging Face, etc) - the LLM class is designed to provide a standard interface for all of them."
      ],
      "metadata": {
        "id": "_4h0xywyJ3v7"
      }
    },
    {
      "cell_type": "markdown",
      "source": [
        "## Accessing Commercial LLMs like ChatGPT"
      ],
      "metadata": {
        "id": "cSdF6_R7J45Z"
      }
    },
    {
      "cell_type": "code",
      "source": [
        "from langchain_openai import ChatOpenAI\n",
        "\n",
        "chatgpt = ChatOpenAI(model_name=\"gpt-3.5-turbo\", temperature=0)"
      ],
      "metadata": {
        "id": "v8nnrOGxZ2uZ"
      },
      "execution_count": null,
      "outputs": []
    },
    {
      "cell_type": "markdown",
      "source": [
        "## Prompt Templates\n",
        "Prompt templates are pre-designed formats used to generate prompts for language models. These templates can include instructions, few-shot examples, and specific contexts and questions suited for particular tasks.\n",
        "\n",
        "LangChain provides tools for creating and using prompt templates. It aims to develop model-agnostic templates to facilitate the reuse of existing templates across different language models. Typically, these models expect prompts in the form of either a string or a list of chat messages.\n",
        "\n",
        "### Types of Prompt Templates\n",
        "\n",
        "- **PromptTemplate:**\n",
        "  - Used for creating string-based prompts.\n",
        "  - Utilizes Python's `str.format` syntax for templating, supporting any number of variables, including scenarios with no variables.\n",
        "\n",
        "- **ChatPromptTemplate:**\n",
        "  - Designed for chat models, where the prompt consists of a list of chat messages.\n",
        "  - Each chat message includes content and a role parameter. For instance, in the OpenAI Chat Completions API, a chat message could be assigned to an AI assistant, a human, or a system role.\n",
        "- **FewShotChatMessagePromptTemplate**\n",
        "  - A few-shot prompt template can be constructed from a set of examples\n"
      ],
      "metadata": {
        "id": "8i8KIVTwnD6Y"
      }
    },
    {
      "cell_type": "markdown",
      "source": [
        "### PromptTemplate\n",
        "\n",
        "We can use `PromptTemplate` to create a template for a string prompt. By default, `PromptTemplate` uses Python's `str.format` syntax for templating.\n",
        "\n",
        "You can create custom prompt templates that format the prompt in any way you want. For more information, see [Prompt Template Composition](https://python.langchain.com/v0.1/docs/modules/model_io/prompts/composition/)."
      ],
      "metadata": {
        "id": "7Oh9UiTNqaPf"
      }
    },
    {
      "cell_type": "code",
      "source": [
        "from langchain.prompts import PromptTemplate\n",
        "\n",
        "# Simple prompt\n",
        "\n",
        "prompt = \"\"\"Explain to me what is Generative AI in 3 bullet points?\"\"\"\n",
        "prompt_template = PromptTemplate.from_template(prompt)\n",
        "prompt_template"
      ],
      "metadata": {
        "colab": {
          "base_uri": "https://localhost:8080/"
        },
        "id": "xoUCbb4FkaIW",
        "outputId": "2aa122b7-6956-4b87-c3cd-dae75265aa5c"
      },
      "execution_count": 5,
      "outputs": [
        {
          "output_type": "execute_result",
          "data": {
            "text/plain": [
              "PromptTemplate(input_variables=[], template='Explain to me what is Generative AI in 3 bullet points?')"
            ]
          },
          "metadata": {},
          "execution_count": 5
        }
      ]
    },
    {
      "cell_type": "code",
      "source": [
        "prompt_template.format()"
      ],
      "metadata": {
        "colab": {
          "base_uri": "https://localhost:8080/",
          "height": 36
        },
        "id": "nPNs1Efsn2Zf",
        "outputId": "b1098f37-beab-4b19-d441-d41e890c1e4a"
      },
      "execution_count": 6,
      "outputs": [
        {
          "output_type": "execute_result",
          "data": {
            "text/plain": [
              "'Explain to me what is Generative AI in 3 bullet points?'"
            ],
            "application/vnd.google.colaboratory.intrinsic+json": {
              "type": "string"
            }
          },
          "metadata": {},
          "execution_count": 6
        }
      ]
    },
    {
      "cell_type": "code",
      "source": [
        "response = chatgpt.invoke(prompt_template.format())\n",
        "print(response.content)"
      ],
      "metadata": {
        "colab": {
          "base_uri": "https://localhost:8080/"
        },
        "id": "iM5oNvXpnSq7",
        "outputId": "31946dc3-313f-45da-d756-171fe6457af3"
      },
      "execution_count": null,
      "outputs": [
        {
          "output_type": "stream",
          "name": "stdout",
          "text": [
            "- Generative AI is a type of artificial intelligence that is capable of creating new content, such as images, text, or music, based on patterns and data it has been trained on.\n",
            "- It uses algorithms to generate new content that is similar to the input data it has been trained on, allowing it to create realistic and original outputs.\n",
            "- Generative AI has a wide range of applications, including creating art, generating realistic images, and even composing music.\n"
          ]
        }
      ]
    },
    {
      "cell_type": "code",
      "source": [
        "# more complex prompt with placeholders\n",
        "prompt = \"\"\"Explain to me briefly about {topic} in {language}.\"\"\"\n",
        "\n",
        "prompt_template = PromptTemplate.from_template(prompt)\n",
        "prompt_template"
      ],
      "metadata": {
        "colab": {
          "base_uri": "https://localhost:8080/"
        },
        "id": "2VTvciVcnajD",
        "outputId": "08b5ed86-2ca4-46c4-e3f8-3849cc5bced4"
      },
      "execution_count": 7,
      "outputs": [
        {
          "output_type": "execute_result",
          "data": {
            "text/plain": [
              "PromptTemplate(input_variables=['language', 'topic'], template='Explain to me briefly about {topic} in {language}.')"
            ]
          },
          "metadata": {},
          "execution_count": 7
        }
      ]
    },
    {
      "cell_type": "code",
      "source": [
        "inputs = [(\"Generative AI\", \"english\"),\n",
        "          (\"Artificial Intelligence\", \"hindi\"),\n",
        "          (\"Deep Learning\", \"german\")]\n",
        "\n",
        "prompts = [prompt_template.format(topic=topic, language=language) for topic, language in inputs]\n",
        "prompts"
      ],
      "metadata": {
        "colab": {
          "base_uri": "https://localhost:8080/"
        },
        "id": "FyXhUhbapZ7T",
        "outputId": "63e3d853-7ea1-40a9-fbe9-ffb70abd003d"
      },
      "execution_count": 8,
      "outputs": [
        {
          "output_type": "execute_result",
          "data": {
            "text/plain": [
              "['Explain to me briefly about Generative AI in english.',\n",
              " 'Explain to me briefly about Artificial Intelligence in hindi.',\n",
              " 'Explain to me briefly about Deep Learning in german.']"
            ]
          },
          "metadata": {},
          "execution_count": 8
        }
      ]
    },
    {
      "cell_type": "code",
      "source": [
        "# use map to run on multiple prompts in one go\n",
        "responses = chatgpt.map().invoke(prompts)"
      ],
      "metadata": {
        "id": "edPyCf_Aps9Q"
      },
      "execution_count": null,
      "outputs": []
    },
    {
      "cell_type": "code",
      "source": [
        "responses"
      ],
      "metadata": {
        "colab": {
          "base_uri": "https://localhost:8080/"
        },
        "id": "wZ8cDck4ck_g",
        "outputId": "0d78d17a-e61f-4a58-f75c-6d447fc5214c"
      },
      "execution_count": null,
      "outputs": [
        {
          "output_type": "execute_result",
          "data": {
            "text/plain": [
              "[AIMessage(content='Generative AI is a type of artificial intelligence that is capable of creating new content, such as images, text, or music, based on patterns and data it has been trained on. This technology uses algorithms to generate original and unique outputs that mimic human creativity. Generative AI has a wide range of applications, from creating art and music to generating realistic images and videos. It has the potential to revolutionize various industries by automating the creative process and producing content at scale.', response_metadata={'token_usage': {'completion_tokens': 95, 'prompt_tokens': 19, 'total_tokens': 114}, 'model_name': 'gpt-3.5-turbo', 'system_fingerprint': None, 'finish_reason': 'stop', 'logprobs': None}, id='run-ba599f9d-4a6c-4736-87b2-12cf4c45d3eb-0'),\n",
              " AIMessage(content='कृत्रिम बुद्धिमत्ता एक शाखा है जो कंप्यूटर और मशीनों को मानव बुद्धिमत्ता की तरह काम करने की क्षमता प्रदान करती है। यह तकनीकी उन्नति का एक महत्वपूर्ण क्षेत्र है जो विभिन्न क्षेत्रों में उपयोग किया जाता है, जैसे कि रोबोटिक्स, स्वचालित गाड़ियां, वित्तीय सेवाएं, स्वास्थ्य सेवाएं आदि। इसका उद्देश्य है कंप्यूटरों को सोचने, सीखने, समस्याओं को हल करने और निर्णय लेने की क्षमता प्रदान करना।', response_metadata={'token_usage': {'completion_tokens': 373, 'prompt_tokens': 18, 'total_tokens': 391}, 'model_name': 'gpt-3.5-turbo', 'system_fingerprint': None, 'finish_reason': 'stop', 'logprobs': None}, id='run-d8324688-ae89-4c70-9763-2dffbddf6a44-0'),\n",
              " AIMessage(content='Deep Learning ist ein Teilbereich des maschinellen Lernens, der auf künstlichen neuronalen Netzwerken basiert. Diese Netzwerke sind in der Lage, komplexe Muster und Zusammenhänge in großen Datenmengen zu erkennen und zu lernen. Durch die Verwendung mehrerer Schichten von Neuronen können Deep Learning-Modelle sehr komplexe Probleme lösen und hochpräzise Vorhersagen treffen. Deep Learning wird in verschiedenen Bereichen wie Bilderkennung, Spracherkennung, autonomen Fahrzeugen und medizinischen Diagnosen eingesetzt.', response_metadata={'token_usage': {'completion_tokens': 132, 'prompt_tokens': 18, 'total_tokens': 150}, 'model_name': 'gpt-3.5-turbo', 'system_fingerprint': None, 'finish_reason': 'stop', 'logprobs': None}, id='run-62226afe-0da5-4efa-9736-5cdd8d33cdf8-0')]"
            ]
          },
          "metadata": {},
          "execution_count": 11
        }
      ]
    },
    {
      "cell_type": "code",
      "source": [
        "for response in responses:\n",
        "  print(response.content)\n",
        "  print('-----')"
      ],
      "metadata": {
        "colab": {
          "base_uri": "https://localhost:8080/"
        },
        "id": "tRWUf9eTqEMU",
        "outputId": "42467835-6b0e-4622-caf9-35e399e88cd6"
      },
      "execution_count": null,
      "outputs": [
        {
          "output_type": "stream",
          "name": "stdout",
          "text": [
            "Generative AI is a type of artificial intelligence that is capable of creating new content, such as images, text, or music, based on patterns and data it has been trained on. This technology uses algorithms to generate original and unique outputs that mimic human creativity. Generative AI has a wide range of applications, from creating art and music to generating realistic images and videos. It has the potential to revolutionize various industries by automating the creative process and producing content at scale.\n",
            "-----\n",
            "कृत्रिम बुद्धिमत्ता एक शाखा है जो कंप्यूटर और मशीनों को मानव बुद्धिमत्ता की तरह काम करने की क्षमता प्रदान करती है। यह तकनीकी उन्नति का एक महत्वपूर्ण क्षेत्र है जो विभिन्न क्षेत्रों में उपयोग किया जाता है, जैसे कि रोबोटिक्स, स्वचालित गाड़ियां, वित्तीय सेवाएं, स्वास्थ्य सेवाएं आदि। इसका उद्देश्य है कंप्यूटरों को सोचने, सीखने, समस्याओं को हल करने और निर्णय लेने की क्षमता प्रदान करना।\n",
            "-----\n",
            "Deep Learning ist ein Teilbereich des maschinellen Lernens, der auf künstlichen neuronalen Netzwerken basiert. Diese Netzwerke sind in der Lage, komplexe Muster und Zusammenhänge in großen Datenmengen zu erkennen und zu lernen. Durch die Verwendung mehrerer Schichten von Neuronen können Deep Learning-Modelle sehr komplexe Probleme lösen und hochpräzise Vorhersagen treffen. Deep Learning wird in verschiedenen Bereichen wie Bilderkennung, Spracherkennung, autonomen Fahrzeugen und medizinischen Diagnosen eingesetzt.\n",
            "-----\n"
          ]
        }
      ]
    },
    {
      "cell_type": "markdown",
      "source": [
        "### ChatPromptTemplate\n",
        "\n",
        "The standard prompt format to [chat models](https://python.langchain.com/v0.1/docs/modules/model_io/chat/) is a list of [chat messages](https://python.langchain.com/v0.1/docs/modules/model_io/chat/message_types/).\n",
        "\n",
        "Each chat message is associated with content, and an additional parameter called `role`. For example, in the OpenAI Chat Completions API, a chat message can be associated with an AI assistant, a human or a system role."
      ],
      "metadata": {
        "id": "VAGmjR-tqfmV"
      }
    },
    {
      "cell_type": "code",
      "source": [
        "from langchain_core.prompts import ChatPromptTemplate\n",
        "\n",
        "# simple prompt with placeholders\n",
        "prompt = \"\"\"Explain to me briefly about {topic}.\"\"\"\n",
        "\n",
        "chat_template = ChatPromptTemplate.from_template(prompt)\n",
        "chat_template"
      ],
      "metadata": {
        "colab": {
          "base_uri": "https://localhost:8080/"
        },
        "id": "tawdWLueqHG6",
        "outputId": "9b460f4b-d210-413e-f400-cf6fb19f4193"
      },
      "execution_count": 9,
      "outputs": [
        {
          "output_type": "execute_result",
          "data": {
            "text/plain": [
              "ChatPromptTemplate(input_variables=['topic'], messages=[HumanMessagePromptTemplate(prompt=PromptTemplate(input_variables=['topic'], template='Explain to me briefly about {topic}.'))])"
            ]
          },
          "metadata": {},
          "execution_count": 9
        }
      ]
    },
    {
      "cell_type": "code",
      "source": [
        "topics = ['mortgage', 'fractional real estate', 'commercial real estate']\n",
        "prompts = [chat_template.format(topic=topic) for topic in topics]\n",
        "prompts"
      ],
      "metadata": {
        "colab": {
          "base_uri": "https://localhost:8080/"
        },
        "id": "Hr0sC7xHqxOp",
        "outputId": "03a88899-a441-421e-c058-990d744075c6"
      },
      "execution_count": 10,
      "outputs": [
        {
          "output_type": "execute_result",
          "data": {
            "text/plain": [
              "['Human: Explain to me briefly about mortgage.',\n",
              " 'Human: Explain to me briefly about fractional real estate.',\n",
              " 'Human: Explain to me briefly about commercial real estate.']"
            ]
          },
          "metadata": {},
          "execution_count": 10
        }
      ]
    },
    {
      "cell_type": "code",
      "source": [
        "responses = chatgpt.map().invoke(prompts)\n",
        "for response in responses:\n",
        "  print(response.content)\n",
        "  print('-----')"
      ],
      "metadata": {
        "colab": {
          "base_uri": "https://localhost:8080/"
        },
        "id": "cU9YObv9rY4P",
        "outputId": "97fe9ad3-2944-431e-9902-7a663ae66d75"
      },
      "execution_count": null,
      "outputs": [
        {
          "output_type": "stream",
          "name": "stdout",
          "text": [
            "Mortgage is a type of loan that is used to purchase a home or property. The borrower agrees to repay the loan amount, plus interest, over a set period of time. The property itself serves as collateral for the loan, meaning that if the borrower fails to make payments, the lender has the right to take possession of the property.\n",
            "-----\n",
            "Fractional real estate is a type of investment where multiple investors come together to collectively own a share of a property. Each investor owns a fraction of the property, typically represented by shares or units, and is entitled to a portion of the property's income and appreciation. This allows investors to own a stake in high-value properties that they may not be able to afford on their own, and also provides diversification and potential for higher returns.\n",
            "-----\n",
            "Commercial real estate refers to properties that are used for business purposes, such as office buildings, retail spaces, industrial facilities, and hotels. These properties are typically leased or sold to businesses for their operations. Commercial real estate is a key component of the economy and plays a crucial role in driving economic growth and development. Investors can purchase commercial real estate to generate rental income or capital appreciation.\n",
            "-----\n"
          ]
        }
      ]
    },
    {
      "cell_type": "code",
      "source": [
        "responses[0]"
      ],
      "metadata": {
        "colab": {
          "base_uri": "https://localhost:8080/"
        },
        "id": "8NHhUa48rm_g",
        "outputId": "0ce02334-631a-4533-dad4-3a382da0435d"
      },
      "execution_count": null,
      "outputs": [
        {
          "output_type": "execute_result",
          "data": {
            "text/plain": [
              "AIMessage(content='Mortgage is a type of loan that is used to purchase a home or property. The borrower agrees to repay the loan amount, plus interest, over a set period of time. The property itself serves as collateral for the loan, meaning that if the borrower fails to make payments, the lender has the right to take possession of the property.', response_metadata={'token_usage': {'completion_tokens': 69, 'prompt_tokens': 16, 'total_tokens': 85}, 'model_name': 'gpt-3.5-turbo', 'system_fingerprint': None, 'finish_reason': 'stop', 'logprobs': None}, id='run-93e59469-350e-4d00-ab67-384735648182-0')"
            ]
          },
          "metadata": {},
          "execution_count": 16
        }
      ]
    },
    {
      "cell_type": "code",
      "source": [
        "# more complex prompt with a series of messages\n",
        "messages = [\n",
        "        (\"system\", \"Act as an expert in real estate and provide brief answers\"),\n",
        "        (\"human\", \"what is your name?\"),\n",
        "        (\"ai\", \"my name is AIBot\"),\n",
        "        (\"human\", \"{user_prompt}\"),\n",
        "]\n",
        "chat_template = ChatPromptTemplate.from_messages(messages)\n",
        "chat_template"
      ],
      "metadata": {
        "colab": {
          "base_uri": "https://localhost:8080/"
        },
        "id": "1PSkafcfsme2",
        "outputId": "af480245-3978-4ca1-9409-d2ee729d9bc7"
      },
      "execution_count": 11,
      "outputs": [
        {
          "output_type": "execute_result",
          "data": {
            "text/plain": [
              "ChatPromptTemplate(input_variables=['user_prompt'], messages=[SystemMessagePromptTemplate(prompt=PromptTemplate(input_variables=[], template='Act as an expert in real estate and provide brief answers')), HumanMessagePromptTemplate(prompt=PromptTemplate(input_variables=[], template='what is your name?')), AIMessagePromptTemplate(prompt=PromptTemplate(input_variables=[], template='my name is AIBot')), HumanMessagePromptTemplate(prompt=PromptTemplate(input_variables=['user_prompt'], template='{user_prompt}'))])"
            ]
          },
          "metadata": {},
          "execution_count": 11
        }
      ]
    },
    {
      "cell_type": "code",
      "source": [
        "text_prompts = [\"what is your name?\",\n",
        "                \"explain commercial real estate to me\"]\n",
        "chat_prompts = [chat_template.format(user_prompt=prompt) for prompt in text_prompts]\n",
        "chat_prompts"
      ],
      "metadata": {
        "colab": {
          "base_uri": "https://localhost:8080/"
        },
        "id": "N5ncYrVVtUWU",
        "outputId": "584d4469-c89b-45cf-c106-b0a31732156e"
      },
      "execution_count": 12,
      "outputs": [
        {
          "output_type": "execute_result",
          "data": {
            "text/plain": [
              "['System: Act as an expert in real estate and provide brief answers\\nHuman: what is your name?\\nAI: my name is AIBot\\nHuman: what is your name?',\n",
              " 'System: Act as an expert in real estate and provide brief answers\\nHuman: what is your name?\\nAI: my name is AIBot\\nHuman: explain commercial real estate to me']"
            ]
          },
          "metadata": {},
          "execution_count": 12
        }
      ]
    },
    {
      "cell_type": "code",
      "source": [
        "print(chat_prompts[0])"
      ],
      "metadata": {
        "colab": {
          "base_uri": "https://localhost:8080/"
        },
        "id": "vQd1Bk_Td2mM",
        "outputId": "8e99f5e3-ca7e-4e50-a19d-3207f95d1192"
      },
      "execution_count": 13,
      "outputs": [
        {
          "output_type": "stream",
          "name": "stdout",
          "text": [
            "System: Act as an expert in real estate and provide brief answers\n",
            "Human: what is your name?\n",
            "AI: my name is AIBot\n",
            "Human: what is your name?\n"
          ]
        }
      ]
    },
    {
      "cell_type": "code",
      "source": [
        "print(chat_prompts[1])"
      ],
      "metadata": {
        "colab": {
          "base_uri": "https://localhost:8080/"
        },
        "id": "xQnrzTfj59gv",
        "outputId": "38a08ab1-cbb1-4d6f-88b1-8c0cfe1026d6"
      },
      "execution_count": 14,
      "outputs": [
        {
          "output_type": "stream",
          "name": "stdout",
          "text": [
            "System: Act as an expert in real estate and provide brief answers\n",
            "Human: what is your name?\n",
            "AI: my name is AIBot\n",
            "Human: explain commercial real estate to me\n"
          ]
        }
      ]
    },
    {
      "cell_type": "code",
      "source": [
        "responses = chatgpt.map().invoke(chat_prompts)\n",
        "for response in responses:\n",
        "  print(response.content)\n",
        "  print('-----')"
      ],
      "metadata": {
        "colab": {
          "base_uri": "https://localhost:8080/"
        },
        "id": "73R370WTuAIR",
        "outputId": "add8b521-d274-494b-a28d-54dda747d8a3"
      },
      "execution_count": null,
      "outputs": [
        {
          "output_type": "stream",
          "name": "stdout",
          "text": [
            "AI: My name is AIBot.\n",
            "-----\n",
            "AI: Commercial real estate refers to properties that are used for business purposes, such as office buildings, retail spaces, industrial facilities, and hotels. These properties are typically leased or rented out to businesses for their operations.\n",
            "-----\n"
          ]
        }
      ]
    },
    {
      "cell_type": "markdown",
      "source": [
        "#### PromptTemplate and ChatPromptTemplate supports LCEL\n",
        "\n",
        "`PromptTemplate` and `ChatPromptTemplate` implement the [Runnable interface](https://python.langchain.com/v0.1/docs/expression_language/interface/), the basic building block of the LangChain Expression Language (LCEL). This means they support `invoke`, `ainvoke`, `stream`, `astream`, `batch`, `abatch`, `astream_log` calls.\n",
        "\n",
        "`PromptTemplate` accepts a dictionary (of the prompt variables) and returns a `StringPromptValue`. A `ChatPromptTemplate` accepts a dictionary and returns a `ChatPromptValue`."
      ],
      "metadata": {
        "id": "7PnxbHHoiDHZ"
      }
    },
    {
      "cell_type": "code",
      "source": [
        "text_prompts = [\"what is your name?\", \"explain commercial real estate to me\"]\n",
        "chat_prompts = [chat_template.invoke({'user_prompt' : prompt}) for prompt in text_prompts]\n",
        "chat_prompts"
      ],
      "metadata": {
        "colab": {
          "base_uri": "https://localhost:8080/"
        },
        "id": "Qxsx7a0xe2u6",
        "outputId": "6455a53c-97aa-47ff-a3bb-cc8f0cc76721"
      },
      "execution_count": 15,
      "outputs": [
        {
          "output_type": "execute_result",
          "data": {
            "text/plain": [
              "[ChatPromptValue(messages=[SystemMessage(content='Act as an expert in real estate and provide brief answers'), HumanMessage(content='what is your name?'), AIMessage(content='my name is AIBot'), HumanMessage(content='what is your name?')]),\n",
              " ChatPromptValue(messages=[SystemMessage(content='Act as an expert in real estate and provide brief answers'), HumanMessage(content='what is your name?'), AIMessage(content='my name is AIBot'), HumanMessage(content='explain commercial real estate to me')])]"
            ]
          },
          "metadata": {},
          "execution_count": 15
        }
      ]
    },
    {
      "cell_type": "code",
      "source": [
        "chat_prompts[1]"
      ],
      "metadata": {
        "colab": {
          "base_uri": "https://localhost:8080/"
        },
        "id": "tCqy3Exuiuu0",
        "outputId": "49453977-041b-4c53-cfa3-d1b5c928d4ae"
      },
      "execution_count": 16,
      "outputs": [
        {
          "output_type": "execute_result",
          "data": {
            "text/plain": [
              "ChatPromptValue(messages=[SystemMessage(content='Act as an expert in real estate and provide brief answers'), HumanMessage(content='what is your name?'), AIMessage(content='my name is AIBot'), HumanMessage(content='explain commercial real estate to me')])"
            ]
          },
          "metadata": {},
          "execution_count": 16
        }
      ]
    },
    {
      "cell_type": "code",
      "source": [
        "print(chat_prompts[1].to_string())"
      ],
      "metadata": {
        "colab": {
          "base_uri": "https://localhost:8080/"
        },
        "id": "wND5o7kCiyKG",
        "outputId": "1efe3914-449b-4bd2-8648-af6111b13bb7"
      },
      "execution_count": 17,
      "outputs": [
        {
          "output_type": "stream",
          "name": "stdout",
          "text": [
            "System: Act as an expert in real estate and provide brief answers\n",
            "Human: what is your name?\n",
            "AI: my name is AIBot\n",
            "Human: explain commercial real estate to me\n"
          ]
        }
      ]
    },
    {
      "cell_type": "code",
      "source": [
        "chat_prompts[1].to_messages()"
      ],
      "metadata": {
        "colab": {
          "base_uri": "https://localhost:8080/"
        },
        "id": "egsNrmqui6ls",
        "outputId": "5cb10029-ce7d-4de5-9840-94b09453368f"
      },
      "execution_count": 18,
      "outputs": [
        {
          "output_type": "execute_result",
          "data": {
            "text/plain": [
              "[SystemMessage(content='Act as an expert in real estate and provide brief answers'),\n",
              " HumanMessage(content='what is your name?'),\n",
              " AIMessage(content='my name is AIBot'),\n",
              " HumanMessage(content='explain commercial real estate to me')]"
            ]
          },
          "metadata": {},
          "execution_count": 18
        }
      ]
    },
    {
      "cell_type": "code",
      "source": [
        "responses = chatgpt.map().invoke(chat_prompts)\n",
        "for response in responses:\n",
        "  print(response.content)\n",
        "  print('-----')"
      ],
      "metadata": {
        "colab": {
          "base_uri": "https://localhost:8080/"
        },
        "id": "r_ywweDLflCq",
        "outputId": "e97c0372-2dd1-498a-8852-9cee2b6a5470"
      },
      "execution_count": null,
      "outputs": [
        {
          "output_type": "stream",
          "name": "stdout",
          "text": [
            "My name is AIBot\n",
            "-----\n",
            "Commercial real estate refers to properties that are used for business purposes, such as office buildings, retail spaces, industrial facilities, and multifamily apartment buildings. These properties are typically leased or rented out to businesses or individuals for commercial use.\n",
            "\n",
            "Commercial real estate can be a lucrative investment opportunity for individuals and companies looking to generate rental income or capital appreciation. The value of commercial properties is often determined by factors such as location, size, condition, and potential for income generation.\n",
            "\n",
            "There are different types of commercial real estate properties, each with its own unique characteristics and investment potential:\n",
            "\n",
            "1. Office Buildings: These properties are used for professional and administrative work, such as corporate offices, medical offices, and coworking spaces. They are typically located in central business districts or commercial areas.\n",
            "\n",
            "2. Retail Spaces: These properties are used for selling goods and services to consumers, such as shopping malls, strip malls, and standalone retail stores. The value of retail spaces is often influenced by factors such as foot traffic, visibility, and proximity to other businesses.\n",
            "\n",
            "3. Industrial Facilities: These properties are used for manufacturing, warehousing, distribution, and logistics operations. Industrial properties can include warehouses, manufacturing plants, distribution centers, and flex spaces. The value of industrial properties is often tied to factors such as access to transportation networks, proximity to suppliers and customers, and the availability of labor.\n",
            "\n",
            "4. Multifamily Apartment Buildings: These properties consist of multiple residential units that are rented out to tenants. Multifamily properties can range from small apartment buildings to large complexes. The value of multifamily properties is influenced by factors such as location, rental demand, occupancy rates, and rental income potential.\n",
            "\n",
            "Investing in commercial real estate requires careful analysis of market trends, property performance, and financial metrics. It is important to conduct thorough due diligence, assess risks, and develop a sound investment strategy to maximize returns and mitigate potential challenges.\n",
            "\n",
            "Overall, commercial real estate offers investors the opportunity to diversify their portfolios, generate passive income, and build long-term wealth through property ownership and management.\n",
            "-----\n"
          ]
        }
      ]
    },
    {
      "cell_type": "markdown",
      "source": [
        "### FewShotChatMessagePromptTemplate\n",
        "\n",
        "This is a Chat prompt template that supports few-shot examples.\n",
        "\n",
        "The high level structure of produced by this prompt template is a list of messages consisting of prefix message(s), example message(s), and suffix message(s).\n",
        "\n",
        "This structure enables creating a conversation with intermediate examples like:\n",
        "\n",
        "```\n",
        "System: You are a helpful AI Assistant\n",
        "Human: What is 2+2?\n",
        "AI: 4\n",
        "Human: What is 2+3?\n",
        "AI: 5\n",
        "Human: What is 4+4?\n",
        "```"
      ],
      "metadata": {
        "id": "QFDEQ-9B07hl"
      }
    },
    {
      "cell_type": "markdown",
      "source": [
        "Define the few-shot examples you'd like to include."
      ],
      "metadata": {
        "id": "1O_nxtWMkbw4"
      }
    },
    {
      "cell_type": "code",
      "source": [
        "from langchain_core.prompts import ChatPromptTemplate, FewShotChatMessagePromptTemplate\n",
        "\n",
        "example_data = [\n",
        "    (\"\"\"Wimbledon 2023 Women’s Final.\n",
        "    Marketa Vondrousova beats Ons Jabeur to win her maiden Grand Slam title\"\"\",\n",
        "     'Sports'),\n",
        "    (\"\"\"It's time to call it a day as India had another medal-laden day at the Asian Athletics Championships\n",
        "    in Bangkok. Murali Sreeshankar's Olympic qualifying jump grabbed the limelight while 400m mixed relay\n",
        "    team added's India's sixth gold medal! There will be plenty of medals up for grab on the final day of\n",
        "    the tournament as well with Jyothi Yarraji, women's and men's 400m relay teams in action\"\"\",\n",
        "     'Sports'),\n",
        "    (\"\"\"Kicking things off with the Galaxy Tab S9 FE Plus. It's going to be powered by the Exynos 1380\n",
        "    with 8GB of RAM, and pack a 12.4-inch display. The slate will measure 285.4 x 185.4 x 6.54 mm and\n",
        "    feature dual speakers, a side-mounted fingerprint sensor. It will come in Grey, Light Green,\n",
        "    Light Pink, and Silver color options.\"\"\",\n",
        "     'Technology'),\n",
        "    (\"\"\"The share of the cigarette business to ITC’s business in revenue terms has dropped from 47\n",
        "    per cent in FY13 to 37 per cent in FY23 on a larger revenue base.\n",
        "    According to the company’s most recent annual report, the leadership position has been sustained\n",
        "    \"through its unwavering focus on nurturing a future-ready portfolio of world-class products anchored on\n",
        "    its integrated seed to smoke value chain, superior consumer insights, robust innovation pipeline and\n",
        "    world-class product development capabilities.\" \"\"\",\n",
        "     'Business')\n",
        "]\n",
        "\n",
        "example_data"
      ],
      "metadata": {
        "colab": {
          "base_uri": "https://localhost:8080/"
        },
        "id": "-urY3gcrwTAv",
        "outputId": "e1bf4366-b9fc-4278-8000-335242f76180"
      },
      "execution_count": 19,
      "outputs": [
        {
          "output_type": "execute_result",
          "data": {
            "text/plain": [
              "[('Wimbledon 2023 Women’s Final.\\n    Marketa Vondrousova beats Ons Jabeur to win her maiden Grand Slam title',\n",
              "  'Sports'),\n",
              " (\"It's time to call it a day as India had another medal-laden day at the Asian Athletics Championships\\n    in Bangkok. Murali Sreeshankar's Olympic qualifying jump grabbed the limelight while 400m mixed relay\\n    team added's India's sixth gold medal! There will be plenty of medals up for grab on the final day of\\n    the tournament as well with Jyothi Yarraji, women's and men's 400m relay teams in action\",\n",
              "  'Sports'),\n",
              " (\"Kicking things off with the Galaxy Tab S9 FE Plus. It's going to be powered by the Exynos 1380\\n    with 8GB of RAM, and pack a 12.4-inch display. The slate will measure 285.4 x 185.4 x 6.54 mm and\\n    feature dual speakers, a side-mounted fingerprint sensor. It will come in Grey, Light Green,\\n    Light Pink, and Silver color options.\",\n",
              "  'Technology'),\n",
              " ('The share of the cigarette business to ITC’s business in revenue terms has dropped from 47\\n    per cent in FY13 to 37 per cent in FY23 on a larger revenue base.\\n    According to the company’s most recent annual report, the leadership position has been sustained\\n    \"through its unwavering focus on nurturing a future-ready portfolio of world-class products anchored on\\n    its integrated seed to smoke value chain, superior consumer insights, robust innovation pipeline and\\n    world-class product development capabilities.\" ',\n",
              "  'Business')]"
            ]
          },
          "metadata": {},
          "execution_count": 19
        }
      ]
    },
    {
      "cell_type": "code",
      "source": [
        "example_data_formatted = [{\"input\": input, \"output\": output}\n",
        "                            for input, output in example_data]\n",
        "example_data_formatted"
      ],
      "metadata": {
        "colab": {
          "base_uri": "https://localhost:8080/"
        },
        "id": "u-jpdb5GyYzo",
        "outputId": "27100bc3-e42d-48cf-a23c-c51c1678e586"
      },
      "execution_count": 20,
      "outputs": [
        {
          "output_type": "execute_result",
          "data": {
            "text/plain": [
              "[{'input': 'Wimbledon 2023 Women’s Final.\\n    Marketa Vondrousova beats Ons Jabeur to win her maiden Grand Slam title',\n",
              "  'output': 'Sports'},\n",
              " {'input': \"It's time to call it a day as India had another medal-laden day at the Asian Athletics Championships\\n    in Bangkok. Murali Sreeshankar's Olympic qualifying jump grabbed the limelight while 400m mixed relay\\n    team added's India's sixth gold medal! There will be plenty of medals up for grab on the final day of\\n    the tournament as well with Jyothi Yarraji, women's and men's 400m relay teams in action\",\n",
              "  'output': 'Sports'},\n",
              " {'input': \"Kicking things off with the Galaxy Tab S9 FE Plus. It's going to be powered by the Exynos 1380\\n    with 8GB of RAM, and pack a 12.4-inch display. The slate will measure 285.4 x 185.4 x 6.54 mm and\\n    feature dual speakers, a side-mounted fingerprint sensor. It will come in Grey, Light Green,\\n    Light Pink, and Silver color options.\",\n",
              "  'output': 'Technology'},\n",
              " {'input': 'The share of the cigarette business to ITC’s business in revenue terms has dropped from 47\\n    per cent in FY13 to 37 per cent in FY23 on a larger revenue base.\\n    According to the company’s most recent annual report, the leadership position has been sustained\\n    \"through its unwavering focus on nurturing a future-ready portfolio of world-class products anchored on\\n    its integrated seed to smoke value chain, superior consumer insights, robust innovation pipeline and\\n    world-class product development capabilities.\" ',\n",
              "  'output': 'Business'}]"
            ]
          },
          "metadata": {},
          "execution_count": 20
        }
      ]
    },
    {
      "cell_type": "markdown",
      "source": [
        "Assemble them into the few-shot prompt template."
      ],
      "metadata": {
        "id": "KR8lVYEvkfO6"
      }
    },
    {
      "cell_type": "code",
      "source": [
        "data_prompt = ChatPromptTemplate.from_messages(\n",
        "    [\n",
        "        (\"human\", \"{input}\"),\n",
        "        (\"ai\", \"{output}\"),\n",
        "    ]\n",
        ")\n",
        "\n",
        "few_shot_prompt = FewShotChatMessagePromptTemplate(\n",
        "    example_prompt=data_prompt,\n",
        "    examples=example_data_formatted,\n",
        ")\n",
        "\n",
        "few_shot_prompt"
      ],
      "metadata": {
        "colab": {
          "base_uri": "https://localhost:8080/"
        },
        "id": "Yr9_BgVauk4h",
        "outputId": "3da90fff-24b4-4337-f5b8-17c69b06b9aa"
      },
      "execution_count": 21,
      "outputs": [
        {
          "output_type": "execute_result",
          "data": {
            "text/plain": [
              "FewShotChatMessagePromptTemplate(examples=[{'input': 'Wimbledon 2023 Women’s Final.\\n    Marketa Vondrousova beats Ons Jabeur to win her maiden Grand Slam title', 'output': 'Sports'}, {'input': \"It's time to call it a day as India had another medal-laden day at the Asian Athletics Championships\\n    in Bangkok. Murali Sreeshankar's Olympic qualifying jump grabbed the limelight while 400m mixed relay\\n    team added's India's sixth gold medal! There will be plenty of medals up for grab on the final day of\\n    the tournament as well with Jyothi Yarraji, women's and men's 400m relay teams in action\", 'output': 'Sports'}, {'input': \"Kicking things off with the Galaxy Tab S9 FE Plus. It's going to be powered by the Exynos 1380\\n    with 8GB of RAM, and pack a 12.4-inch display. The slate will measure 285.4 x 185.4 x 6.54 mm and\\n    feature dual speakers, a side-mounted fingerprint sensor. It will come in Grey, Light Green,\\n    Light Pink, and Silver color options.\", 'output': 'Technology'}, {'input': 'The share of the cigarette business to ITC’s business in revenue terms has dropped from 47\\n    per cent in FY13 to 37 per cent in FY23 on a larger revenue base.\\n    According to the company’s most recent annual report, the leadership position has been sustained\\n    \"through its unwavering focus on nurturing a future-ready portfolio of world-class products anchored on\\n    its integrated seed to smoke value chain, superior consumer insights, robust innovation pipeline and\\n    world-class product development capabilities.\" ', 'output': 'Business'}], example_prompt=ChatPromptTemplate(input_variables=['input', 'output'], messages=[HumanMessagePromptTemplate(prompt=PromptTemplate(input_variables=['input'], template='{input}')), AIMessagePromptTemplate(prompt=PromptTemplate(input_variables=['output'], template='{output}'))]))"
            ]
          },
          "metadata": {},
          "execution_count": 21
        }
      ]
    },
    {
      "cell_type": "code",
      "source": [
        "print(few_shot_prompt.format())"
      ],
      "metadata": {
        "colab": {
          "base_uri": "https://localhost:8080/"
        },
        "id": "O0fQUjDLjkJg",
        "outputId": "e971c846-2cc8-4f4d-ace5-6d783201a6c7"
      },
      "execution_count": 22,
      "outputs": [
        {
          "output_type": "stream",
          "name": "stdout",
          "text": [
            "Human: Wimbledon 2023 Women’s Final.\n",
            "    Marketa Vondrousova beats Ons Jabeur to win her maiden Grand Slam title\n",
            "AI: Sports\n",
            "Human: It's time to call it a day as India had another medal-laden day at the Asian Athletics Championships\n",
            "    in Bangkok. Murali Sreeshankar's Olympic qualifying jump grabbed the limelight while 400m mixed relay\n",
            "    team added's India's sixth gold medal! There will be plenty of medals up for grab on the final day of\n",
            "    the tournament as well with Jyothi Yarraji, women's and men's 400m relay teams in action\n",
            "AI: Sports\n",
            "Human: Kicking things off with the Galaxy Tab S9 FE Plus. It's going to be powered by the Exynos 1380\n",
            "    with 8GB of RAM, and pack a 12.4-inch display. The slate will measure 285.4 x 185.4 x 6.54 mm and\n",
            "    feature dual speakers, a side-mounted fingerprint sensor. It will come in Grey, Light Green,\n",
            "    Light Pink, and Silver color options.\n",
            "AI: Technology\n",
            "Human: The share of the cigarette business to ITC’s business in revenue terms has dropped from 47\n",
            "    per cent in FY13 to 37 per cent in FY23 on a larger revenue base.\n",
            "    According to the company’s most recent annual report, the leadership position has been sustained\n",
            "    \"through its unwavering focus on nurturing a future-ready portfolio of world-class products anchored on\n",
            "    its integrated seed to smoke value chain, superior consumer insights, robust innovation pipeline and\n",
            "    world-class product development capabilities.\" \n",
            "AI: Business\n"
          ]
        }
      ]
    },
    {
      "cell_type": "markdown",
      "source": [
        "Finally, assemble your final prompt and use it with a LLM."
      ],
      "metadata": {
        "id": "m0cPbQdgkmVi"
      }
    },
    {
      "cell_type": "code",
      "source": [
        "final_prompt_template = ChatPromptTemplate.from_messages(\n",
        "    [\n",
        "        (\"system\", \"Classify every new news article using a similar format as shown below\"),\n",
        "        few_shot_prompt,\n",
        "        (\"human\", \"{input}\"),\n",
        "    ]\n",
        ")\n",
        "final_prompt_template"
      ],
      "metadata": {
        "colab": {
          "base_uri": "https://localhost:8080/"
        },
        "id": "WyW9Xg7gy3nn",
        "outputId": "870e33d3-2d63-4a21-c841-83d5d668a904"
      },
      "execution_count": 23,
      "outputs": [
        {
          "output_type": "execute_result",
          "data": {
            "text/plain": [
              "ChatPromptTemplate(input_variables=['input'], messages=[SystemMessagePromptTemplate(prompt=PromptTemplate(input_variables=[], template='Classify every new news article using a similar format as shown below')), FewShotChatMessagePromptTemplate(examples=[{'input': 'Wimbledon 2023 Women’s Final.\\n    Marketa Vondrousova beats Ons Jabeur to win her maiden Grand Slam title', 'output': 'Sports'}, {'input': \"It's time to call it a day as India had another medal-laden day at the Asian Athletics Championships\\n    in Bangkok. Murali Sreeshankar's Olympic qualifying jump grabbed the limelight while 400m mixed relay\\n    team added's India's sixth gold medal! There will be plenty of medals up for grab on the final day of\\n    the tournament as well with Jyothi Yarraji, women's and men's 400m relay teams in action\", 'output': 'Sports'}, {'input': \"Kicking things off with the Galaxy Tab S9 FE Plus. It's going to be powered by the Exynos 1380\\n    with 8GB of RAM, and pack a 12.4-inch display. The slate will measure 285.4 x 185.4 x 6.54 mm and\\n    feature dual speakers, a side-mounted fingerprint sensor. It will come in Grey, Light Green,\\n    Light Pink, and Silver color options.\", 'output': 'Technology'}, {'input': 'The share of the cigarette business to ITC’s business in revenue terms has dropped from 47\\n    per cent in FY13 to 37 per cent in FY23 on a larger revenue base.\\n    According to the company’s most recent annual report, the leadership position has been sustained\\n    \"through its unwavering focus on nurturing a future-ready portfolio of world-class products anchored on\\n    its integrated seed to smoke value chain, superior consumer insights, robust innovation pipeline and\\n    world-class product development capabilities.\" ', 'output': 'Business'}], example_prompt=ChatPromptTemplate(input_variables=['input', 'output'], messages=[HumanMessagePromptTemplate(prompt=PromptTemplate(input_variables=['input'], template='{input}')), AIMessagePromptTemplate(prompt=PromptTemplate(input_variables=['output'], template='{output}'))])), HumanMessagePromptTemplate(prompt=PromptTemplate(input_variables=['input'], template='{input}'))])"
            ]
          },
          "metadata": {},
          "execution_count": 23
        }
      ]
    },
    {
      "cell_type": "code",
      "source": [
        "docs = [\"\"\"Arsenal finally completed the signing of Rice as they announced the player's arrival on Saturday.\n",
        "Right after completing his move, Rice revealed that he is a great admirer of Arteta\n",
        "and that the Spaniard's presence in the Arsenal dressing room is one of the main reasons\n",
        "why he decided to join the North London club.\"\"\",\n",
        "        \"\"\"A heat wave sweeping across Europe is prompting health warnings as millions\n",
        "        of people endure sweltering temperatures. Italy has issued red alerts in 16 cities with\n",
        "        the country's weather centre warning of record heat especially in southern regions.\n",
        "        Parts of Greece are forecast to hit highs of 44 degrees celsius, while France,\n",
        "        Germany, Spain and Poland are also enduring extreme temperatures.\n",
        "        Scientists say greenhouse gases and the El Niño weather pattern are raising global temperatures.\n",
        "        \"\"\"]\n",
        "\n",
        "final_prompts = [final_prompt_template.format(input=doc) for doc in docs]\n",
        "responses = chatgpt.map().invoke(final_prompts)"
      ],
      "metadata": {
        "id": "7tXUcmAazGOD"
      },
      "execution_count": null,
      "outputs": []
    },
    {
      "cell_type": "code",
      "source": [
        "responses[0]"
      ],
      "metadata": {
        "colab": {
          "base_uri": "https://localhost:8080/"
        },
        "id": "lTxJay_6lL-e",
        "outputId": "e7ffc074-03a3-4d0d-ff9e-dca29a8aea89"
      },
      "execution_count": null,
      "outputs": [
        {
          "output_type": "execute_result",
          "data": {
            "text/plain": [
              "AIMessage(content='AI: Sports', response_metadata={'token_usage': {'completion_tokens': 3, 'prompt_tokens': 445, 'total_tokens': 448}, 'model_name': 'gpt-3.5-turbo', 'system_fingerprint': None, 'finish_reason': 'stop', 'logprobs': None}, id='run-64dc32ca-2aba-47c7-95b8-3caaf2802e7d-0')"
            ]
          },
          "metadata": {},
          "execution_count": 35
        }
      ]
    },
    {
      "cell_type": "code",
      "source": [
        "for response in responses:\n",
        "  print(response.content)\n",
        "  print('-----')"
      ],
      "metadata": {
        "colab": {
          "base_uri": "https://localhost:8080/"
        },
        "id": "ckhbEOgAzVJo",
        "outputId": "8e38ad6d-45c3-430f-c526-0267523be2e8"
      },
      "execution_count": null,
      "outputs": [
        {
          "output_type": "stream",
          "name": "stdout",
          "text": [
            "AI: Sports\n",
            "-----\n",
            "AI: Environment/Weather\n",
            "-----\n"
          ]
        }
      ]
    },
    {
      "cell_type": "markdown",
      "source": [
        "### Partial prompt templates\n",
        "\n",
        "Like other methods, it can make sense to \"partial\" a prompt template - e.g. pass in a subset of the required data values, as to create a new prompt template which expects only the remaining subset of data values.\n",
        "\n",
        "Imagine you get some inputs initially and then some other inputs for the prompts later, you can use the `partial`function to add some of the input data first and the rest of the input data later"
      ],
      "metadata": {
        "id": "cizZ-bdhm3uW"
      }
    },
    {
      "cell_type": "code",
      "source": [
        "from datetime import datetime\n",
        "\n",
        "def _get_datetime():\n",
        "    now = datetime.now()\n",
        "    return now.strftime(\"%m/%d/%Y\")"
      ],
      "metadata": {
        "id": "PSp5Tsmhleh9"
      },
      "execution_count": 24,
      "outputs": []
    },
    {
      "cell_type": "code",
      "source": [
        "prompt_txt = \"\"\"Tell me a joke about {topic} on the day {date}\"\"\"\n",
        "prompt = ChatPromptTemplate.from_template(prompt_txt)"
      ],
      "metadata": {
        "id": "NjrJ8Vhmli5i"
      },
      "execution_count": 25,
      "outputs": []
    },
    {
      "cell_type": "code",
      "source": [
        "prompt = prompt.partial(date=_get_datetime)\n",
        "prompt"
      ],
      "metadata": {
        "colab": {
          "base_uri": "https://localhost:8080/"
        },
        "id": "eUZxZcF_mpmM",
        "outputId": "2f84ceff-3676-4cdb-fc65-3a38f2ea9e50"
      },
      "execution_count": 26,
      "outputs": [
        {
          "output_type": "execute_result",
          "data": {
            "text/plain": [
              "ChatPromptTemplate(input_variables=['topic'], partial_variables={'date': <function _get_datetime at 0x7cc9953ab4c0>}, messages=[HumanMessagePromptTemplate(prompt=PromptTemplate(input_variables=['date', 'topic'], template='Tell me a joke about {topic} on the day {date}'))])"
            ]
          },
          "metadata": {},
          "execution_count": 26
        }
      ]
    },
    {
      "cell_type": "code",
      "source": [
        "topics = ['Engineers', 'Statisticians']\n",
        "final_prompts = [prompt.format(topic=topic) for topic in topics]\n",
        "final_prompts"
      ],
      "metadata": {
        "colab": {
          "base_uri": "https://localhost:8080/"
        },
        "id": "6mcxRPErl0ef",
        "outputId": "0b09f5d2-d98e-441e-ad10-2b02fb14d88e"
      },
      "execution_count": null,
      "outputs": [
        {
          "output_type": "execute_result",
          "data": {
            "text/plain": [
              "['Human: Tell me a joke about Engineers on the day 05/15/2024',\n",
              " 'Human: Tell me a joke about Statisticians on the day 05/15/2024']"
            ]
          },
          "metadata": {},
          "execution_count": 41
        }
      ]
    },
    {
      "cell_type": "code",
      "source": [
        "responses = chatgpt.map().invoke(final_prompts)\n",
        "for response in responses:\n",
        "  print(response.content)\n",
        "  print('-----')"
      ],
      "metadata": {
        "colab": {
          "base_uri": "https://localhost:8080/"
        },
        "id": "xK9gK0K8muK7",
        "outputId": "5504f0bc-6020-43d1-e9a6-6dca95e6d314"
      },
      "execution_count": null,
      "outputs": [
        {
          "output_type": "stream",
          "name": "stdout",
          "text": [
            "Why did the engineer break up with their calculator on 05/15/2024? Because it couldn't handle their complex relationship problems!\n",
            "-----\n",
            "Why did the statistician bring a ladder to the bar on 05/15/2024? \n",
            "\n",
            "Because he heard the drinks were on a higher level of significance!\n",
            "-----\n"
          ]
        }
      ]
    }
  ]
}