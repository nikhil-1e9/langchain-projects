{
  "nbformat": 4,
  "nbformat_minor": 0,
  "metadata": {
    "colab": {
      "provenance": []
    },
    "kernelspec": {
      "name": "python3",
      "display_name": "Python 3"
    },
    "language_info": {
      "name": "python"
    }
  },
  "cells": [
    {
      "cell_type": "markdown",
      "source": [
        "# Exploring Vector Database Operations in LangChain"
      ],
      "metadata": {
        "id": "FK8y96JHga3F"
      }
    },
    {
      "cell_type": "markdown",
      "source": [
        "## Install OpenAI, and LangChain dependencies"
      ],
      "metadata": {
        "id": "L1KvMtf54l0d"
      }
    },
    {
      "cell_type": "code",
      "source": [
        "!pip install langchain==0.2.0\n",
        "!pip install langchain-openai==0.1.7\n",
        "!pip install langchain-community==0.2.0"
      ],
      "metadata": {
        "id": "2evPp14fy258"
      },
      "execution_count": null,
      "outputs": []
    },
    {
      "cell_type": "markdown",
      "source": [
        "## Install Chroma Vector DB and LangChain wrapper"
      ],
      "metadata": {
        "id": "TlfidBdQZRGj"
      }
    },
    {
      "cell_type": "code",
      "source": [
        "!pip install langchain-chroma"
      ],
      "metadata": {
        "id": "uZKQDgQURhmF"
      },
      "execution_count": null,
      "outputs": []
    },
    {
      "cell_type": "markdown",
      "source": [
        "## Enter Open AI API Key"
      ],
      "metadata": {
        "id": "H9c37cLnSrbg"
      }
    },
    {
      "cell_type": "code",
      "source": [
        "from getpass import getpass\n",
        "\n",
        "OPENAI_KEY = getpass('Enter Open AI API Key: ')"
      ],
      "metadata": {
        "id": "cv3JzCEx_PAd"
      },
      "execution_count": null,
      "outputs": []
    },
    {
      "cell_type": "markdown",
      "source": [
        "## Setup Environment Variables"
      ],
      "metadata": {
        "id": "1T0s0um5Svfa"
      }
    },
    {
      "cell_type": "code",
      "source": [
        "import os\n",
        "\n",
        "os.environ['OPENAI_API_KEY'] = OPENAI_KEY"
      ],
      "metadata": {
        "id": "x1YSuHNF_lbh"
      },
      "execution_count": null,
      "outputs": []
    },
    {
      "cell_type": "code",
      "source": [
        "documents = ['Quantum mechanics describes the behavior of very small particles.',\n",
        " 'Photosynthesis is the process by which green plants make food using sunlight.',\n",
        " \"Shakespeare's plays are a testament to English literature.\",\n",
        " 'Artificial Intelligence aims to create machines that can think and learn.',\n",
        " 'The pyramids of Egypt are historical monuments that have stood for thousands of years.']"
      ],
      "metadata": {
        "id": "chE-52dQSX-D"
      },
      "execution_count": null,
      "outputs": []
    },
    {
      "cell_type": "markdown",
      "source": [
        "### Open AI Embedding Models\n",
        "\n",
        "LangChain enables us to access Open AI embedding models which include the newest models: a smaller and highly efficient `text-embedding-3-small` model, and a larger and more powerful `text-embedding-3-large` model."
      ],
      "metadata": {
        "id": "M8nHAP7XOGOj"
      }
    },
    {
      "cell_type": "code",
      "source": [
        "from langchain_openai import OpenAIEmbeddings\n",
        "\n",
        "# details here: https://openai.com/blog/new-embedding-models-and-api-updates\n",
        "openai_embed_model = OpenAIEmbeddings(model='text-embedding-3-small')"
      ],
      "metadata": {
        "id": "jzrIVI2NAHC1"
      },
      "execution_count": null,
      "outputs": []
    },
    {
      "cell_type": "markdown",
      "source": [
        "## Vector Databases\n",
        "\n",
        "One of the most common ways to store and search over unstructured data is to embed it and store the resulting embedding vectors, and then at query time to embed the unstructured query and retrieve the embedding vectors that are 'most similar' to the embedded query. A vector database takes care of storing embedded data and performing vector search for you.\n",
        "\n",
        "### Chroma Vector DB\n",
        "\n",
        "[Chroma](https://docs.trychroma.com/getting-started) is a AI-native open-source vector database focused on developer productivity and happiness. Chroma is licensed under Apache 2.0."
      ],
      "metadata": {
        "id": "IO3_BzTbTBcJ"
      }
    },
    {
      "cell_type": "code",
      "source": [
        "# delete vector db if exists\n",
        "!rm -rf ./chroma_db"
      ],
      "metadata": {
        "id": "YcKeBBJpVWLa"
      },
      "execution_count": null,
      "outputs": []
    },
    {
      "cell_type": "markdown",
      "source": [
        "### Create a Vector DB and persist on disk\n",
        "\n",
        "Here we initialize a connection to a Chroma vector DB client, and also we want to save to disk, so we simply initialize the Chroma client and pass the directory where we want the data to be saved to."
      ],
      "metadata": {
        "id": "-PnV9lAXZw9a"
      }
    },
    {
      "cell_type": "code",
      "source": [
        "from langchain_chroma import Chroma\n",
        "\n",
        "# create empty vector DB\n",
        "chroma_db = Chroma(collection_name='search_docs',\n",
        "                   embedding_function=openai_embed_model,\n",
        "                   persist_directory=\"./chroma_db\")"
      ],
      "metadata": {
        "id": "kRYfcrsHUxyZ"
      },
      "execution_count": null,
      "outputs": []
    },
    {
      "cell_type": "markdown",
      "source": [
        "We take some sample documents"
      ],
      "metadata": {
        "id": "QZNgo3-FaQDy"
      }
    },
    {
      "cell_type": "code",
      "source": [
        "documents"
      ],
      "metadata": {
        "id": "DM43ZGeYSYEo"
      },
      "execution_count": null,
      "outputs": []
    },
    {
      "cell_type": "markdown",
      "source": [
        "We create document IDs to uniquely identify each document"
      ],
      "metadata": {
        "id": "xabwMGilaRvB"
      }
    },
    {
      "cell_type": "code",
      "source": [
        "ids = ['doc_'+str(i) for i in range(len(documents))]\n",
        "ids"
      ],
      "metadata": {
        "id": "xvakxS5_SYHf"
      },
      "execution_count": null,
      "outputs": []
    },
    {
      "cell_type": "markdown",
      "source": [
        "Checking the Vector DB to see if its empty"
      ],
      "metadata": {
        "id": "pi8cceQ8aV5d"
      }
    },
    {
      "cell_type": "code",
      "source": [
        "chroma_db.get()"
      ],
      "metadata": {
        "id": "CaJCDXf6UB6Z"
      },
      "execution_count": null,
      "outputs": []
    },
    {
      "cell_type": "markdown",
      "source": [
        "### Adding documents to Vector DB\n",
        "\n",
        "Here we take our texts, pass them through the Open AI embedder to get embeddings and add it to the Chroma Vector DB.\n",
        "\n",
        "If you have documents in the LangChain `Document` format then you can use `add_documents` instead"
      ],
      "metadata": {
        "id": "cq8i9EFHaZUx"
      }
    },
    {
      "cell_type": "code",
      "source": [
        "chroma_db.add_texts(texts=documents, ids=ids)"
      ],
      "metadata": {
        "id": "7bpaVxAzUF3K"
      },
      "execution_count": null,
      "outputs": []
    },
    {
      "cell_type": "markdown",
      "source": [
        "We check out Vector DB now to see these documents have been indexed successfully"
      ],
      "metadata": {
        "id": "gdHhK5huavC_"
      }
    },
    {
      "cell_type": "code",
      "source": [
        "chroma_db.get()"
      ],
      "metadata": {
        "id": "0spBuNy5USvl"
      },
      "execution_count": null,
      "outputs": []
    },
    {
      "cell_type": "markdown",
      "source": [
        "Run some search queries in our Vector DB"
      ],
      "metadata": {
        "id": "I0yT6J0fa0Nz"
      }
    },
    {
      "cell_type": "code",
      "source": [
        "query = 'Tell me about AI'\n",
        "docs = chroma_db.similarity_search_with_score(query=query, k=1)\n",
        "docs"
      ],
      "metadata": {
        "id": "abDq5EuSUuaD"
      },
      "execution_count": null,
      "outputs": []
    },
    {
      "cell_type": "code",
      "source": [
        "query = 'Do you know about the pyramids?'\n",
        "docs = chroma_db.similarity_search_with_score(query=query, k=1)\n",
        "docs"
      ],
      "metadata": {
        "id": "DQ8gfFyCVCD_"
      },
      "execution_count": null,
      "outputs": []
    },
    {
      "cell_type": "code",
      "source": [
        "query = 'What is Biology?'\n",
        "docs = chroma_db.similarity_search_with_score(query=query, k=1)\n",
        "docs"
      ],
      "metadata": {
        "id": "DVb69ih3VNgH"
      },
      "execution_count": null,
      "outputs": []
    },
    {
      "cell_type": "markdown",
      "source": [
        "### Adding more documents to our Vector DB\n",
        "\n",
        "You can add new documents anytime to the vector DB as shown below"
      ],
      "metadata": {
        "id": "6_jLaVlVa4r2"
      }
    },
    {
      "cell_type": "code",
      "source": [
        "new_documents = [ 'Biology is the study of living organisms and their interactions with the environment.',\n",
        " 'Music therapy can aid in the mental well-being of individuals.',\n",
        " 'The Milky Way is just one of billions of galaxies in the universe.',\n",
        " 'Economic theories help understand the distribution of resources in society.',\n",
        " 'Yoga is an ancient practice that involves physical postures and meditation.']"
      ],
      "metadata": {
        "id": "4oV3J9WfWBPG"
      },
      "execution_count": null,
      "outputs": []
    },
    {
      "cell_type": "code",
      "source": [
        "new_ids = ['doc_'+str(i+len(ids)) for i in range(len(new_documents))]\n",
        "new_ids"
      ],
      "metadata": {
        "id": "STDdgZFzUcAE"
      },
      "execution_count": null,
      "outputs": []
    },
    {
      "cell_type": "code",
      "source": [
        "chroma_db.add_texts(texts=new_documents, ids=new_ids)"
      ],
      "metadata": {
        "id": "TflFjSaMUYt1"
      },
      "execution_count": null,
      "outputs": []
    },
    {
      "cell_type": "code",
      "source": [
        "chroma_db.get()"
      ],
      "metadata": {
        "id": "Ky07CngbUsTO"
      },
      "execution_count": null,
      "outputs": []
    },
    {
      "cell_type": "code",
      "source": [
        "query = 'What is Biology?'\n",
        "docs = chroma_db.similarity_search_with_score(query=query, k=1)\n",
        "docs"
      ],
      "metadata": {
        "id": "Z3x5UJglWFcC"
      },
      "execution_count": null,
      "outputs": []
    },
    {
      "cell_type": "markdown",
      "source": [
        "### Updating documents in the Vector DB\n",
        "\n",
        "While building toward a real application, you want to go beyond adding data, and also update and delete data.\n",
        "\n",
        "Chroma has users provide ids to simplify the bookkeeping here and update documents as shown below using the `update_documents`function"
      ],
      "metadata": {
        "id": "XdBtHtSMbBCM"
      }
    },
    {
      "cell_type": "code",
      "source": [
        "chroma_db.get(['doc_3'])"
      ],
      "metadata": {
        "id": "FfihAFixWeFy"
      },
      "execution_count": null,
      "outputs": []
    },
    {
      "cell_type": "code",
      "source": [
        "from langchain_core.documents import Document\n",
        "\n",
        "ids = ['doc_3']\n",
        "texts = ['AI is known as Artificial Intelligence. Artificial Intelligence aims to create machines that can think and learn.']\n",
        "documents = [Document(page_content=text, metadata={'doc': id})\n",
        "                for id, text in zip(ids,texts)]\n",
        "documents"
      ],
      "metadata": {
        "id": "XAwRqzfZWSEe"
      },
      "execution_count": null,
      "outputs": []
    },
    {
      "cell_type": "code",
      "source": [
        "chroma_db.update_documents(ids=ids,documents=documents)"
      ],
      "metadata": {
        "id": "8b5roh90jn1I"
      },
      "execution_count": null,
      "outputs": []
    },
    {
      "cell_type": "code",
      "source": [
        "chroma_db.get(['doc_3'])"
      ],
      "metadata": {
        "id": "lymdyvHFYKeG"
      },
      "execution_count": null,
      "outputs": []
    },
    {
      "cell_type": "code",
      "source": [
        "query = 'What is AI?'\n",
        "docs = chroma_db.similarity_search_with_score(query=query, k=1)\n",
        "docs"
      ],
      "metadata": {
        "id": "cbw49i-iYN8z"
      },
      "execution_count": null,
      "outputs": []
    },
    {
      "cell_type": "markdown",
      "source": [
        "### Deleting documents in the Vector DB\n",
        "\n",
        "Chroma has users provide ids to simplify the bookkeeping here and delete documents as shown below using the `delete`function"
      ],
      "metadata": {
        "id": "x0dr_3hqbQnc"
      }
    },
    {
      "cell_type": "code",
      "source": [
        "chroma_db.delete(['doc_9'])"
      ],
      "metadata": {
        "id": "u9Ie_7apYUoh"
      },
      "execution_count": null,
      "outputs": []
    },
    {
      "cell_type": "code",
      "source": [
        "chroma_db.get()"
      ],
      "metadata": {
        "id": "oOi9ZPINYXHb"
      },
      "execution_count": null,
      "outputs": []
    },
    {
      "cell_type": "markdown",
      "source": [
        "### Load Vector DB from disk\n",
        "\n",
        "Once you have saved your DB to disk, you can load it up anytime and connect to it and run queries as shown below"
      ],
      "metadata": {
        "id": "okbliKQzbWan"
      }
    },
    {
      "cell_type": "code",
      "source": [
        "# load from disk\n",
        "db = Chroma(persist_directory=\"./chroma_db\",\n",
        "            embedding_function=openai_embed_model,\n",
        "            collection_name='search_docs')\n",
        "\n",
        "query = 'What is AI?'\n",
        "docs = db.similarity_search_with_score(query=query, k=1)\n",
        "docs"
      ],
      "metadata": {
        "id": "sQZ_1784Yp_0"
      },
      "execution_count": null,
      "outputs": []
    }
  ]
}